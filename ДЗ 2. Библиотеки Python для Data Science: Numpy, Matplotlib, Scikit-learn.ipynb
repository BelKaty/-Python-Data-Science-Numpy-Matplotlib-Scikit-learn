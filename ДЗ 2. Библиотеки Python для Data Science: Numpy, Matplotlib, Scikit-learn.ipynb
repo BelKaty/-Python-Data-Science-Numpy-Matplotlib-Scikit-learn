{
  "nbformat": 4,
  "nbformat_minor": 0,
  "metadata": {
    "colab": {
      "provenance": [],
      "authorship_tag": "ABX9TyOuqJqnhZs0GatGU+h0aLRR",
      "include_colab_link": true
    },
    "kernelspec": {
      "name": "python3",
      "display_name": "Python 3"
    },
    "language_info": {
      "name": "python"
    }
  },
  "cells": [
    {
      "cell_type": "markdown",
      "metadata": {
        "id": "view-in-github",
        "colab_type": "text"
      },
      "source": [
        "<a href=\"https://colab.research.google.com/github/BelKaty/-Python-Data-Science-Numpy-Matplotlib-Scikit-learn/blob/main/%D0%94%D0%97%202.%20%D0%91%D0%B8%D0%B1%D0%BB%D0%B8%D0%BE%D1%82%D0%B5%D0%BA%D0%B8%20Python%20%D0%B4%D0%BB%D1%8F%20Data%20Science%3A%20Numpy%2C%20Matplotlib%2C%20Scikit-learn.ipynb\" target=\"_parent\"><img src=\"https://colab.research.google.com/assets/colab-badge.svg\" alt=\"Open In Colab\"/></a>"
      ]
    },
    {
      "cell_type": "markdown",
      "source": [
        "# Библиотеки Python для Data Science: Numpy, Matplotlib, Scikit-learn"
      ],
      "metadata": {
        "id": "M0yXxC15yign"
      }
    },
    {
      "cell_type": "markdown",
      "source": [
        "### Тема “Визуализация данных в Matplotlib”"
      ],
      "metadata": {
        "id": "DWV361GosGxs"
      }
    },
    {
      "cell_type": "markdown",
      "source": [
        "Задание 1\n",
        "\n",
        "Загрузите модуль pyplot библиотеки matplotlib с псевдонимом plt, а также библиотеку numpy с псевдонимом np.\n",
        "\n",
        "Примените магическую функцию %matplotlib inline для отображения графиков в Jupyter Notebook и настройки конфигурации ноутбука со значением 'svg' для более четкого отображения графиков.\n",
        "\n",
        "Создайте список под названием x с числами 1, 2, 3, 4, 5, 6, 7 и список y с числами 3.5, 3.8, 4.2, 4.5, 5, 5.5, 7.\n",
        "\n",
        "С помощью функции plot постройте график, соединяющий линиями точки с горизонтальными координатами из списка x и вертикальными - из списка y.\n",
        "\n",
        "Затем в следующей ячейке постройте диаграмму рассеяния (другие названия - диаграмма разброса,scatter plot)."
      ],
      "metadata": {
        "id": "Vta7ranKsOWn"
      }
    },
    {
      "cell_type": "code",
      "source": [
        "import numpy as np\n",
        "import pandas as pd\n",
        "import matplotlib.pyplot as plt"
      ],
      "metadata": {
        "id": "ord_aEEh0Fi0"
      },
      "execution_count": 1,
      "outputs": []
    },
    {
      "cell_type": "code",
      "execution_count": 2,
      "metadata": {
        "colab": {
          "base_uri": "https://localhost:8080/",
          "height": 1000
        },
        "id": "gTuRfLDbr5aT",
        "outputId": "b43a11bc-5b04-4525-8069-7df7af33a12a"
      },
      "outputs": [
        {
          "output_type": "display_data",
          "data": {
            "text/plain": [
              "<Figure size 640x480 with 1 Axes>"
            ],
            "image/png": "[encoded data removed]"
          },
          "metadata": {}
        },
        {
          "output_type": "execute_result",
          "data": {
            "text/plain": [
              "<function matplotlib.pyplot.show(close=None, block=None)>"
            ],
            "text/html": [
              "<div style=\"max-width:800px; border: 1px solid var(--colab-border-color);\"><style>\n",
              "      pre.function-repr-contents {\n",
              "        overflow-x: auto;\n",
              "        padding: 8px 12px;\n",
              "        max-height: 500px;\n",
              "      }\n",
              "\n",
              "      pre.function-repr-contents.function-repr-contents-collapsed {\n",
              "        cursor: pointer;\n",
              "        max-height: 100px;\n",
              "      }\n",
              "    </style>\n",
              "    <pre style=\"white-space: initial; background:\n",
              "         var(--colab-secondary-surface-color); padding: 8px 12px;\n",
              "         border-bottom: 1px solid var(--colab-border-color);\"><b>matplotlib.pyplot.show</b><br/>def show(*args, **kwargs)</pre><pre class=\"function-repr-contents function-repr-contents-collapsed\" style=\"\"><a class=\"filepath\" style=\"display:none\" href=\"#\">/usr/local/lib/python3.10/dist-packages/matplotlib/pyplot.py</a>Display all open figures.\n",
              "\n",
              "Parameters\n",
              "----------\n",
              "block : bool, optional\n",
              "    Whether to wait for all figures to be closed before returning.\n",
              "\n",
              "    If `True` block and run the GUI main loop until all figure windows\n",
              "    are closed.\n",
              "\n",
              "    If `False` ensure that all figure windows are displayed and return\n",
              "    immediately.  In this case, you are responsible for ensuring\n",
              "    that the event loop is running to have responsive figures.\n",
              "\n",
              "    Defaults to True in non-interactive mode and to False in interactive\n",
              "    mode (see `.pyplot.isinteractive`).\n",
              "\n",
              "See Also\n",
              "--------\n",
              "ion : Enable interactive mode, which shows / updates the figure after\n",
              "      every plotting command, so that calling ``show()`` is not necessary.\n",
              "ioff : Disable interactive mode.\n",
              "savefig : Save the figure to an image file instead of showing it on screen.\n",
              "\n",
              "Notes\n",
              "-----\n",
              "**Saving figures to file and showing a window at the same time**\n",
              "\n",
              "If you want an image file as well as a user interface window, use\n",
              "`.pyplot.savefig` before `.pyplot.show`. At the end of (a blocking)\n",
              "``show()`` the figure is closed and thus unregistered from pyplot. Calling\n",
              "`.pyplot.savefig` afterwards would save a new and thus empty figure. This\n",
              "limitation of command order does not apply if the show is non-blocking or\n",
              "if you keep a reference to the figure and use `.Figure.savefig`.\n",
              "\n",
              "**Auto-show in jupyter notebooks**\n",
              "\n",
              "The jupyter backends (activated via ``%matplotlib inline``,\n",
              "``%matplotlib notebook``, or ``%matplotlib widget``), call ``show()`` at\n",
              "the end of every cell by default. Thus, you usually don&#x27;t have to call it\n",
              "explicitly there.</pre>\n",
              "      <script>\n",
              "      if (google.colab.kernel.accessAllowed && google.colab.files && google.colab.files.view) {\n",
              "        for (const element of document.querySelectorAll('.filepath')) {\n",
              "          element.style.display = 'block'\n",
              "          element.onclick = (event) => {\n",
              "            event.preventDefault();\n",
              "            event.stopPropagation();\n",
              "            google.colab.files.view(element.textContent, 401);\n",
              "          };\n",
              "        }\n",
              "      }\n",
              "      for (const element of document.querySelectorAll('.function-repr-contents')) {\n",
              "        element.onclick = (event) => {\n",
              "          event.preventDefault();\n",
              "          event.stopPropagation();\n",
              "          element.classList.toggle('function-repr-contents-collapsed');\n",
              "        };\n",
              "      }\n",
              "      </script>\n",
              "      </div>"
            ]
          },
          "metadata": {},
          "execution_count": 2
        },
        {
          "output_type": "display_data",
          "data": {
            "text/plain": [
              "<Figure size 640x480 with 1 Axes>"
            ],
            "image/png": "[encoded data removed]"
          },
          "metadata": {}
        }
      ],
      "source": [
        "x = [1, 2, 3, 4, 5, 6, 7]\n",
        "y = [3.5, 3.8, 4.2, 4.5, 5, 5.5, 7]\n",
        "plt.plot(x, y)\n",
        "plt.show()\n",
        "plt.scatter(x, y)\n",
        "plt.show"
      ]
    },
    {
      "cell_type": "markdown",
      "source": [
        "Задание 2\n",
        "\n",
        "С помощью функции linspace из библиотеки Numpy создайте массив t из 51 числа от 0 до 10 включительно.\n",
        "\n",
        "Создайте массив Numpy под названием f, содержащий косинусы элементов массива t.\n",
        "\n",
        "Постройте линейную диаграмму, используя массив t для координат по горизонтали,а массив f - для координат по вертикали. Линия графика должна быть зеленого цвета.\n",
        "\n",
        "Выведите название диаграммы - 'График f(t)'. Также добавьте названия для горизонтальной оси -\n",
        "'Значения t' и для вертикальной - 'Значения f'.\n",
        "\n",
        "Ограничьте график по оси x значениями 0.5 и 9.5, а по оси y - значениями -2.5 и 2.5."
      ],
      "metadata": {
        "id": "ZrTrfta3trcl"
      }
    },
    {
      "cell_type": "code",
      "source": [
        "t = np.linspace(0, 10, num = 51)\n",
        "print(t)\n",
        "f = np.array(np.cos(t))\n",
        "%config InlineBackend.figure_format = 'svg'\n",
        "plt.plot(t,f, 'g')\n",
        "title_font = {\n",
        "    \"fontsize\": 16,\n",
        "    \"fontweight\": \"bold\",\n",
        "    \"color\": \"black\",\n",
        "    \"family\": \"serif\"\n",
        "    }\n",
        "label_font = {\n",
        "    \"fontsize\": 9,\n",
        "    \"family\": \"serif\",\n",
        "    }\n",
        "plt.title(\"График f(t)\", fontdict=title_font)\n",
        "plt.xlabel(\"Значения t\", fontdict=label_font)\n",
        "plt.ylabel(\"Значения f\", fontdict=label_font)\n",
        "plt.axis([0.5, 9.5, -2.5, 2.5])\n",
        "plt.show()"
      ],
      "metadata": {
        "colab": {
          "base_uri": "https://localhost:8080/",
          "height": 531
        },
        "id": "RO8PCrh1uE3W",
        "outputId": "1fd0654d-80a9-4b6e-a949-43809c3d7b69"
      },
      "execution_count": 3,
      "outputs": [
        {
          "output_type": "stream",
          "name": "stdout",
          "text": [
            "[ 0.   0.2  0.4  0.6  0.8  1.   1.2  1.4  1.6  1.8  2.   2.2  2.4  2.6\n",
            "  2.8  3.   3.2  3.4  3.6  3.8  4.   4.2  4.4  4.6  4.8  5.   5.2  5.4\n",
            "  5.6  5.8  6.   6.2  6.4  6.6  6.8  7.   7.2  7.4  7.6  7.8  8.   8.2\n",
            "  8.4  8.6  8.8  9.   9.2  9.4  9.6  9.8 10. ]\n"
          ]
        },
        {
          "output_type": "display_data",
          "data": {
            "text/plain": [
              "<Figure size 640x480 with 1 Axes>"
            ],
            "image/svg+xml": "<?xml version=\"1.0\" encoding=\"utf-8\" standalone=\"no\"?>\n<!DOCTYPE svg PUBLIC \"-//W3C//DTD SVG 1.1//EN\"\n  \"http://www.w3.org/Graphics/SVG/1.1/DTD/svg11.dtd\">\n<svg xmlns:xlink=\"http://www.w3.org/1999/xlink\" width=\"405.9725pt\" height=\"328.057937pt\" viewBox=\"0 0 405.9725 328.057937\" xmlns=\"http://www.w3.org/2000/svg\" version=\"1.1\">\n <metadata>\n  <rdf:RDF xmlns:dc=\"http://purl.org/dc/elements/1.1/\" xmlns:cc=\"http://creativecommons.org/ns#\" xmlns:rdf=\"http://www.w3.org/1999/02/22-rdf-syntax-ns#\">\n   <cc:Work>\n    <dc:type rdf:resource=\"http://purl.org/dc/dcmitype/StillImage\"/>\n    <dc:date>2024-07-24T18:16:19.741271</dc:date>\n    <dc:format>image/svg+xml</dc:format>\n    <dc:creator>\n     <cc:Agent>\n      <dc:title>Matplotlib v3.7.1, https://matplotlib.org/</dc:title>\n     </cc:Agent>\n    </dc:creator>\n   </cc:Work>\n  </rdf:RDF>\n </metadata>\n <defs>\n  <style type=\"text/css\">*{stroke-linejoin: round; stroke-linecap: butt}</style>\n </defs>\n <g id=\"figure_1\">\n  <g id=\"patch_1\">\n   <path d=\"M 0 328.057937 \nL 405.9725 328.057937 \nL 405.9725 0 \nL 0 0 \nz\n\" style=\"fill: #ffffff\"/>\n  </g>\n  <g id=\"axes_1\">\n   <g id=\"patch_2\">\n    <path d=\"M 41.6525 291.4695 \nL 398.7725 291.4695 \nL 398.7725 25.3575 \nL 41.6525 25.3575 \nz\n\" style=\"fill: #ffffff\"/>\n   </g>\n   <g id=\"matplotlib.axis_1\">\n    <g id=\"xtick_1\">\n     <g id=\"line2d_1\">\n      <defs>\n       <path id=\"m02dd469a2e\" d=\"M 0 0 \nL 0 3.5 \n\" style=\"stroke: #000000; stroke-width: 0.8\"/>\n      </defs>\n      <g>\n       <use xlink:href=\"#m02dd469a2e\" x=\"61.4925\" y=\"291.4695\" style=\"stroke: #000000; stroke-width: 0.8\"/>\n      </g>\n     </g>\n     <g id=\"text_1\">\n      <!-- 1 -->\n      <g transform=\"translate(58.31125 306.067937) scale(0.1 -0.1)\">\n       <defs>\n        <path id=\"DejaVuSans-31\" d=\"M 794 531 \nL 1825 531 \nL 1825 4091 \nL 703 3866 \nL 703 4441 \nL 1819 4666 \nL 2450 4666 \nL 2450 531 \nL 3481 531 \nL 3481 0 \nL 794 0 \nL 794 531 \nz\n\" transform=\"scale(0.015625)\"/>\n       </defs>\n       <use xlink:href=\"#DejaVuSans-31\"/>\n      </g>\n     </g>\n    </g>\n    <g id=\"xtick_2\">\n     <g id=\"line2d_2\">\n      <g>\n       <use xlink:href=\"#m02dd469a2e\" x=\"101.1725\" y=\"291.4695\" style=\"stroke: #000000; stroke-width: 0.8\"/>\n      </g>\n     </g>\n     <g id=\"text_2\">\n      <!-- 2 -->\n      <g transform=\"translate(97.99125 306.067937) scale(0.1 -0.1)\">\n       <defs>\n        <path id=\"DejaVuSans-32\" d=\"M 1228 531 \nL 3431 531 \nL 3431 0 \nL 469 0 \nL 469 531 \nQ 828 903 1448 1529 \nQ 2069 2156 2228 2338 \nQ 2531 2678 2651 2914 \nQ 2772 3150 2772 3378 \nQ 2772 3750 2511 3984 \nQ 2250 4219 1831 4219 \nQ 1534 4219 1204 4116 \nQ 875 4013 500 3803 \nL 500 4441 \nQ 881 4594 1212 4672 \nQ 1544 4750 1819 4750 \nQ 2544 4750 2975 4387 \nQ 3406 4025 3406 3419 \nQ 3406 3131 3298 2873 \nQ 3191 2616 2906 2266 \nQ 2828 2175 2409 1742 \nQ 1991 1309 1228 531 \nz\n\" transform=\"scale(0.015625)\"/>\n       </defs>\n       <use xlink:href=\"#DejaVuSans-32\"/>\n      </g>\n     </g>\n    </g>\n    <g id=\"xtick_3\">\n     <g id=\"line2d_3\">\n      <g>\n       <use xlink:href=\"#m02dd469a2e\" x=\"140.8525\" y=\"291.4695\" style=\"stroke: #000000; stroke-width: 0.8\"/>\n      </g>\n     </g>\n     <g id=\"text_3\">\n      <!-- 3 -->\n      <g transform=\"translate(137.67125 306.067937) scale(0.1 -0.1)\">\n       <defs>\n        <path id=\"DejaVuSans-33\" d=\"M 2597 2516 \nQ 3050 2419 3304 2112 \nQ 3559 1806 3559 1356 \nQ 3559 666 3084 287 \nQ 2609 -91 1734 -91 \nQ 1441 -91 1130 -33 \nQ 819 25 488 141 \nL 488 750 \nQ 750 597 1062 519 \nQ 1375 441 1716 441 \nQ 2309 441 2620 675 \nQ 2931 909 2931 1356 \nQ 2931 1769 2642 2001 \nQ 2353 2234 1838 2234 \nL 1294 2234 \nL 1294 2753 \nL 1863 2753 \nQ 2328 2753 2575 2939 \nQ 2822 3125 2822 3475 \nQ 2822 3834 2567 4026 \nQ 2313 4219 1838 4219 \nQ 1578 4219 1281 4162 \nQ 984 4106 628 3988 \nL 628 4550 \nQ 988 4650 1302 4700 \nQ 1616 4750 1894 4750 \nQ 2613 4750 3031 4423 \nQ 3450 4097 3450 3541 \nQ 3450 3153 3228 2886 \nQ 3006 2619 2597 2516 \nz\n\" transform=\"scale(0.015625)\"/>\n       </defs>\n       <use xlink:href=\"#DejaVuSans-33\"/>\n      </g>\n     </g>\n    </g>\n    <g id=\"xtick_4\">\n     <g id=\"line2d_4\">\n      <g>\n       <use xlink:href=\"#m02dd469a2e\" x=\"180.5325\" y=\"291.4695\" style=\"stroke: #000000; stroke-width: 0.8\"/>\n      </g>\n     </g>\n     <g id=\"text_4\">\n      <!-- 4 -->\n      <g transform=\"translate(177.35125 306.067937) scale(0.1 -0.1)\">\n       <defs>\n        <path id=\"DejaVuSans-34\" d=\"M 2419 4116 \nL 825 1625 \nL 2419 1625 \nL 2419 4116 \nz\nM 2253 4666 \nL 3047 4666 \nL 3047 1625 \nL 3713 1625 \nL 3713 1100 \nL 3047 1100 \nL 3047 0 \nL 2419 0 \nL 2419 1100 \nL 313 1100 \nL 313 1709 \nL 2253 4666 \nz\n\" transform=\"scale(0.015625)\"/>\n       </defs>\n       <use xlink:href=\"#DejaVuSans-34\"/>\n      </g>\n     </g>\n    </g>\n    <g id=\"xtick_5\">\n     <g id=\"line2d_5\">\n      <g>\n       <use xlink:href=\"#m02dd469a2e\" x=\"220.2125\" y=\"291.4695\" style=\"stroke: #000000; stroke-width: 0.8\"/>\n      </g>\n     </g>\n     <g id=\"text_5\">\n      <!-- 5 -->\n      <g transform=\"translate(217.03125 306.067937) scale(0.1 -0.1)\">\n       <defs>\n        <path id=\"DejaVuSans-35\" d=\"M 691 4666 \nL 3169 4666 \nL 3169 4134 \nL 1269 4134 \nL 1269 2991 \nQ 1406 3038 1543 3061 \nQ 1681 3084 1819 3084 \nQ 2600 3084 3056 2656 \nQ 3513 2228 3513 1497 \nQ 3513 744 3044 326 \nQ 2575 -91 1722 -91 \nQ 1428 -91 1123 -41 \nQ 819 9 494 109 \nL 494 744 \nQ 775 591 1075 516 \nQ 1375 441 1709 441 \nQ 2250 441 2565 725 \nQ 2881 1009 2881 1497 \nQ 2881 1984 2565 2268 \nQ 2250 2553 1709 2553 \nQ 1456 2553 1204 2497 \nQ 953 2441 691 2322 \nL 691 4666 \nz\n\" transform=\"scale(0.015625)\"/>\n       </defs>\n       <use xlink:href=\"#DejaVuSans-35\"/>\n      </g>\n     </g>\n    </g>\n    <g id=\"xtick_6\">\n     <g id=\"line2d_6\">\n      <g>\n       <use xlink:href=\"#m02dd469a2e\" x=\"259.8925\" y=\"291.4695\" style=\"stroke: #000000; stroke-width: 0.8\"/>\n      </g>\n     </g>\n     <g id=\"text_6\">\n      <!-- 6 -->\n      <g transform=\"translate(256.71125 306.067937) scale(0.1 -0.1)\">\n       <defs>\n        <path id=\"DejaVuSans-36\" d=\"M 2113 2584 \nQ 1688 2584 1439 2293 \nQ 1191 2003 1191 1497 \nQ 1191 994 1439 701 \nQ 1688 409 2113 409 \nQ 2538 409 2786 701 \nQ 3034 994 3034 1497 \nQ 3034 2003 2786 2293 \nQ 2538 2584 2113 2584 \nz\nM 3366 4563 \nL 3366 3988 \nQ 3128 4100 2886 4159 \nQ 2644 4219 2406 4219 \nQ 1781 4219 1451 3797 \nQ 1122 3375 1075 2522 \nQ 1259 2794 1537 2939 \nQ 1816 3084 2150 3084 \nQ 2853 3084 3261 2657 \nQ 3669 2231 3669 1497 \nQ 3669 778 3244 343 \nQ 2819 -91 2113 -91 \nQ 1303 -91 875 529 \nQ 447 1150 447 2328 \nQ 447 3434 972 4092 \nQ 1497 4750 2381 4750 \nQ 2619 4750 2861 4703 \nQ 3103 4656 3366 4563 \nz\n\" transform=\"scale(0.015625)\"/>\n       </defs>\n       <use xlink:href=\"#DejaVuSans-36\"/>\n      </g>\n     </g>\n    </g>\n    <g id=\"xtick_7\">\n     <g id=\"line2d_7\">\n      <g>\n       <use xlink:href=\"#m02dd469a2e\" x=\"299.5725\" y=\"291.4695\" style=\"stroke: #000000; stroke-width: 0.8\"/>\n      </g>\n     </g>\n     <g id=\"text_7\">\n      <!-- 7 -->\n      <g transform=\"translate(296.39125 306.067937) scale(0.1 -0.1)\">\n       <defs>\n        <path id=\"DejaVuSans-37\" d=\"M 525 4666 \nL 3525 4666 \nL 3525 4397 \nL 1831 0 \nL 1172 0 \nL 2766 4134 \nL 525 4134 \nL 525 4666 \nz\n\" transform=\"scale(0.015625)\"/>\n       </defs>\n       <use xlink:href=\"#DejaVuSans-37\"/>\n      </g>\n     </g>\n    </g>\n    <g id=\"xtick_8\">\n     <g id=\"line2d_8\">\n      <g>\n       <use xlink:href=\"#m02dd469a2e\" x=\"339.2525\" y=\"291.4695\" style=\"stroke: #000000; stroke-width: 0.8\"/>\n      </g>\n     </g>\n     <g id=\"text_8\">\n      <!-- 8 -->\n      <g transform=\"translate(336.07125 306.067937) scale(0.1 -0.1)\">\n       <defs>\n        <path id=\"DejaVuSans-38\" d=\"M 2034 2216 \nQ 1584 2216 1326 1975 \nQ 1069 1734 1069 1313 \nQ 1069 891 1326 650 \nQ 1584 409 2034 409 \nQ 2484 409 2743 651 \nQ 3003 894 3003 1313 \nQ 3003 1734 2745 1975 \nQ 2488 2216 2034 2216 \nz\nM 1403 2484 \nQ 997 2584 770 2862 \nQ 544 3141 544 3541 \nQ 544 4100 942 4425 \nQ 1341 4750 2034 4750 \nQ 2731 4750 3128 4425 \nQ 3525 4100 3525 3541 \nQ 3525 3141 3298 2862 \nQ 3072 2584 2669 2484 \nQ 3125 2378 3379 2068 \nQ 3634 1759 3634 1313 \nQ 3634 634 3220 271 \nQ 2806 -91 2034 -91 \nQ 1263 -91 848 271 \nQ 434 634 434 1313 \nQ 434 1759 690 2068 \nQ 947 2378 1403 2484 \nz\nM 1172 3481 \nQ 1172 3119 1398 2916 \nQ 1625 2713 2034 2713 \nQ 2441 2713 2670 2916 \nQ 2900 3119 2900 3481 \nQ 2900 3844 2670 4047 \nQ 2441 4250 2034 4250 \nQ 1625 4250 1398 4047 \nQ 1172 3844 1172 3481 \nz\n\" transform=\"scale(0.015625)\"/>\n       </defs>\n       <use xlink:href=\"#DejaVuSans-38\"/>\n      </g>\n     </g>\n    </g>\n    <g id=\"xtick_9\">\n     <g id=\"line2d_9\">\n      <g>\n       <use xlink:href=\"#m02dd469a2e\" x=\"378.9325\" y=\"291.4695\" style=\"stroke: #000000; stroke-width: 0.8\"/>\n      </g>\n     </g>\n     <g id=\"text_9\">\n      <!-- 9 -->\n      <g transform=\"translate(375.75125 306.067937) scale(0.1 -0.1)\">\n       <defs>\n        <path id=\"DejaVuSans-39\" d=\"M 703 97 \nL 703 672 \nQ 941 559 1184 500 \nQ 1428 441 1663 441 \nQ 2288 441 2617 861 \nQ 2947 1281 2994 2138 \nQ 2813 1869 2534 1725 \nQ 2256 1581 1919 1581 \nQ 1219 1581 811 2004 \nQ 403 2428 403 3163 \nQ 403 3881 828 4315 \nQ 1253 4750 1959 4750 \nQ 2769 4750 3195 4129 \nQ 3622 3509 3622 2328 \nQ 3622 1225 3098 567 \nQ 2575 -91 1691 -91 \nQ 1453 -91 1209 -44 \nQ 966 3 703 97 \nz\nM 1959 2075 \nQ 2384 2075 2632 2365 \nQ 2881 2656 2881 3163 \nQ 2881 3666 2632 3958 \nQ 2384 4250 1959 4250 \nQ 1534 4250 1286 3958 \nQ 1038 3666 1038 3163 \nQ 1038 2656 1286 2365 \nQ 1534 2075 1959 2075 \nz\n\" transform=\"scale(0.015625)\"/>\n       </defs>\n       <use xlink:href=\"#DejaVuSans-39\"/>\n      </g>\n     </g>\n    </g>\n    <g id=\"text_10\">\n     <!-- Значения t -->\n     <g transform=\"translate(194.010547 318.986219) scale(0.09 -0.09)\">\n      <defs>\n       <path id=\"DejaVuSerif-417\" d=\"M 403 4469 \nQ 1150 4750 1797 4750 \nQ 2638 4750 3022 4454 \nQ 3406 4159 3406 3634 \nQ 3406 3213 3140 2930 \nQ 2875 2647 2388 2547 \nQ 2963 2466 3280 2130 \nQ 3597 1794 3597 1259 \nQ 3597 606 3158 257 \nQ 2719 -91 1969 -91 \nQ 1219 -91 842 204 \nQ 466 500 347 828 \nL 922 828 \nQ 944 650 1237 434 \nQ 1531 219 1956 219 \nQ 2384 219 2661 495 \nQ 2938 772 2938 1288 \nQ 2938 1803 2656 2083 \nQ 2375 2363 1691 2363 \nL 1394 2363 \nL 1394 2694 \nL 1550 2694 \nQ 2231 2694 2501 2917 \nQ 2772 3141 2772 3575 \nQ 2772 4006 2547 4223 \nQ 2322 4441 1791 4441 \nQ 1259 4441 1026 4241 \nQ 794 4041 753 3647 \nL 403 3647 \nL 403 4469 \nz\n\" transform=\"scale(0.015625)\"/>\n       <path id=\"DejaVuSerif-43d\" d=\"M 3409 2991 \nL 3409 331 \nL 3928 331 \nL 3928 0 \nL 2316 0 \nL 2316 331 \nL 2834 331 \nL 2834 1613 \nL 1313 1613 \nL 1313 331 \nL 1831 331 \nL 1831 0 \nL 219 0 \nL 219 331 \nL 738 331 \nL 738 2991 \nL 219 2991 \nL 219 3322 \nL 1831 3322 \nL 1831 2991 \nL 1313 2991 \nL 1313 2000 \nL 2834 2000 \nL 2834 2991 \nL 2316 2991 \nL 2316 3322 \nL 3928 3322 \nL 3928 2991 \nL 3409 2991 \nz\n\" transform=\"scale(0.015625)\"/>\n       <path id=\"DejaVuSerif-430\" d=\"M 2547 1044 \nL 2547 1747 \nL 1806 1747 \nQ 1378 1747 1168 1562 \nQ 959 1378 959 997 \nQ 959 650 1171 447 \nQ 1384 244 1747 244 \nQ 2106 244 2326 466 \nQ 2547 688 2547 1044 \nz\nM 3122 2075 \nL 3122 331 \nL 3634 331 \nL 3634 0 \nL 2547 0 \nL 2547 359 \nQ 2356 128 2106 18 \nQ 1856 -91 1522 -91 \nQ 969 -91 644 203 \nQ 319 497 319 997 \nQ 319 1513 691 1797 \nQ 1063 2081 1741 2081 \nL 2547 2081 \nL 2547 2309 \nQ 2547 2688 2317 2895 \nQ 2088 3103 1672 3103 \nQ 1328 3103 1125 2947 \nQ 922 2791 872 2484 \nL 575 2484 \nL 575 3156 \nQ 875 3284 1158 3348 \nQ 1441 3413 1709 3413 \nQ 2400 3413 2761 3070 \nQ 3122 2728 3122 2075 \nz\n\" transform=\"scale(0.015625)\"/>\n       <path id=\"DejaVuSerif-447\" d=\"M 3891 3322 \nL 3891 2991 \nL 3372 2991 \nL 3372 331 \nL 3891 331 \nL 3891 0 \nL 2278 0 \nL 2278 331 \nL 2797 331 \nL 2797 1309 \nL 1503 1309 \nQ 1209 1309 973 1529 \nQ 738 1750 738 1991 \nL 738 2991 \nL 219 2991 \nL 219 3322 \nL 1813 3322 \nL 1813 2991 \nL 1313 2991 \nL 1313 2306 \nQ 1313 1947 1420 1822 \nQ 1528 1697 1716 1697 \nL 2797 1697 \nL 2797 2991 \nL 2297 2991 \nL 2297 3322 \nL 3891 3322 \nz\n\" transform=\"scale(0.015625)\"/>\n       <path id=\"DejaVuSerif-435\" d=\"M 3469 1600 \nL 991 1600 \nL 991 1575 \nQ 991 903 1244 561 \nQ 1497 219 1991 219 \nQ 2369 219 2611 417 \nQ 2853 616 2950 1006 \nL 3413 1006 \nQ 3275 459 2904 184 \nQ 2534 -91 1931 -91 \nQ 1203 -91 761 389 \nQ 319 869 319 1663 \nQ 319 2450 753 2931 \nQ 1188 3413 1894 3413 \nQ 2647 3413 3050 2948 \nQ 3453 2484 3469 1600 \nz\nM 2791 1931 \nQ 2772 2513 2545 2808 \nQ 2319 3103 1894 3103 \nQ 1497 3103 1269 2806 \nQ 1041 2509 991 1931 \nL 2791 1931 \nz\n\" transform=\"scale(0.015625)\"/>\n       <path id=\"DejaVuSerif-438\" d=\"M 219 0 \nL 219 331 \nL 738 331 \nL 738 2991 \nL 219 2991 \nL 219 3322 \nL 1831 3322 \nL 1831 2991 \nL 1313 2991 \nL 1313 1084 \nL 2834 2694 \nL 2834 2991 \nL 2316 2991 \nL 2316 3322 \nL 3928 3322 \nL 3928 2991 \nL 3409 2991 \nL 3409 331 \nL 3928 331 \nL 3928 0 \nL 2316 0 \nL 2316 331 \nL 2834 331 \nL 2834 2188 \nL 1313 578 \nL 1313 331 \nL 1831 331 \nL 1831 0 \nL 219 0 \nz\n\" transform=\"scale(0.015625)\"/>\n       <path id=\"DejaVuSerif-44f\" d=\"M 2572 1866 \nL 2572 2991 \nL 1844 2991 \nQ 1506 2991 1347 2834 \nQ 1188 2678 1188 2431 \nQ 1188 2184 1345 2025 \nQ 1503 1866 1844 1866 \nL 2572 1866 \nz\nM 3700 3322 \nL 3700 2991 \nL 3147 2991 \nL 3147 331 \nL 3666 331 \nL 3666 0 \nL 2072 0 \nL 2072 331 \nL 2572 331 \nL 2572 1544 \nL 2059 1544 \nL 1100 0 \nL 203 0 \nL 203 331 \nL 663 331 \nL 1441 1584 \nQ 1219 1644 894 1844 \nQ 569 2044 569 2488 \nQ 569 2859 833 3090 \nQ 1097 3322 1581 3322 \nL 3700 3322 \nz\n\" transform=\"scale(0.015625)\"/>\n       <path id=\"DejaVuSerif-20\" transform=\"scale(0.015625)\"/>\n       <path id=\"DejaVuSerif-74\" d=\"M 691 2988 \nL 184 2988 \nL 184 3322 \nL 691 3322 \nL 691 4353 \nL 1269 4353 \nL 1269 3322 \nL 2350 3322 \nL 2350 2988 \nL 1269 2988 \nL 1269 878 \nQ 1269 456 1350 337 \nQ 1431 219 1650 219 \nQ 1875 219 1978 351 \nQ 2081 484 2088 781 \nL 2522 781 \nQ 2497 328 2275 118 \nQ 2053 -91 1600 -91 \nQ 1103 -91 897 129 \nQ 691 350 691 878 \nL 691 2988 \nz\n\" transform=\"scale(0.015625)\"/>\n      </defs>\n      <use xlink:href=\"#DejaVuSerif-417\"/>\n      <use xlink:href=\"#DejaVuSerif-43d\" x=\"62.304688\"/>\n      <use xlink:href=\"#DejaVuSerif-430\" x=\"128.955078\"/>\n      <use xlink:href=\"#DejaVuSerif-447\" x=\"188.574219\"/>\n      <use xlink:href=\"#DejaVuSerif-435\" x=\"254.6875\"/>\n      <use xlink:href=\"#DejaVuSerif-43d\" x=\"313.867188\"/>\n      <use xlink:href=\"#DejaVuSerif-438\" x=\"380.517578\"/>\n      <use xlink:href=\"#DejaVuSerif-44f\" x=\"447.167969\"/>\n      <use xlink:href=\"#DejaVuSerif-20\" x=\"510.253906\"/>\n      <use xlink:href=\"#DejaVuSerif-74\" x=\"542.041016\"/>\n     </g>\n    </g>\n   </g>\n   <g id=\"matplotlib.axis_2\">\n    <g id=\"ytick_1\">\n     <g id=\"line2d_10\">\n      <defs>\n       <path id=\"m05d614e072\" d=\"M 0 0 \nL -3.5 0 \n\" style=\"stroke: #000000; stroke-width: 0.8\"/>\n      </defs>\n      <g>\n       <use xlink:href=\"#m05d614e072\" x=\"41.6525\" y=\"264.8583\" style=\"stroke: #000000; stroke-width: 0.8\"/>\n      </g>\n     </g>\n     <g id=\"text_11\">\n      <!-- −2 -->\n      <g transform=\"translate(19.910313 268.657519) scale(0.1 -0.1)\">\n       <defs>\n        <path id=\"DejaVuSans-2212\" d=\"M 678 2272 \nL 4684 2272 \nL 4684 1741 \nL 678 1741 \nL 678 2272 \nz\n\" transform=\"scale(0.015625)\"/>\n       </defs>\n       <use xlink:href=\"#DejaVuSans-2212\"/>\n       <use xlink:href=\"#DejaVuSans-32\" x=\"83.789062\"/>\n      </g>\n     </g>\n    </g>\n    <g id=\"ytick_2\">\n     <g id=\"line2d_11\">\n      <g>\n       <use xlink:href=\"#m05d614e072\" x=\"41.6525\" y=\"211.6359\" style=\"stroke: #000000; stroke-width: 0.8\"/>\n      </g>\n     </g>\n     <g id=\"text_12\">\n      <!-- −1 -->\n      <g transform=\"translate(19.910313 215.435119) scale(0.1 -0.1)\">\n       <use xlink:href=\"#DejaVuSans-2212\"/>\n       <use xlink:href=\"#DejaVuSans-31\" x=\"83.789062\"/>\n      </g>\n     </g>\n    </g>\n    <g id=\"ytick_3\">\n     <g id=\"line2d_12\">\n      <g>\n       <use xlink:href=\"#m05d614e072\" x=\"41.6525\" y=\"158.4135\" style=\"stroke: #000000; stroke-width: 0.8\"/>\n      </g>\n     </g>\n     <g id=\"text_13\">\n      <!-- 0 -->\n      <g transform=\"translate(28.29 162.212719) scale(0.1 -0.1)\">\n       <defs>\n        <path id=\"DejaVuSans-30\" d=\"M 2034 4250 \nQ 1547 4250 1301 3770 \nQ 1056 3291 1056 2328 \nQ 1056 1369 1301 889 \nQ 1547 409 2034 409 \nQ 2525 409 2770 889 \nQ 3016 1369 3016 2328 \nQ 3016 3291 2770 3770 \nQ 2525 4250 2034 4250 \nz\nM 2034 4750 \nQ 2819 4750 3233 4129 \nQ 3647 3509 3647 2328 \nQ 3647 1150 3233 529 \nQ 2819 -91 2034 -91 \nQ 1250 -91 836 529 \nQ 422 1150 422 2328 \nQ 422 3509 836 4129 \nQ 1250 4750 2034 4750 \nz\n\" transform=\"scale(0.015625)\"/>\n       </defs>\n       <use xlink:href=\"#DejaVuSans-30\"/>\n      </g>\n     </g>\n    </g>\n    <g id=\"ytick_4\">\n     <g id=\"line2d_13\">\n      <g>\n       <use xlink:href=\"#m05d614e072\" x=\"41.6525\" y=\"105.1911\" style=\"stroke: #000000; stroke-width: 0.8\"/>\n      </g>\n     </g>\n     <g id=\"text_14\">\n      <!-- 1 -->\n      <g transform=\"translate(28.29 108.990319) scale(0.1 -0.1)\">\n       <use xlink:href=\"#DejaVuSans-31\"/>\n      </g>\n     </g>\n    </g>\n    <g id=\"ytick_5\">\n     <g id=\"line2d_14\">\n      <g>\n       <use xlink:href=\"#m05d614e072\" x=\"41.6525\" y=\"51.9687\" style=\"stroke: #000000; stroke-width: 0.8\"/>\n      </g>\n     </g>\n     <g id=\"text_15\">\n      <!-- 2 -->\n      <g transform=\"translate(28.29 55.767919) scale(0.1 -0.1)\">\n       <use xlink:href=\"#DejaVuSans-32\"/>\n      </g>\n     </g>\n    </g>\n    <g id=\"text_16\">\n     <!-- Значения f -->\n     <g transform=\"translate(14.038594 184.472719) rotate(-90) scale(0.09 -0.09)\">\n      <defs>\n       <path id=\"DejaVuSerif-66\" d=\"M 2753 4078 \nL 2450 4078 \nQ 2447 4313 2317 4434 \nQ 2188 4556 1941 4556 \nQ 1619 4556 1487 4379 \nQ 1356 4203 1356 3750 \nL 1356 3322 \nL 2284 3322 \nL 2284 2988 \nL 1356 2988 \nL 1356 331 \nL 2094 331 \nL 2094 0 \nL 231 0 \nL 231 331 \nL 781 331 \nL 781 2988 \nL 231 2988 \nL 231 3322 \nL 781 3322 \nL 781 3738 \nQ 781 4294 1070 4578 \nQ 1359 4863 1919 4863 \nQ 2128 4863 2337 4825 \nQ 2547 4788 2753 4709 \nL 2753 4078 \nz\n\" transform=\"scale(0.015625)\"/>\n      </defs>\n      <use xlink:href=\"#DejaVuSerif-417\"/>\n      <use xlink:href=\"#DejaVuSerif-43d\" x=\"62.304688\"/>\n      <use xlink:href=\"#DejaVuSerif-430\" x=\"128.955078\"/>\n      <use xlink:href=\"#DejaVuSerif-447\" x=\"188.574219\"/>\n      <use xlink:href=\"#DejaVuSerif-435\" x=\"254.6875\"/>\n      <use xlink:href=\"#DejaVuSerif-43d\" x=\"313.867188\"/>\n      <use xlink:href=\"#DejaVuSerif-438\" x=\"380.517578\"/>\n      <use xlink:href=\"#DejaVuSerif-44f\" x=\"447.167969\"/>\n      <use xlink:href=\"#DejaVuSerif-20\" x=\"510.253906\"/>\n      <use xlink:href=\"#DejaVuSerif-66\" x=\"542.041016\"/>\n     </g>\n    </g>\n   </g>\n   <g id=\"line2d_15\">\n    <path d=\"M 21.8125 105.1911 \nL 29.7485 106.252005 \nL 37.6845 109.392423 \nL 45.6205 114.487158 \nL 53.5565 121.333097 \nL 61.4925 129.657315 \nL 69.4285 139.127951 \nL 77.3645 149.367441 \nL 85.3005 159.967569 \nL 93.2365 170.505741 \nL 101.1725 180.561833 \nL 109.1085 189.734942 \nL 117.0445 197.659363 \nL 124.9805 204.019176 \nL 132.9165 208.560834 \nL 140.8525 211.103277 \nL 148.7885 211.545144 \nL 156.7245 209.86882 \nL 164.6605 206.141135 \nL 172.5965 200.5107 \nL 180.5325 193.201982 \nL 188.4685 184.506358 \nL 196.4045 174.770493 \nL 204.3405 164.382527 \nL 212.2765 153.756594 \nL 220.2125 143.316318 \nL 228.1485 133.477918 \nL 236.0845 124.633622 \nL 244.0205 117.136023 \nL 251.9565 111.284026 \nL 259.8925 107.310933 \nL 267.8285 105.375138 \nL 275.7645 105.553815 \nL 283.7005 107.839841 \nL 291.6365 112.142079 \nL 299.5725 118.289013 \nL 307.5085 126.035583 \nL 315.4445 135.072959 \nL 323.3805 145.040848 \nL 331.3165 155.541863 \nL 339.2525 166.157361 \nL 347.1885 176.464136 \nL 355.1245 186.051288 \nL 363.0605 194.53661 \nL 370.9965 201.581817 \nL 378.9325 206.906039 \nL 386.8685 210.297017 \nL 394.8045 211.619563 \nL 402.7405 210.820951 \nL 406.9725 209.280915 \n\" clip-path=\"url(#p605ff8a457)\" style=\"fill: none; stroke: #008000; stroke-width: 1.5; stroke-linecap: square\"/>\n   </g>\n   <g id=\"patch_3\">\n    <path d=\"M 41.6525 291.4695 \nL 41.6525 25.3575 \n\" style=\"fill: none; stroke: #000000; stroke-width: 0.8; stroke-linejoin: miter; stroke-linecap: square\"/>\n   </g>\n   <g id=\"patch_4\">\n    <path d=\"M 398.7725 291.4695 \nL 398.7725 25.3575 \n\" style=\"fill: none; stroke: #000000; stroke-width: 0.8; stroke-linejoin: miter; stroke-linecap: square\"/>\n   </g>\n   <g id=\"patch_5\">\n    <path d=\"M 41.6525 291.4695 \nL 398.7725 291.4695 \n\" style=\"fill: none; stroke: #000000; stroke-width: 0.8; stroke-linejoin: miter; stroke-linecap: square\"/>\n   </g>\n   <g id=\"patch_6\">\n    <path d=\"M 41.6525 25.3575 \nL 398.7725 25.3575 \n\" style=\"fill: none; stroke: #000000; stroke-width: 0.8; stroke-linejoin: miter; stroke-linecap: square\"/>\n   </g>\n   <g id=\"text_17\">\n    <!-- График f(t) -->\n    <g transform=\"translate(167.49375 19.3575) scale(0.16 -0.16)\">\n     <defs>\n      <path id=\"DejaVuSerif-Bold-413\" d=\"M 2106 378 \nL 2841 378 \nL 2841 0 \nL 300 0 \nL 300 378 \nL 897 378 \nL 897 4288 \nL 300 4288 \nL 300 4666 \nL 4334 4666 \nL 4334 3566 \nL 3906 3566 \nL 3906 4238 \nL 2106 4238 \nL 2106 378 \nz\n\" transform=\"scale(0.015625)\"/>\n      <path id=\"DejaVuSerif-Bold-440\" d=\"M 1728 1825 \nL 1728 1497 \nQ 1728 916 1876 656 \nQ 2025 397 2356 397 \nQ 2697 397 2836 672 \nQ 2975 947 2975 1663 \nQ 2975 2378 2836 2651 \nQ 2697 2925 2356 2925 \nQ 2025 2925 1876 2665 \nQ 1728 2406 1728 1825 \nz\nM 622 2944 \nL 147 2944 \nL 147 3322 \nL 1728 3322 \nL 1728 2900 \nQ 1869 3159 2106 3286 \nQ 2344 3413 2694 3413 \nQ 3403 3413 3811 2945 \nQ 4219 2478 4219 1663 \nQ 4219 847 3811 378 \nQ 3403 -91 2694 -91 \nQ 2344 -91 2106 36 \nQ 1869 163 1728 422 \nL 1728 -953 \nL 2241 -953 \nL 2241 -1331 \nL 147 -1331 \nL 147 -953 \nL 622 -953 \nL 622 2944 \nz\n\" transform=\"scale(0.015625)\"/>\n      <path id=\"DejaVuSerif-Bold-430\" d=\"M 3525 2041 \nL 3525 378 \nL 4000 378 \nL 4000 0 \nL 2419 0 \nL 2419 422 \nQ 2200 159 1931 34 \nQ 1663 -91 1319 -91 \nQ 809 -91 536 182 \nQ 263 456 263 966 \nQ 263 1525 655 1803 \nQ 1047 2081 1838 2081 \nL 2419 2081 \nL 2419 2278 \nQ 2419 2681 2228 2873 \nQ 2038 3066 1638 3066 \nQ 1306 3066 1126 2930 \nQ 947 2794 872 2484 \nL 519 2484 \nL 519 3200 \nQ 816 3306 1134 3359 \nQ 1453 3413 1806 3413 \nQ 2697 3413 3111 3081 \nQ 3525 2750 3525 2041 \nz\nM 2419 1044 \nL 2419 1709 \nL 2003 1709 \nQ 1694 1709 1528 1540 \nQ 1363 1372 1363 1056 \nQ 1363 741 1483 584 \nQ 1603 428 1850 428 \nQ 2106 428 2262 597 \nQ 2419 766 2419 1044 \nz\n\" transform=\"scale(0.015625)\"/>\n      <path id=\"DejaVuSerif-Bold-444\" d=\"M 1494 1663 \nQ 1494 863 1626 588 \nQ 1759 313 1919 313 \nQ 2175 313 2291 484 \nL 2334 553 \nL 2334 2772 \nL 2291 2838 \nQ 2175 3009 1919 3009 \nQ 1759 3009 1626 2734 \nQ 1494 2459 1494 1663 \nz\nM 3441 553 \nL 3484 484 \nQ 3600 313 3856 313 \nQ 4016 313 4148 588 \nQ 4281 863 4281 1663 \nQ 4281 2459 4148 2734 \nQ 4016 3009 3856 3009 \nQ 3600 3009 3484 2838 \nL 3441 2772 \nL 3441 553 \nz\nM 259 1663 \nQ 259 2481 750 2947 \nQ 1241 3413 1700 3413 \nQ 2150 3413 2291 3191 \nL 2334 3125 \nL 2334 4488 \nL 1841 4488 \nL 1841 4863 \nL 3441 4863 \nL 3441 3125 \nL 3484 3191 \nQ 3625 3413 4075 3413 \nQ 4534 3413 5025 2947 \nQ 5516 2481 5516 1663 \nQ 5516 841 5025 375 \nQ 4534 -91 4075 -91 \nQ 3625 -91 3484 131 \nL 3441 200 \nL 3441 -953 \nL 3916 -953 \nL 3916 -1331 \nL 1859 -1331 \nL 1859 -953 \nL 2334 -953 \nL 2334 200 \nL 2291 131 \nQ 2150 -91 1700 -91 \nQ 1241 -91 750 375 \nQ 259 841 259 1663 \nz\n\" transform=\"scale(0.015625)\"/>\n      <path id=\"DejaVuSerif-Bold-438\" d=\"M 219 0 \nL 219 378 \nL 691 378 \nL 691 2944 \nL 219 2944 \nL 219 3322 \nL 2203 3322 \nL 2203 2944 \nL 1797 2944 \nL 1797 1438 \nL 2950 2572 \nL 2950 2944 \nL 2541 2944 \nL 2541 3322 \nL 4531 3322 \nL 4531 2944 \nL 4056 2944 \nL 4056 378 \nL 4531 378 \nL 4531 0 \nL 2541 0 \nL 2541 378 \nL 2950 378 \nL 2950 1866 \nL 1797 731 \nL 1797 378 \nL 2203 378 \nL 2203 0 \nL 219 0 \nz\n\" transform=\"scale(0.015625)\"/>\n      <path id=\"DejaVuSerif-Bold-43a\" d=\"M 219 0 \nL 219 378 \nL 691 378 \nL 691 2947 \nL 219 2947 \nL 219 3322 \nL 2203 3322 \nL 2203 2947 \nL 1797 2947 \nL 1797 1741 \nL 3138 2944 \nL 2741 2944 \nL 2741 3322 \nL 4256 3322 \nL 4256 2944 \nL 3641 2944 \nL 2784 2175 \nL 4184 378 \nL 4544 378 \nL 4544 0 \nL 2638 0 \nL 2638 378 \nL 3028 378 \nL 2106 1563 \nL 1797 1288 \nL 1797 378 \nL 2203 378 \nL 2203 0 \nL 219 0 \nz\n\" transform=\"scale(0.015625)\"/>\n      <path id=\"DejaVuSerif-Bold-20\" transform=\"scale(0.015625)\"/>\n      <path id=\"DejaVuSerif-Bold-66\" d=\"M 3097 4031 \nL 2747 4031 \nQ 2722 4275 2605 4394 \nQ 2488 4513 2272 4513 \nQ 2022 4513 1909 4333 \nQ 1797 4153 1797 3750 \nL 1797 3322 \nL 2631 3322 \nL 2631 2944 \nL 1797 2944 \nL 1797 378 \nL 2438 378 \nL 2438 0 \nL 219 0 \nL 219 378 \nL 691 378 \nL 691 2944 \nL 197 2944 \nL 197 3322 \nL 691 3322 \nL 691 3738 \nQ 691 4291 1044 4577 \nQ 1397 4863 2081 4863 \nQ 2347 4863 2600 4833 \nQ 2853 4803 3097 4744 \nL 3097 4031 \nz\n\" transform=\"scale(0.015625)\"/>\n      <path id=\"DejaVuSerif-Bold-28\" d=\"M 2694 -997 \nQ 1641 -606 1122 122 \nQ 603 850 603 1931 \nQ 603 3013 1115 3731 \nQ 1628 4450 2694 4863 \nL 2694 4488 \nQ 2200 4188 1983 3598 \nQ 1766 3009 1766 1931 \nQ 1766 856 1983 267 \nQ 2200 -322 2694 -622 \nL 2694 -997 \nz\n\" transform=\"scale(0.015625)\"/>\n      <path id=\"DejaVuSerif-Bold-74\" d=\"M 634 2944 \nL 153 2944 \nL 153 3322 \nL 634 3322 \nL 634 4353 \nL 1741 4353 \nL 1741 3322 \nL 2663 3322 \nL 2663 2944 \nL 1741 2944 \nL 1741 909 \nQ 1741 475 1809 369 \nQ 1878 263 2059 263 \nQ 2259 263 2356 397 \nQ 2453 531 2459 813 \nL 2925 813 \nQ 2897 313 2651 111 \nQ 2406 -91 1806 -91 \nQ 1122 -91 878 123 \nQ 634 338 634 909 \nL 634 2944 \nz\n\" transform=\"scale(0.015625)\"/>\n      <path id=\"DejaVuSerif-Bold-29\" d=\"M 325 -997 \nL 325 -622 \nQ 819 -322 1036 267 \nQ 1253 856 1253 1931 \nQ 1253 3009 1036 3598 \nQ 819 4188 325 4488 \nL 325 4863 \nQ 1391 4450 1905 3731 \nQ 2419 3013 2419 1931 \nQ 2419 850 1898 122 \nQ 1378 -606 325 -997 \nz\n\" transform=\"scale(0.015625)\"/>\n     </defs>\n     <use xlink:href=\"#DejaVuSerif-Bold-413\"/>\n     <use xlink:href=\"#DejaVuSerif-Bold-440\" x=\"69.042969\"/>\n     <use xlink:href=\"#DejaVuSerif-Bold-430\" x=\"138.964844\"/>\n     <use xlink:href=\"#DejaVuSerif-Bold-444\" x=\"203.759766\"/>\n     <use xlink:href=\"#DejaVuSerif-Bold-438\" x=\"293.945312\"/>\n     <use xlink:href=\"#DejaVuSerif-Bold-43a\" x=\"368.115234\"/>\n     <use xlink:href=\"#DejaVuSerif-Bold-20\" x=\"440.332031\"/>\n     <use xlink:href=\"#DejaVuSerif-Bold-66\" x=\"475.146484\"/>\n     <use xlink:href=\"#DejaVuSerif-Bold-28\" x=\"518.164062\"/>\n     <use xlink:href=\"#DejaVuSerif-Bold-74\" x=\"565.478516\"/>\n     <use xlink:href=\"#DejaVuSerif-Bold-29\" x=\"611.669922\"/>\n    </g>\n   </g>\n  </g>\n </g>\n <defs>\n  <clipPath id=\"p605ff8a457\">\n   <rect x=\"41.6525\" y=\"25.3575\" width=\"357.12\" height=\"266.112\"/>\n  </clipPath>\n </defs>\n</svg>\n"
          },
          "metadata": {}
        }
      ]
    },
    {
      "cell_type": "markdown",
      "source": [
        "Задание 3 *\n",
        "\n",
        "С помощью функции linspace библиотеки Numpy создайте массив x из 51 числа от -3 до 3 включительно.\n",
        "\n",
        "Создайте массивы y1, y2, y3, y4 по следующим формулам:\n",
        "\n",
        "y1 = x**2\n",
        "\n",
        "y2 = 2 * x + 0.5\n",
        "\n",
        "y3 = -3 * x - 1.5\n",
        "\n",
        "y4 = sin(x)\n",
        "\n",
        "Используя функцию subplots модуля matplotlib.pyplot, создайте объект matplotlib.figure.Figure с названием fig и массив объектов Axes под названием ax,причем так, чтобы у вас было 4 отдельных графика в сетке, состоящей из двух строк и двух столбцов. В каждом графике массив x используется для координат по горизонтали.В левом верхнем графике для координат по вертикали используйте\n",
        "y1,в правом верхнем - y2, в левом нижнем - y3, в правом нижнем - y4.Дайте название графикам:\n",
        "\n",
        "'График y1', 'График y2' и т.д.\n",
        "\n",
        "Для графика в левом верхнем углу установите границы по оси x от -5 до 5.\n",
        "\n",
        "Установите размеры фигуры 8 дюймов по горизонтали и 6 дюймов по вертикали.\n",
        "\n",
        "Вертикальные и горизонтальные зазоры между графиками должны составлять 0.3."
      ],
      "metadata": {
        "id": "LzvqvP6gvQS1"
      }
    },
    {
      "cell_type": "code",
      "source": [
        "x = np.linspace(-3, 3, 51)\n",
        "y1 = x ** 2\n",
        "y2 = 2 * x + 0.5\n",
        "y3 = -3 * x - 1.5\n",
        "y4 = np.sin(x)\n",
        "fig, ax = plt.subplots(nrows=2, ncols=2)\n",
        "fig.set_size_inches(8, 6)\n",
        "fig.subplots_adjust(wspace=0.3, hspace=0.3)\n",
        "ax1, ax2, ax3, ax4 = ax.flatten()\n",
        "ax1.plot(x, y1)\n",
        "ax1.set_xlim([-5, 5])\n",
        "ax1.set_title('График y1')\n",
        "ax2.plot(x, y2)\n",
        "ax2.set_title('График y2')\n",
        "ax3.plot(x, y3)\n",
        "ax3.set_title('График y3')\n",
        "ax4.plot(x, y4)\n",
        "ax4.set_title('График y4')"
      ],
      "metadata": {
        "colab": {
          "base_uri": "https://localhost:8080/",
          "height": 544
        },
        "id": "8z3qShN7vpXV",
        "outputId": "c0876ac9-e3e0-4ebd-bd22-b6288741df6d"
      },
      "execution_count": 4,
      "outputs": [
        {
          "output_type": "execute_result",
          "data": {
            "text/plain": [
              "Text(0.5, 1.0, 'График y4')"
            ]
          },
          "metadata": {},
          "execution_count": 4
        },
        {
          "output_type": "display_data",
          "data": {
            "text/plain": [
              "<Figure size 800x600 with 4 Axes>"
            ],
            "image/svg+xml": "<?xml version=\"1.0\" encoding=\"utf-8\" standalone=\"no\"?>\n<!DOCTYPE svg PUBLIC \"-//W3C//DTD SVG 1.1//EN\"\n  \"http://www.w3.org/Graphics/SVG/1.1/DTD/svg11.dtd\">\n<svg xmlns:xlink=\"http://www.w3.org/1999/xlink\" width=\"488.904688pt\" height=\"378.83625pt\" viewBox=\"0 0 488.904688 378.83625\" xmlns=\"http://www.w3.org/2000/svg\" version=\"1.1\">\n <metadata>\n  <rdf:RDF xmlns:dc=\"http://purl.org/dc/elements/1.1/\" xmlns:cc=\"http://creativecommons.org/ns#\" xmlns:rdf=\"http://www.w3.org/1999/02/22-rdf-syntax-ns#\">\n   <cc:Work>\n    <dc:type rdf:resource=\"http://purl.org/dc/dcmitype/StillImage\"/>\n    <dc:date>2024-07-24T18:16:21.525776</dc:date>\n    <dc:format>image/svg+xml</dc:format>\n    <dc:creator>\n     <cc:Agent>\n      <dc:title>Matplotlib v3.7.1, https://matplotlib.org/</dc:title>\n     </cc:Agent>\n    </dc:creator>\n   </cc:Work>\n  </rdf:RDF>\n </metadata>\n <defs>\n  <style type=\"text/css\">*{stroke-linejoin: round; stroke-linecap: butt}</style>\n </defs>\n <g id=\"figure_1\">\n  <g id=\"patch_1\">\n   <path d=\"M 0 378.83625 \nL 488.904688 378.83625 \nL 488.904688 0 \nL 0 0 \nz\n\" style=\"fill: #ffffff\"/>\n  </g>\n  <g id=\"axes_1\">\n   <g id=\"patch_2\">\n    <path d=\"M 35.304688 166.944212 \nL 229.391644 166.944212 \nL 229.391644 22.318125 \nL 35.304688 22.318125 \nz\n\" style=\"fill: #ffffff\"/>\n   </g>\n   <g id=\"matplotlib.axis_1\">\n    <g id=\"xtick_1\">\n     <g id=\"line2d_1\">\n      <defs>\n       <path id=\"ma17d8dc14f\" d=\"M 0 0 \nL 0 3.5 \n\" style=\"stroke: #000000; stroke-width: 0.8\"/>\n      </defs>\n      <g>\n       <use xlink:href=\"#ma17d8dc14f\" x=\"54.713383\" y=\"166.944212\" style=\"stroke: #000000; stroke-width: 0.8\"/>\n      </g>\n     </g>\n     <g id=\"text_1\">\n      <!-- −4 -->\n      <g transform=\"translate(47.342289 181.542649) scale(0.1 -0.1)\">\n       <defs>\n        <path id=\"DejaVuSans-2212\" d=\"M 678 2272 \nL 4684 2272 \nL 4684 1741 \nL 678 1741 \nL 678 2272 \nz\n\" transform=\"scale(0.015625)\"/>\n        <path id=\"DejaVuSans-34\" d=\"M 2419 4116 \nL 825 1625 \nL 2419 1625 \nL 2419 4116 \nz\nM 2253 4666 \nL 3047 4666 \nL 3047 1625 \nL 3713 1625 \nL 3713 1100 \nL 3047 1100 \nL 3047 0 \nL 2419 0 \nL 2419 1100 \nL 313 1100 \nL 313 1709 \nL 2253 4666 \nz\n\" transform=\"scale(0.015625)\"/>\n       </defs>\n       <use xlink:href=\"#DejaVuSans-2212\"/>\n       <use xlink:href=\"#DejaVuSans-34\" x=\"83.789062\"/>\n      </g>\n     </g>\n    </g>\n    <g id=\"xtick_2\">\n     <g id=\"line2d_2\">\n      <g>\n       <use xlink:href=\"#ma17d8dc14f\" x=\"93.530774\" y=\"166.944212\" style=\"stroke: #000000; stroke-width: 0.8\"/>\n      </g>\n     </g>\n     <g id=\"text_2\">\n      <!-- −2 -->\n      <g transform=\"translate(86.159681 181.542649) scale(0.1 -0.1)\">\n       <defs>\n        <path id=\"DejaVuSans-32\" d=\"M 1228 531 \nL 3431 531 \nL 3431 0 \nL 469 0 \nL 469 531 \nQ 828 903 1448 1529 \nQ 2069 2156 2228 2338 \nQ 2531 2678 2651 2914 \nQ 2772 3150 2772 3378 \nQ 2772 3750 2511 3984 \nQ 2250 4219 1831 4219 \nQ 1534 4219 1204 4116 \nQ 875 4013 500 3803 \nL 500 4441 \nQ 881 4594 1212 4672 \nQ 1544 4750 1819 4750 \nQ 2544 4750 2975 4387 \nQ 3406 4025 3406 3419 \nQ 3406 3131 3298 2873 \nQ 3191 2616 2906 2266 \nQ 2828 2175 2409 1742 \nQ 1991 1309 1228 531 \nz\n\" transform=\"scale(0.015625)\"/>\n       </defs>\n       <use xlink:href=\"#DejaVuSans-2212\"/>\n       <use xlink:href=\"#DejaVuSans-32\" x=\"83.789062\"/>\n      </g>\n     </g>\n    </g>\n    <g id=\"xtick_3\">\n     <g id=\"line2d_3\">\n      <g>\n       <use xlink:href=\"#ma17d8dc14f\" x=\"132.348166\" y=\"166.944212\" style=\"stroke: #000000; stroke-width: 0.8\"/>\n      </g>\n     </g>\n     <g id=\"text_3\">\n      <!-- 0 -->\n      <g transform=\"translate(129.166916 181.542649) scale(0.1 -0.1)\">\n       <defs>\n        <path id=\"DejaVuSans-30\" d=\"M 2034 4250 \nQ 1547 4250 1301 3770 \nQ 1056 3291 1056 2328 \nQ 1056 1369 1301 889 \nQ 1547 409 2034 409 \nQ 2525 409 2770 889 \nQ 3016 1369 3016 2328 \nQ 3016 3291 2770 3770 \nQ 2525 4250 2034 4250 \nz\nM 2034 4750 \nQ 2819 4750 3233 4129 \nQ 3647 3509 3647 2328 \nQ 3647 1150 3233 529 \nQ 2819 -91 2034 -91 \nQ 1250 -91 836 529 \nQ 422 1150 422 2328 \nQ 422 3509 836 4129 \nQ 1250 4750 2034 4750 \nz\n\" transform=\"scale(0.015625)\"/>\n       </defs>\n       <use xlink:href=\"#DejaVuSans-30\"/>\n      </g>\n     </g>\n    </g>\n    <g id=\"xtick_4\">\n     <g id=\"line2d_4\">\n      <g>\n       <use xlink:href=\"#ma17d8dc14f\" x=\"171.165557\" y=\"166.944212\" style=\"stroke: #000000; stroke-width: 0.8\"/>\n      </g>\n     </g>\n     <g id=\"text_4\">\n      <!-- 2 -->\n      <g transform=\"translate(167.984307 181.542649) scale(0.1 -0.1)\">\n       <use xlink:href=\"#DejaVuSans-32\"/>\n      </g>\n     </g>\n    </g>\n    <g id=\"xtick_5\">\n     <g id=\"line2d_5\">\n      <g>\n       <use xlink:href=\"#ma17d8dc14f\" x=\"209.982948\" y=\"166.944212\" style=\"stroke: #000000; stroke-width: 0.8\"/>\n      </g>\n     </g>\n     <g id=\"text_5\">\n      <!-- 4 -->\n      <g transform=\"translate(206.801698 181.542649) scale(0.1 -0.1)\">\n       <use xlink:href=\"#DejaVuSans-34\"/>\n      </g>\n     </g>\n    </g>\n   </g>\n   <g id=\"matplotlib.axis_2\">\n    <g id=\"ytick_1\">\n     <g id=\"line2d_6\">\n      <defs>\n       <path id=\"md8eb8ee9b3\" d=\"M 0 0 \nL -3.5 0 \n\" style=\"stroke: #000000; stroke-width: 0.8\"/>\n      </defs>\n      <g>\n       <use xlink:href=\"#md8eb8ee9b3\" x=\"35.304688\" y=\"160.370299\" style=\"stroke: #000000; stroke-width: 0.8\"/>\n      </g>\n     </g>\n     <g id=\"text_6\">\n      <!-- 0 -->\n      <g transform=\"translate(21.942187 164.169518) scale(0.1 -0.1)\">\n       <use xlink:href=\"#DejaVuSans-30\"/>\n      </g>\n     </g>\n    </g>\n    <g id=\"ytick_2\">\n     <g id=\"line2d_7\">\n      <g>\n       <use xlink:href=\"#md8eb8ee9b3\" x=\"35.304688\" y=\"131.152908\" style=\"stroke: #000000; stroke-width: 0.8\"/>\n      </g>\n     </g>\n     <g id=\"text_7\">\n      <!-- 2 -->\n      <g transform=\"translate(21.942187 134.952126) scale(0.1 -0.1)\">\n       <use xlink:href=\"#DejaVuSans-32\"/>\n      </g>\n     </g>\n    </g>\n    <g id=\"ytick_3\">\n     <g id=\"line2d_8\">\n      <g>\n       <use xlink:href=\"#md8eb8ee9b3\" x=\"35.304688\" y=\"101.935516\" style=\"stroke: #000000; stroke-width: 0.8\"/>\n      </g>\n     </g>\n     <g id=\"text_8\">\n      <!-- 4 -->\n      <g transform=\"translate(21.942187 105.734735) scale(0.1 -0.1)\">\n       <use xlink:href=\"#DejaVuSans-34\"/>\n      </g>\n     </g>\n    </g>\n    <g id=\"ytick_4\">\n     <g id=\"line2d_9\">\n      <g>\n       <use xlink:href=\"#md8eb8ee9b3\" x=\"35.304688\" y=\"72.718125\" style=\"stroke: #000000; stroke-width: 0.8\"/>\n      </g>\n     </g>\n     <g id=\"text_9\">\n      <!-- 6 -->\n      <g transform=\"translate(21.942187 76.517344) scale(0.1 -0.1)\">\n       <defs>\n        <path id=\"DejaVuSans-36\" d=\"M 2113 2584 \nQ 1688 2584 1439 2293 \nQ 1191 2003 1191 1497 \nQ 1191 994 1439 701 \nQ 1688 409 2113 409 \nQ 2538 409 2786 701 \nQ 3034 994 3034 1497 \nQ 3034 2003 2786 2293 \nQ 2538 2584 2113 2584 \nz\nM 3366 4563 \nL 3366 3988 \nQ 3128 4100 2886 4159 \nQ 2644 4219 2406 4219 \nQ 1781 4219 1451 3797 \nQ 1122 3375 1075 2522 \nQ 1259 2794 1537 2939 \nQ 1816 3084 2150 3084 \nQ 2853 3084 3261 2657 \nQ 3669 2231 3669 1497 \nQ 3669 778 3244 343 \nQ 2819 -91 2113 -91 \nQ 1303 -91 875 529 \nQ 447 1150 447 2328 \nQ 447 3434 972 4092 \nQ 1497 4750 2381 4750 \nQ 2619 4750 2861 4703 \nQ 3103 4656 3366 4563 \nz\n\" transform=\"scale(0.015625)\"/>\n       </defs>\n       <use xlink:href=\"#DejaVuSans-36\"/>\n      </g>\n     </g>\n    </g>\n    <g id=\"ytick_5\">\n     <g id=\"line2d_10\">\n      <g>\n       <use xlink:href=\"#md8eb8ee9b3\" x=\"35.304688\" y=\"43.500734\" style=\"stroke: #000000; stroke-width: 0.8\"/>\n      </g>\n     </g>\n     <g id=\"text_10\">\n      <!-- 8 -->\n      <g transform=\"translate(21.942187 47.299952) scale(0.1 -0.1)\">\n       <defs>\n        <path id=\"DejaVuSans-38\" d=\"M 2034 2216 \nQ 1584 2216 1326 1975 \nQ 1069 1734 1069 1313 \nQ 1069 891 1326 650 \nQ 1584 409 2034 409 \nQ 2484 409 2743 651 \nQ 3003 894 3003 1313 \nQ 3003 1734 2745 1975 \nQ 2488 2216 2034 2216 \nz\nM 1403 2484 \nQ 997 2584 770 2862 \nQ 544 3141 544 3541 \nQ 544 4100 942 4425 \nQ 1341 4750 2034 4750 \nQ 2731 4750 3128 4425 \nQ 3525 4100 3525 3541 \nQ 3525 3141 3298 2862 \nQ 3072 2584 2669 2484 \nQ 3125 2378 3379 2068 \nQ 3634 1759 3634 1313 \nQ 3634 634 3220 271 \nQ 2806 -91 2034 -91 \nQ 1263 -91 848 271 \nQ 434 634 434 1313 \nQ 434 1759 690 2068 \nQ 947 2378 1403 2484 \nz\nM 1172 3481 \nQ 1172 3119 1398 2916 \nQ 1625 2713 2034 2713 \nQ 2441 2713 2670 2916 \nQ 2900 3119 2900 3481 \nQ 2900 3844 2670 4047 \nQ 2441 4250 2034 4250 \nQ 1625 4250 1398 4047 \nQ 1172 3844 1172 3481 \nz\n\" transform=\"scale(0.015625)\"/>\n       </defs>\n       <use xlink:href=\"#DejaVuSans-38\"/>\n      </g>\n     </g>\n    </g>\n   </g>\n   <g id=\"line2d_11\">\n    <path d=\"M 74.122079 28.892038 \nL 76.451122 39.199934 \nL 78.780166 49.087099 \nL 81.109209 58.553534 \nL 83.438253 67.599238 \nL 85.767296 76.224212 \nL 88.09634 84.428455 \nL 90.425383 92.211968 \nL 92.754427 99.574751 \nL 95.08347 106.516803 \nL 97.412514 113.038125 \nL 99.741557 119.138716 \nL 102.070601 124.818577 \nL 104.399644 130.077708 \nL 106.728688 134.916108 \nL 109.057731 139.333777 \nL 111.386774 143.330716 \nL 113.715818 146.906925 \nL 116.044861 150.062403 \nL 118.373905 152.797151 \nL 120.702948 155.111168 \nL 123.031992 157.004455 \nL 125.361035 158.477012 \nL 127.690079 159.528838 \nL 130.019122 160.159934 \nL 132.348166 160.370299 \nL 134.677209 160.159934 \nL 137.006253 159.528838 \nL 139.335296 158.477012 \nL 141.66434 157.004455 \nL 143.993383 155.111168 \nL 146.322427 152.797151 \nL 148.65147 150.062403 \nL 150.980514 146.906925 \nL 153.309557 143.330716 \nL 155.638601 139.333777 \nL 157.967644 134.916108 \nL 160.296688 130.077708 \nL 162.625731 124.818577 \nL 164.954774 119.138716 \nL 167.283818 113.038125 \nL 169.612861 106.516803 \nL 171.941905 99.574751 \nL 174.270948 92.211968 \nL 176.599992 84.428455 \nL 178.929035 76.224212 \nL 181.258079 67.599238 \nL 183.587122 58.553534 \nL 185.916166 49.087099 \nL 188.245209 39.199934 \nL 190.574253 28.892038 \n\" clip-path=\"url(#pf5d212c3e9)\" style=\"fill: none; stroke: #1f77b4; stroke-width: 1.5; stroke-linecap: square\"/>\n   </g>\n   <g id=\"patch_3\">\n    <path d=\"M 35.304688 166.944212 \nL 35.304688 22.318125 \n\" style=\"fill: none; stroke: #000000; stroke-width: 0.8; stroke-linejoin: miter; stroke-linecap: square\"/>\n   </g>\n   <g id=\"patch_4\">\n    <path d=\"M 229.391644 166.944212 \nL 229.391644 22.318125 \n\" style=\"fill: none; stroke: #000000; stroke-width: 0.8; stroke-linejoin: miter; stroke-linecap: square\"/>\n   </g>\n   <g id=\"patch_5\">\n    <path d=\"M 35.304688 166.944212 \nL 229.391644 166.944212 \n\" style=\"fill: none; stroke: #000000; stroke-width: 0.8; stroke-linejoin: miter; stroke-linecap: square\"/>\n   </g>\n   <g id=\"patch_6\">\n    <path d=\"M 35.304688 22.318125 \nL 229.391644 22.318125 \n\" style=\"fill: none; stroke: #000000; stroke-width: 0.8; stroke-linejoin: miter; stroke-linecap: square\"/>\n   </g>\n   <g id=\"text_11\">\n    <!-- График y1 -->\n    <g transform=\"translate(99.274103 16.318125) scale(0.12 -0.12)\">\n     <defs>\n      <path id=\"DejaVuSans-413\" d=\"M 628 0 \nL 628 4666 \nL 3531 4666 \nL 3531 4134 \nL 1259 4134 \nL 1259 0 \nL 628 0 \nz\n\" transform=\"scale(0.015625)\"/>\n      <path id=\"DejaVuSans-440\" d=\"M 1159 525 \nL 1159 -1331 \nL 581 -1331 \nL 581 3500 \nL 1159 3500 \nL 1159 2969 \nQ 1341 3281 1617 3432 \nQ 1894 3584 2278 3584 \nQ 2916 3584 3314 3078 \nQ 3713 2572 3713 1747 \nQ 3713 922 3314 415 \nQ 2916 -91 2278 -91 \nQ 1894 -91 1617 61 \nQ 1341 213 1159 525 \nz\nM 3116 1747 \nQ 3116 2381 2855 2742 \nQ 2594 3103 2138 3103 \nQ 1681 3103 1420 2742 \nQ 1159 2381 1159 1747 \nQ 1159 1113 1420 752 \nQ 1681 391 2138 391 \nQ 2594 391 2855 752 \nQ 3116 1113 3116 1747 \nz\n\" transform=\"scale(0.015625)\"/>\n      <path id=\"DejaVuSans-430\" d=\"M 2194 1759 \nQ 1497 1759 1228 1600 \nQ 959 1441 959 1056 \nQ 959 750 1161 570 \nQ 1363 391 1709 391 \nQ 2188 391 2477 730 \nQ 2766 1069 2766 1631 \nL 2766 1759 \nL 2194 1759 \nz\nM 3341 1997 \nL 3341 0 \nL 2766 0 \nL 2766 531 \nQ 2569 213 2275 61 \nQ 1981 -91 1556 -91 \nQ 1019 -91 701 211 \nQ 384 513 384 1019 \nQ 384 1609 779 1909 \nQ 1175 2209 1959 2209 \nL 2766 2209 \nL 2766 2266 \nQ 2766 2663 2505 2880 \nQ 2244 3097 1772 3097 \nQ 1472 3097 1187 3025 \nQ 903 2953 641 2809 \nL 641 3341 \nQ 956 3463 1253 3523 \nQ 1550 3584 1831 3584 \nQ 2591 3584 2966 3190 \nQ 3341 2797 3341 1997 \nz\n\" transform=\"scale(0.015625)\"/>\n      <path id=\"DejaVuSans-444\" d=\"M 947 1747 \nQ 947 1013 1173 702 \nQ 1400 391 1784 391 \nQ 2091 391 2447 916 \nL 2447 2578 \nQ 2091 3103 1784 3103 \nQ 1400 3103 1173 2792 \nQ 947 2481 947 1747 \nz\nM 2447 -1331 \nL 2447 447 \nQ 2269 153 2064 31 \nQ 1859 -91 1600 -91 \nQ 1078 -91 714 392 \nQ 350 875 350 1734 \nQ 350 2594 714 3089 \nQ 1078 3584 1600 3584 \nQ 1859 3584 2064 3465 \nQ 2269 3347 2447 3053 \nL 2447 4666 \nL 3025 4666 \nL 3025 3053 \nQ 3203 3347 3408 3465 \nQ 3613 3584 3872 3584 \nQ 4394 3584 4758 3089 \nQ 5122 2594 5122 1734 \nQ 5122 875 4758 392 \nQ 4394 -91 3872 -91 \nQ 3613 -91 3408 31 \nQ 3203 153 3025 447 \nL 3025 -1331 \nL 2447 -1331 \nz\nM 4525 1747 \nQ 4525 2481 4298 2792 \nQ 4072 3103 3688 3103 \nQ 3381 3103 3025 2578 \nL 3025 916 \nQ 3381 391 3688 391 \nQ 4072 391 4298 702 \nQ 4525 1013 4525 1747 \nz\n\" transform=\"scale(0.015625)\"/>\n      <path id=\"DejaVuSans-438\" d=\"M 3578 3500 \nL 3578 0 \nL 3006 0 \nL 3006 2809 \nL 1319 0 \nL 581 0 \nL 581 3500 \nL 1153 3500 \nL 1153 697 \nL 2838 3500 \nL 3578 3500 \nz\n\" transform=\"scale(0.015625)\"/>\n      <path id=\"DejaVuSans-43a\" d=\"M 581 3500 \nL 1153 3500 \nL 1153 1856 \nL 2775 3500 \nL 3481 3500 \nL 2144 2147 \nL 3653 0 \nL 3009 0 \nL 1769 1766 \nL 1153 1141 \nL 1153 0 \nL 581 0 \nL 581 3500 \nz\n\" transform=\"scale(0.015625)\"/>\n      <path id=\"DejaVuSans-20\" transform=\"scale(0.015625)\"/>\n      <path id=\"DejaVuSans-79\" d=\"M 2059 -325 \nQ 1816 -950 1584 -1140 \nQ 1353 -1331 966 -1331 \nL 506 -1331 \nL 506 -850 \nL 844 -850 \nQ 1081 -850 1212 -737 \nQ 1344 -625 1503 -206 \nL 1606 56 \nL 191 3500 \nL 800 3500 \nL 1894 763 \nL 2988 3500 \nL 3597 3500 \nL 2059 -325 \nz\n\" transform=\"scale(0.015625)\"/>\n      <path id=\"DejaVuSans-31\" d=\"M 794 531 \nL 1825 531 \nL 1825 4091 \nL 703 3866 \nL 703 4441 \nL 1819 4666 \nL 2450 4666 \nL 2450 531 \nL 3481 531 \nL 3481 0 \nL 794 0 \nL 794 531 \nz\n\" transform=\"scale(0.015625)\"/>\n     </defs>\n     <use xlink:href=\"#DejaVuSans-413\"/>\n     <use xlink:href=\"#DejaVuSans-440\" x=\"60.986328\"/>\n     <use xlink:href=\"#DejaVuSans-430\" x=\"124.462891\"/>\n     <use xlink:href=\"#DejaVuSans-444\" x=\"185.742188\"/>\n     <use xlink:href=\"#DejaVuSans-438\" x=\"271.240234\"/>\n     <use xlink:href=\"#DejaVuSans-43a\" x=\"336.230469\"/>\n     <use xlink:href=\"#DejaVuSans-20\" x=\"396.630859\"/>\n     <use xlink:href=\"#DejaVuSans-79\" x=\"428.417969\"/>\n     <use xlink:href=\"#DejaVuSans-31\" x=\"487.597656\"/>\n    </g>\n   </g>\n  </g>\n  <g id=\"axes_2\">\n   <g id=\"patch_7\">\n    <path d=\"M 287.617731 166.944212 \nL 481.704688 166.944212 \nL 481.704688 22.318125 \nL 287.617731 22.318125 \nz\n\" style=\"fill: #ffffff\"/>\n   </g>\n   <g id=\"matplotlib.axis_3\">\n    <g id=\"xtick_6\">\n     <g id=\"line2d_12\">\n      <g>\n       <use xlink:href=\"#ma17d8dc14f\" x=\"325.84698\" y=\"166.944212\" style=\"stroke: #000000; stroke-width: 0.8\"/>\n      </g>\n     </g>\n     <g id=\"text_12\">\n      <!-- −2 -->\n      <g transform=\"translate(318.475886 181.542649) scale(0.1 -0.1)\">\n       <use xlink:href=\"#DejaVuSans-2212\"/>\n       <use xlink:href=\"#DejaVuSans-32\" x=\"83.789062\"/>\n      </g>\n     </g>\n    </g>\n    <g id=\"xtick_7\">\n     <g id=\"line2d_13\">\n      <g>\n       <use xlink:href=\"#ma17d8dc14f\" x=\"384.661209\" y=\"166.944212\" style=\"stroke: #000000; stroke-width: 0.8\"/>\n      </g>\n     </g>\n     <g id=\"text_13\">\n      <!-- 0 -->\n      <g transform=\"translate(381.479959 181.542649) scale(0.1 -0.1)\">\n       <use xlink:href=\"#DejaVuSans-30\"/>\n      </g>\n     </g>\n    </g>\n    <g id=\"xtick_8\">\n     <g id=\"line2d_14\">\n      <g>\n       <use xlink:href=\"#ma17d8dc14f\" x=\"443.475438\" y=\"166.944212\" style=\"stroke: #000000; stroke-width: 0.8\"/>\n      </g>\n     </g>\n     <g id=\"text_14\">\n      <!-- 2 -->\n      <g transform=\"translate(440.294188 181.542649) scale(0.1 -0.1)\">\n       <use xlink:href=\"#DejaVuSans-32\"/>\n      </g>\n     </g>\n    </g>\n   </g>\n   <g id=\"matplotlib.axis_4\">\n    <g id=\"ytick_6\">\n     <g id=\"line2d_15\">\n      <g>\n       <use xlink:href=\"#md8eb8ee9b3\" x=\"287.617731\" y=\"165.84856\" style=\"stroke: #000000; stroke-width: 0.8\"/>\n      </g>\n     </g>\n     <g id=\"text_15\">\n      <!-- −6 -->\n      <g transform=\"translate(265.875543 169.647779) scale(0.1 -0.1)\">\n       <use xlink:href=\"#DejaVuSans-2212\"/>\n       <use xlink:href=\"#DejaVuSans-36\" x=\"83.789062\"/>\n      </g>\n     </g>\n    </g>\n    <g id=\"ytick_7\">\n     <g id=\"line2d_16\">\n      <g>\n       <use xlink:href=\"#md8eb8ee9b3\" x=\"287.617731\" y=\"143.935516\" style=\"stroke: #000000; stroke-width: 0.8\"/>\n      </g>\n     </g>\n     <g id=\"text_16\">\n      <!-- −4 -->\n      <g transform=\"translate(265.875543 147.734735) scale(0.1 -0.1)\">\n       <use xlink:href=\"#DejaVuSans-2212\"/>\n       <use xlink:href=\"#DejaVuSans-34\" x=\"83.789062\"/>\n      </g>\n     </g>\n    </g>\n    <g id=\"ytick_8\">\n     <g id=\"line2d_17\">\n      <g>\n       <use xlink:href=\"#md8eb8ee9b3\" x=\"287.617731\" y=\"122.022473\" style=\"stroke: #000000; stroke-width: 0.8\"/>\n      </g>\n     </g>\n     <g id=\"text_17\">\n      <!-- −2 -->\n      <g transform=\"translate(265.875543 125.821692) scale(0.1 -0.1)\">\n       <use xlink:href=\"#DejaVuSans-2212\"/>\n       <use xlink:href=\"#DejaVuSans-32\" x=\"83.789062\"/>\n      </g>\n     </g>\n    </g>\n    <g id=\"ytick_9\">\n     <g id=\"line2d_18\">\n      <g>\n       <use xlink:href=\"#md8eb8ee9b3\" x=\"287.617731\" y=\"100.109429\" style=\"stroke: #000000; stroke-width: 0.8\"/>\n      </g>\n     </g>\n     <g id=\"text_18\">\n      <!-- 0 -->\n      <g transform=\"translate(274.255231 103.908648) scale(0.1 -0.1)\">\n       <use xlink:href=\"#DejaVuSans-30\"/>\n      </g>\n     </g>\n    </g>\n    <g id=\"ytick_10\">\n     <g id=\"line2d_19\">\n      <g>\n       <use xlink:href=\"#md8eb8ee9b3\" x=\"287.617731\" y=\"78.196386\" style=\"stroke: #000000; stroke-width: 0.8\"/>\n      </g>\n     </g>\n     <g id=\"text_19\">\n      <!-- 2 -->\n      <g transform=\"translate(274.255231 81.995605) scale(0.1 -0.1)\">\n       <use xlink:href=\"#DejaVuSans-32\"/>\n      </g>\n     </g>\n    </g>\n    <g id=\"ytick_11\">\n     <g id=\"line2d_20\">\n      <g>\n       <use xlink:href=\"#md8eb8ee9b3\" x=\"287.617731\" y=\"56.283342\" style=\"stroke: #000000; stroke-width: 0.8\"/>\n      </g>\n     </g>\n     <g id=\"text_20\">\n      <!-- 4 -->\n      <g transform=\"translate(274.255231 60.082561) scale(0.1 -0.1)\">\n       <use xlink:href=\"#DejaVuSans-34\"/>\n      </g>\n     </g>\n    </g>\n    <g id=\"ytick_12\">\n     <g id=\"line2d_21\">\n      <g>\n       <use xlink:href=\"#md8eb8ee9b3\" x=\"287.617731\" y=\"34.370299\" style=\"stroke: #000000; stroke-width: 0.8\"/>\n      </g>\n     </g>\n     <g id=\"text_21\">\n      <!-- 6 -->\n      <g transform=\"translate(274.255231 38.169518) scale(0.1 -0.1)\">\n       <use xlink:href=\"#DejaVuSans-36\"/>\n      </g>\n     </g>\n    </g>\n   </g>\n   <g id=\"line2d_22\">\n    <path d=\"M 296.439865 160.370299 \nL 299.968719 157.740734 \nL 303.497573 155.111168 \nL 307.026427 152.481603 \nL 310.55528 149.852038 \nL 314.084134 147.222473 \nL 317.612988 144.592908 \nL 321.141842 141.963342 \nL 324.670695 139.333777 \nL 328.199549 136.704212 \nL 331.728403 134.074647 \nL 335.257257 131.445082 \nL 338.78611 128.815516 \nL 342.314964 126.185951 \nL 345.843818 123.556386 \nL 349.372672 120.926821 \nL 352.901525 118.297255 \nL 356.430379 115.66769 \nL 359.959233 113.038125 \nL 363.488087 110.40856 \nL 367.01694 107.778995 \nL 370.545794 105.149429 \nL 374.074648 102.519864 \nL 377.603502 99.890299 \nL 381.132355 97.260734 \nL 384.661209 94.631168 \nL 388.190063 92.001603 \nL 391.718917 89.372038 \nL 395.247771 86.742473 \nL 398.776624 84.112908 \nL 402.305478 81.483342 \nL 405.834332 78.853777 \nL 409.363186 76.224212 \nL 412.892039 73.594647 \nL 416.420893 70.965082 \nL 419.949747 68.335516 \nL 423.478601 65.705951 \nL 427.007454 63.076386 \nL 430.536308 60.446821 \nL 434.065162 57.817255 \nL 437.594016 55.18769 \nL 441.122869 52.558125 \nL 444.651723 49.92856 \nL 448.180577 47.298995 \nL 451.709431 44.669429 \nL 455.238284 42.039864 \nL 458.767138 39.410299 \nL 462.295992 36.780734 \nL 465.824846 34.151168 \nL 469.353699 31.521603 \nL 472.882553 28.892038 \n\" clip-path=\"url(#p10e8afa16e)\" style=\"fill: none; stroke: #1f77b4; stroke-width: 1.5; stroke-linecap: square\"/>\n   </g>\n   <g id=\"patch_8\">\n    <path d=\"M 287.617731 166.944212 \nL 287.617731 22.318125 \n\" style=\"fill: none; stroke: #000000; stroke-width: 0.8; stroke-linejoin: miter; stroke-linecap: square\"/>\n   </g>\n   <g id=\"patch_9\">\n    <path d=\"M 481.704688 166.944212 \nL 481.704688 22.318125 \n\" style=\"fill: none; stroke: #000000; stroke-width: 0.8; stroke-linejoin: miter; stroke-linecap: square\"/>\n   </g>\n   <g id=\"patch_10\">\n    <path d=\"M 287.617731 166.944212 \nL 481.704688 166.944212 \n\" style=\"fill: none; stroke: #000000; stroke-width: 0.8; stroke-linejoin: miter; stroke-linecap: square\"/>\n   </g>\n   <g id=\"patch_11\">\n    <path d=\"M 287.617731 22.318125 \nL 481.704688 22.318125 \n\" style=\"fill: none; stroke: #000000; stroke-width: 0.8; stroke-linejoin: miter; stroke-linecap: square\"/>\n   </g>\n   <g id=\"text_22\">\n    <!-- График y2 -->\n    <g transform=\"translate(351.587147 16.318125) scale(0.12 -0.12)\">\n     <use xlink:href=\"#DejaVuSans-413\"/>\n     <use xlink:href=\"#DejaVuSans-440\" x=\"60.986328\"/>\n     <use xlink:href=\"#DejaVuSans-430\" x=\"124.462891\"/>\n     <use xlink:href=\"#DejaVuSans-444\" x=\"185.742188\"/>\n     <use xlink:href=\"#DejaVuSans-438\" x=\"271.240234\"/>\n     <use xlink:href=\"#DejaVuSans-43a\" x=\"336.230469\"/>\n     <use xlink:href=\"#DejaVuSans-20\" x=\"396.630859\"/>\n     <use xlink:href=\"#DejaVuSans-79\" x=\"428.417969\"/>\n     <use xlink:href=\"#DejaVuSans-32\" x=\"487.597656\"/>\n    </g>\n   </g>\n  </g>\n  <g id=\"axes_3\">\n   <g id=\"patch_12\">\n    <path d=\"M 35.304688 354.958125 \nL 229.391644 354.958125 \nL 229.391644 210.332038 \nL 35.304688 210.332038 \nz\n\" style=\"fill: #ffffff\"/>\n   </g>\n   <g id=\"matplotlib.axis_5\">\n    <g id=\"xtick_9\">\n     <g id=\"line2d_23\">\n      <g>\n       <use xlink:href=\"#ma17d8dc14f\" x=\"73.533937\" y=\"354.958125\" style=\"stroke: #000000; stroke-width: 0.8\"/>\n      </g>\n     </g>\n     <g id=\"text_23\">\n      <!-- −2 -->\n      <g transform=\"translate(66.162843 369.556562) scale(0.1 -0.1)\">\n       <use xlink:href=\"#DejaVuSans-2212\"/>\n       <use xlink:href=\"#DejaVuSans-32\" x=\"83.789062\"/>\n      </g>\n     </g>\n    </g>\n    <g id=\"xtick_10\">\n     <g id=\"line2d_24\">\n      <g>\n       <use xlink:href=\"#ma17d8dc14f\" x=\"132.348166\" y=\"354.958125\" style=\"stroke: #000000; stroke-width: 0.8\"/>\n      </g>\n     </g>\n     <g id=\"text_24\">\n      <!-- 0 -->\n      <g transform=\"translate(129.166916 369.556562) scale(0.1 -0.1)\">\n       <use xlink:href=\"#DejaVuSans-30\"/>\n      </g>\n     </g>\n    </g>\n    <g id=\"xtick_11\">\n     <g id=\"line2d_25\">\n      <g>\n       <use xlink:href=\"#ma17d8dc14f\" x=\"191.162395\" y=\"354.958125\" style=\"stroke: #000000; stroke-width: 0.8\"/>\n      </g>\n     </g>\n     <g id=\"text_25\">\n      <!-- 2 -->\n      <g transform=\"translate(187.981145 369.556562) scale(0.1 -0.1)\">\n       <use xlink:href=\"#DejaVuSans-32\"/>\n      </g>\n     </g>\n    </g>\n   </g>\n   <g id=\"matplotlib.axis_6\">\n    <g id=\"ytick_13\">\n     <g id=\"line2d_26\">\n      <g>\n       <use xlink:href=\"#md8eb8ee9b3\" x=\"35.304688\" y=\"344.732038\" style=\"stroke: #000000; stroke-width: 0.8\"/>\n      </g>\n     </g>\n     <g id=\"text_26\">\n      <!-- −10 -->\n      <g transform=\"translate(7.2 348.531257) scale(0.1 -0.1)\">\n       <use xlink:href=\"#DejaVuSans-2212\"/>\n       <use xlink:href=\"#DejaVuSans-31\" x=\"83.789062\"/>\n       <use xlink:href=\"#DejaVuSans-30\" x=\"147.412109\"/>\n      </g>\n     </g>\n    </g>\n    <g id=\"ytick_14\">\n     <g id=\"line2d_27\">\n      <g>\n       <use xlink:href=\"#md8eb8ee9b3\" x=\"35.304688\" y=\"308.210299\" style=\"stroke: #000000; stroke-width: 0.8\"/>\n      </g>\n     </g>\n     <g id=\"text_27\">\n      <!-- −5 -->\n      <g transform=\"translate(13.5625 312.009518) scale(0.1 -0.1)\">\n       <defs>\n        <path id=\"DejaVuSans-35\" d=\"M 691 4666 \nL 3169 4666 \nL 3169 4134 \nL 1269 4134 \nL 1269 2991 \nQ 1406 3038 1543 3061 \nQ 1681 3084 1819 3084 \nQ 2600 3084 3056 2656 \nQ 3513 2228 3513 1497 \nQ 3513 744 3044 326 \nQ 2575 -91 1722 -91 \nQ 1428 -91 1123 -41 \nQ 819 9 494 109 \nL 494 744 \nQ 775 591 1075 516 \nQ 1375 441 1709 441 \nQ 2250 441 2565 725 \nQ 2881 1009 2881 1497 \nQ 2881 1984 2565 2268 \nQ 2250 2553 1709 2553 \nQ 1456 2553 1204 2497 \nQ 953 2441 691 2322 \nL 691 4666 \nz\n\" transform=\"scale(0.015625)\"/>\n       </defs>\n       <use xlink:href=\"#DejaVuSans-2212\"/>\n       <use xlink:href=\"#DejaVuSans-35\" x=\"83.789062\"/>\n      </g>\n     </g>\n    </g>\n    <g id=\"ytick_15\">\n     <g id=\"line2d_28\">\n      <g>\n       <use xlink:href=\"#md8eb8ee9b3\" x=\"35.304688\" y=\"271.68856\" style=\"stroke: #000000; stroke-width: 0.8\"/>\n      </g>\n     </g>\n     <g id=\"text_28\">\n      <!-- 0 -->\n      <g transform=\"translate(21.942187 275.487779) scale(0.1 -0.1)\">\n       <use xlink:href=\"#DejaVuSans-30\"/>\n      </g>\n     </g>\n    </g>\n    <g id=\"ytick_16\">\n     <g id=\"line2d_29\">\n      <g>\n       <use xlink:href=\"#md8eb8ee9b3\" x=\"35.304688\" y=\"235.166821\" style=\"stroke: #000000; stroke-width: 0.8\"/>\n      </g>\n     </g>\n     <g id=\"text_29\">\n      <!-- 5 -->\n      <g transform=\"translate(21.942187 238.966039) scale(0.1 -0.1)\">\n       <use xlink:href=\"#DejaVuSans-35\"/>\n      </g>\n     </g>\n    </g>\n   </g>\n   <g id=\"line2d_30\">\n    <path d=\"M 44.126822 216.905951 \nL 47.655676 219.535516 \nL 51.184529 222.165082 \nL 54.713383 224.794647 \nL 58.242237 227.424212 \nL 61.771091 230.053777 \nL 65.299944 232.683342 \nL 68.828798 235.312908 \nL 72.357652 237.942473 \nL 75.886506 240.572038 \nL 79.415359 243.201603 \nL 82.944213 245.831168 \nL 86.473067 248.460734 \nL 90.001921 251.090299 \nL 93.530774 253.719864 \nL 97.059628 256.349429 \nL 100.588482 258.978995 \nL 104.117336 261.60856 \nL 107.646189 264.238125 \nL 111.175043 266.86769 \nL 114.703897 269.497255 \nL 118.232751 272.126821 \nL 121.761604 274.756386 \nL 125.290458 277.385951 \nL 128.819312 280.015516 \nL 132.348166 282.645082 \nL 135.87702 285.274647 \nL 139.405873 287.904212 \nL 142.934727 290.533777 \nL 146.463581 293.163342 \nL 149.992435 295.792908 \nL 153.521288 298.422473 \nL 157.050142 301.052038 \nL 160.578996 303.681603 \nL 164.10785 306.311168 \nL 167.636703 308.940734 \nL 171.165557 311.570299 \nL 174.694411 314.199864 \nL 178.223265 316.829429 \nL 181.752118 319.458995 \nL 185.280972 322.08856 \nL 188.809826 324.718125 \nL 192.33868 327.34769 \nL 195.867533 329.977255 \nL 199.396387 332.606821 \nL 202.925241 335.236386 \nL 206.454095 337.865951 \nL 209.982948 340.495516 \nL 213.511802 343.125082 \nL 217.040656 345.754647 \nL 220.56951 348.384212 \n\" clip-path=\"url(#p05e1d5a99d)\" style=\"fill: none; stroke: #1f77b4; stroke-width: 1.5; stroke-linecap: square\"/>\n   </g>\n   <g id=\"patch_13\">\n    <path d=\"M 35.304688 354.958125 \nL 35.304688 210.332038 \n\" style=\"fill: none; stroke: #000000; stroke-width: 0.8; stroke-linejoin: miter; stroke-linecap: square\"/>\n   </g>\n   <g id=\"patch_14\">\n    <path d=\"M 229.391644 354.958125 \nL 229.391644 210.332038 \n\" style=\"fill: none; stroke: #000000; stroke-width: 0.8; stroke-linejoin: miter; stroke-linecap: square\"/>\n   </g>\n   <g id=\"patch_15\">\n    <path d=\"M 35.304688 354.958125 \nL 229.391644 354.958125 \n\" style=\"fill: none; stroke: #000000; stroke-width: 0.8; stroke-linejoin: miter; stroke-linecap: square\"/>\n   </g>\n   <g id=\"patch_16\">\n    <path d=\"M 35.304688 210.332038 \nL 229.391644 210.332038 \n\" style=\"fill: none; stroke: #000000; stroke-width: 0.8; stroke-linejoin: miter; stroke-linecap: square\"/>\n   </g>\n   <g id=\"text_30\">\n    <!-- График y3 -->\n    <g transform=\"translate(99.274103 204.332038) scale(0.12 -0.12)\">\n     <defs>\n      <path id=\"DejaVuSans-33\" d=\"M 2597 2516 \nQ 3050 2419 3304 2112 \nQ 3559 1806 3559 1356 \nQ 3559 666 3084 287 \nQ 2609 -91 1734 -91 \nQ 1441 -91 1130 -33 \nQ 819 25 488 141 \nL 488 750 \nQ 750 597 1062 519 \nQ 1375 441 1716 441 \nQ 2309 441 2620 675 \nQ 2931 909 2931 1356 \nQ 2931 1769 2642 2001 \nQ 2353 2234 1838 2234 \nL 1294 2234 \nL 1294 2753 \nL 1863 2753 \nQ 2328 2753 2575 2939 \nQ 2822 3125 2822 3475 \nQ 2822 3834 2567 4026 \nQ 2313 4219 1838 4219 \nQ 1578 4219 1281 4162 \nQ 984 4106 628 3988 \nL 628 4550 \nQ 988 4650 1302 4700 \nQ 1616 4750 1894 4750 \nQ 2613 4750 3031 4423 \nQ 3450 4097 3450 3541 \nQ 3450 3153 3228 2886 \nQ 3006 2619 2597 2516 \nz\n\" transform=\"scale(0.015625)\"/>\n     </defs>\n     <use xlink:href=\"#DejaVuSans-413\"/>\n     <use xlink:href=\"#DejaVuSans-440\" x=\"60.986328\"/>\n     <use xlink:href=\"#DejaVuSans-430\" x=\"124.462891\"/>\n     <use xlink:href=\"#DejaVuSans-444\" x=\"185.742188\"/>\n     <use xlink:href=\"#DejaVuSans-438\" x=\"271.240234\"/>\n     <use xlink:href=\"#DejaVuSans-43a\" x=\"336.230469\"/>\n     <use xlink:href=\"#DejaVuSans-20\" x=\"396.630859\"/>\n     <use xlink:href=\"#DejaVuSans-79\" x=\"428.417969\"/>\n     <use xlink:href=\"#DejaVuSans-33\" x=\"487.597656\"/>\n    </g>\n   </g>\n  </g>\n  <g id=\"axes_4\">\n   <g id=\"patch_17\">\n    <path d=\"M 287.617731 354.958125 \nL 481.704688 354.958125 \nL 481.704688 210.332038 \nL 287.617731 210.332038 \nz\n\" style=\"fill: #ffffff\"/>\n   </g>\n   <g id=\"matplotlib.axis_7\">\n    <g id=\"xtick_12\">\n     <g id=\"line2d_31\">\n      <g>\n       <use xlink:href=\"#ma17d8dc14f\" x=\"325.84698\" y=\"354.958125\" style=\"stroke: #000000; stroke-width: 0.8\"/>\n      </g>\n     </g>\n     <g id=\"text_31\">\n      <!-- −2 -->\n      <g transform=\"translate(318.475886 369.556562) scale(0.1 -0.1)\">\n       <use xlink:href=\"#DejaVuSans-2212\"/>\n       <use xlink:href=\"#DejaVuSans-32\" x=\"83.789062\"/>\n      </g>\n     </g>\n    </g>\n    <g id=\"xtick_13\">\n     <g id=\"line2d_32\">\n      <g>\n       <use xlink:href=\"#ma17d8dc14f\" x=\"384.661209\" y=\"354.958125\" style=\"stroke: #000000; stroke-width: 0.8\"/>\n      </g>\n     </g>\n     <g id=\"text_32\">\n      <!-- 0 -->\n      <g transform=\"translate(381.479959 369.556562) scale(0.1 -0.1)\">\n       <use xlink:href=\"#DejaVuSans-30\"/>\n      </g>\n     </g>\n    </g>\n    <g id=\"xtick_14\">\n     <g id=\"line2d_33\">\n      <g>\n       <use xlink:href=\"#ma17d8dc14f\" x=\"443.475438\" y=\"354.958125\" style=\"stroke: #000000; stroke-width: 0.8\"/>\n      </g>\n     </g>\n     <g id=\"text_33\">\n      <!-- 2 -->\n      <g transform=\"translate(440.294188 369.556562) scale(0.1 -0.1)\">\n       <use xlink:href=\"#DejaVuSans-32\"/>\n      </g>\n     </g>\n    </g>\n   </g>\n   <g id=\"matplotlib.axis_8\">\n    <g id=\"ytick_17\">\n     <g id=\"line2d_34\">\n      <g>\n       <use xlink:href=\"#md8eb8ee9b3\" x=\"287.617731\" y=\"348.388043\" style=\"stroke: #000000; stroke-width: 0.8\"/>\n      </g>\n     </g>\n     <g id=\"text_34\">\n      <!-- −1.0 -->\n      <g transform=\"translate(256.334918 352.187262) scale(0.1 -0.1)\">\n       <defs>\n        <path id=\"DejaVuSans-2e\" d=\"M 684 794 \nL 1344 794 \nL 1344 0 \nL 684 0 \nL 684 794 \nz\n\" transform=\"scale(0.015625)\"/>\n       </defs>\n       <use xlink:href=\"#DejaVuSans-2212\"/>\n       <use xlink:href=\"#DejaVuSans-31\" x=\"83.789062\"/>\n       <use xlink:href=\"#DejaVuSans-2e\" x=\"147.412109\"/>\n       <use xlink:href=\"#DejaVuSans-30\" x=\"179.199219\"/>\n      </g>\n     </g>\n    </g>\n    <g id=\"ytick_18\">\n     <g id=\"line2d_35\">\n      <g>\n       <use xlink:href=\"#md8eb8ee9b3\" x=\"287.617731\" y=\"315.516562\" style=\"stroke: #000000; stroke-width: 0.8\"/>\n      </g>\n     </g>\n     <g id=\"text_35\">\n      <!-- −0.5 -->\n      <g transform=\"translate(256.334918 319.315781) scale(0.1 -0.1)\">\n       <use xlink:href=\"#DejaVuSans-2212\"/>\n       <use xlink:href=\"#DejaVuSans-30\" x=\"83.789062\"/>\n       <use xlink:href=\"#DejaVuSans-2e\" x=\"147.412109\"/>\n       <use xlink:href=\"#DejaVuSans-35\" x=\"179.199219\"/>\n      </g>\n     </g>\n    </g>\n    <g id=\"ytick_19\">\n     <g id=\"line2d_36\">\n      <g>\n       <use xlink:href=\"#md8eb8ee9b3\" x=\"287.617731\" y=\"282.645082\" style=\"stroke: #000000; stroke-width: 0.8\"/>\n      </g>\n     </g>\n     <g id=\"text_36\">\n      <!-- 0.0 -->\n      <g transform=\"translate(264.714606 286.4443) scale(0.1 -0.1)\">\n       <use xlink:href=\"#DejaVuSans-30\"/>\n       <use xlink:href=\"#DejaVuSans-2e\" x=\"63.623047\"/>\n       <use xlink:href=\"#DejaVuSans-30\" x=\"95.410156\"/>\n      </g>\n     </g>\n    </g>\n    <g id=\"ytick_20\">\n     <g id=\"line2d_37\">\n      <g>\n       <use xlink:href=\"#md8eb8ee9b3\" x=\"287.617731\" y=\"249.773601\" style=\"stroke: #000000; stroke-width: 0.8\"/>\n      </g>\n     </g>\n     <g id=\"text_37\">\n      <!-- 0.5 -->\n      <g transform=\"translate(264.714606 253.572819) scale(0.1 -0.1)\">\n       <use xlink:href=\"#DejaVuSans-30\"/>\n       <use xlink:href=\"#DejaVuSans-2e\" x=\"63.623047\"/>\n       <use xlink:href=\"#DejaVuSans-35\" x=\"95.410156\"/>\n      </g>\n     </g>\n    </g>\n    <g id=\"ytick_21\">\n     <g id=\"line2d_38\">\n      <g>\n       <use xlink:href=\"#md8eb8ee9b3\" x=\"287.617731\" y=\"216.90212\" style=\"stroke: #000000; stroke-width: 0.8\"/>\n      </g>\n     </g>\n     <g id=\"text_38\">\n      <!-- 1.0 -->\n      <g transform=\"translate(264.714606 220.701338) scale(0.1 -0.1)\">\n       <use xlink:href=\"#DejaVuSans-31\"/>\n       <use xlink:href=\"#DejaVuSans-2e\" x=\"63.623047\"/>\n       <use xlink:href=\"#DejaVuSans-30\" x=\"95.410156\"/>\n      </g>\n     </g>\n    </g>\n   </g>\n   <g id=\"line2d_39\">\n    <path d=\"M 296.439865 291.922729 \nL 299.968719 299.647484 \nL 303.497573 307.127697 \nL 307.026427 314.255784 \nL 310.55528 320.929223 \nL 314.084134 327.052032 \nL 317.612988 332.536147 \nL 321.141842 337.302693 \nL 324.670695 341.283113 \nL 328.199549 344.420158 \nL 331.728403 346.668709 \nL 335.257257 347.996426 \nL 338.78611 348.384212 \nL 342.314964 347.82649 \nL 345.843818 346.331281 \nL 349.372672 343.920092 \nL 352.901525 340.6276 \nL 356.430379 336.501162 \nL 359.959233 331.600126 \nL 363.488087 325.994983 \nL 367.01694 319.76635 \nL 370.545794 313.003812 \nL 374.074648 305.804633 \nL 377.603502 298.272356 \nL 381.132355 290.515317 \nL 384.661209 282.645082 \nL 388.190063 274.774846 \nL 391.718917 267.017807 \nL 395.247771 259.48553 \nL 398.776624 252.286351 \nL 402.305478 245.523813 \nL 405.834332 239.29518 \nL 409.363186 233.690037 \nL 412.892039 228.789001 \nL 416.420893 224.662563 \nL 419.949747 221.370071 \nL 423.478601 218.958882 \nL 427.007454 217.463673 \nL 430.536308 216.905951 \nL 434.065162 217.293737 \nL 437.594016 218.621454 \nL 441.122869 220.870005 \nL 444.651723 224.00705 \nL 448.180577 227.98747 \nL 451.709431 232.754016 \nL 455.238284 238.238131 \nL 458.767138 244.36094 \nL 462.295992 251.034379 \nL 465.824846 258.162466 \nL 469.353699 265.642679 \nL 472.882553 273.367434 \n\" clip-path=\"url(#p6739a0499f)\" style=\"fill: none; stroke: #1f77b4; stroke-width: 1.5; stroke-linecap: square\"/>\n   </g>\n   <g id=\"patch_18\">\n    <path d=\"M 287.617731 354.958125 \nL 287.617731 210.332038 \n\" style=\"fill: none; stroke: #000000; stroke-width: 0.8; stroke-linejoin: miter; stroke-linecap: square\"/>\n   </g>\n   <g id=\"patch_19\">\n    <path d=\"M 481.704688 354.958125 \nL 481.704688 210.332038 \n\" style=\"fill: none; stroke: #000000; stroke-width: 0.8; stroke-linejoin: miter; stroke-linecap: square\"/>\n   </g>\n   <g id=\"patch_20\">\n    <path d=\"M 287.617731 354.958125 \nL 481.704688 354.958125 \n\" style=\"fill: none; stroke: #000000; stroke-width: 0.8; stroke-linejoin: miter; stroke-linecap: square\"/>\n   </g>\n   <g id=\"patch_21\">\n    <path d=\"M 287.617731 210.332038 \nL 481.704688 210.332038 \n\" style=\"fill: none; stroke: #000000; stroke-width: 0.8; stroke-linejoin: miter; stroke-linecap: square\"/>\n   </g>\n   <g id=\"text_39\">\n    <!-- График y4 -->\n    <g transform=\"translate(351.587147 204.332038) scale(0.12 -0.12)\">\n     <use xlink:href=\"#DejaVuSans-413\"/>\n     <use xlink:href=\"#DejaVuSans-440\" x=\"60.986328\"/>\n     <use xlink:href=\"#DejaVuSans-430\" x=\"124.462891\"/>\n     <use xlink:href=\"#DejaVuSans-444\" x=\"185.742188\"/>\n     <use xlink:href=\"#DejaVuSans-438\" x=\"271.240234\"/>\n     <use xlink:href=\"#DejaVuSans-43a\" x=\"336.230469\"/>\n     <use xlink:href=\"#DejaVuSans-20\" x=\"396.630859\"/>\n     <use xlink:href=\"#DejaVuSans-79\" x=\"428.417969\"/>\n     <use xlink:href=\"#DejaVuSans-34\" x=\"487.597656\"/>\n    </g>\n   </g>\n  </g>\n </g>\n <defs>\n  <clipPath id=\"pf5d212c3e9\">\n   <rect x=\"35.304688\" y=\"22.318125\" width=\"194.086957\" height=\"144.626087\"/>\n  </clipPath>\n  <clipPath id=\"p10e8afa16e\">\n   <rect x=\"287.617731\" y=\"22.318125\" width=\"194.086957\" height=\"144.626087\"/>\n  </clipPath>\n  <clipPath id=\"p05e1d5a99d\">\n   <rect x=\"35.304688\" y=\"210.332038\" width=\"194.086957\" height=\"144.626087\"/>\n  </clipPath>\n  <clipPath id=\"p6739a0499f\">\n   <rect x=\"287.617731\" y=\"210.332038\" width=\"194.086957\" height=\"144.626087\"/>\n  </clipPath>\n </defs>\n</svg>\n"
          },
          "metadata": {}
        }
      ]
    },
    {
      "cell_type": "markdown",
      "source": [
        "Задание 4 *\n",
        "\n",
        "В этом задании мы будем работать с датасетом, в котором приведены данные по мошенничеству с кредитными данными: Credit Card Fraud Detection (информация об авторах: Andrea Dal Pozzolo, Olivier Caelen, Reid A. Johnson and Gianluca Bontempi. Calibrating Probability with Undersampling for Unbalanced\n",
        "Classification. In Symposium on Computational Intelligence and Data Mining (CIDM), IEEE, 2015).\n",
        "\n",
        "Ознакомьтесь с описанием и скачайте датасет creditcard.csv с сайта Kaggle.com по ссылке: [Credit Card Fraud Detection]('https://www.kaggle.com/datasets/mlg-ulb/creditcardfraud') .\n",
        "\n",
        "Данный датасет является примером несбалансированных данных, так как мошеннические операции с картами встречаются реже обычных.\n",
        "Импортируйте библиотеку Pandas, а также используйте для графиков стиль “fivethirtyeight”.\n",
        "\n",
        "Посчитайте с помощью метода value_counts количество наблюдений для каждого значения целевой переменной Class и примените к полученным данным метод plot, чтобы построить столбчатую диаграмму. Затем постройте такую же диаграмму, используя логарифмический масштаб.\n",
        "\n",
        "На следующем графике постройте две гистограммы по значениям признака V1 - одну для мошеннических транзакций (Class равен 1) и другую - для обычных (Class равен 0). Подберите значение аргумента density так, чтобы по вертикали графика было расположено не число наблюдений, а плотность распределения. Число бинов должно равняться 20 для обеих гистограмм, а коэффициент alpha сделайте равным 0.5, чтобы гистограммы были полупрозрачными и не загораживали друг друга. Создайте легенду с двумя значениями: “Class 0” и “Class 1”. Гистограмма\n",
        "обычных транзакций должна быть серого цвета, а мошеннических - красного. Горизонтальной оси дайте название “V1”.\n"
      ],
      "metadata": {
        "id": "Q9g28lHHw7WQ"
      }
    },
    {
      "cell_type": "code",
      "source": [
        "plt.style.use('fivethirtyeight')\n",
        "df = pd.read_csv('/content/creditcard.csv')\n",
        "df.iloc[:10, [0, 1, 2, 3, 4, 28, 29, 30]]\n",
        "class_count = df['Class'].value_counts()\n",
        "class_count\n",
        "class_count.plot(kind='bar')\n",
        "plt.show()\n",
        "class_count.plot(kind='bar', logy=True)\n",
        "plt.show()\n",
        "fraud_transaction = df.loc[df['Class']==1, 'V1']\n",
        "normal_transaction= df.loc[df['Class']==0, 'V1']\n",
        "hist = plt.hist([fraud_transaction, normal_transaction], bins=20, density=True, color=['red','grey'], alpha=0.5)\n",
        "label_font = {\n",
        "    \"fontsize\": 12,\n",
        "    \"fontweight\":\"light\",\n",
        "    \"family\": \"serif\",\n",
        "}\n",
        "plt.xlabel('Class', fontdict=label_font, labelpad=20)\n",
        "plt.legend(labels=['Class1', 'Class0'], frameon=False)\n",
        "plt.show"
      ],
      "metadata": {
        "colab": {
          "base_uri": "https://localhost:8080/",
          "height": 1000
        },
        "id": "CVYcsG4YyLfF",
        "outputId": "17fd1196-6b38-4971-a7d1-481058aa602a"
      },
      "execution_count": 5,
      "outputs": [
        {
          "output_type": "display_data",
          "data": {
            "text/plain": [
              "<Figure size 640x480 with 1 Axes>"
            ],
            "image/svg+xml": "<?xml version=\"1.0\" encoding=\"utf-8\" standalone=\"no\"?>\n<!DOCTYPE svg PUBLIC \"-//W3C//DTD SVG 1.1//EN\"\n  \"http://www.w3.org/Graphics/SVG/1.1/DTD/svg11.dtd\">\n<svg xmlns:xlink=\"http://www.w3.org/1999/xlink\" width=\"472.241pt\" height=\"327.00275pt\" viewBox=\"0 0 472.241 327.00275\" xmlns=\"http://www.w3.org/2000/svg\" version=\"1.1\">\n <metadata>\n  <rdf:RDF xmlns:dc=\"http://purl.org/dc/elements/1.1/\" xmlns:cc=\"http://creativecommons.org/ns#\" xmlns:rdf=\"http://www.w3.org/1999/02/22-rdf-syntax-ns#\">\n   <cc:Work>\n    <dc:type rdf:resource=\"http://purl.org/dc/dcmitype/StillImage\"/>\n    <dc:date>2024-07-24T18:16:31.904213</dc:date>\n    <dc:format>image/svg+xml</dc:format>\n    <dc:creator>\n     <cc:Agent>\n      <dc:title>Matplotlib v3.7.1, https://matplotlib.org/</dc:title>\n     </cc:Agent>\n    </dc:creator>\n   </cc:Work>\n  </rdf:RDF>\n </metadata>\n <defs>\n  <style type=\"text/css\">*{stroke-linejoin: round; stroke-linecap: butt}</style>\n </defs>\n <g id=\"figure_1\">\n  <g id=\"patch_1\">\n   <path d=\"M 0 327.00275 \nL 472.241 327.00275 \nL 472.241 0 \nL 0 0 \nz\n\" style=\"fill: #f0f0f0\"/>\n  </g>\n  <g id=\"axes_1\">\n   <g id=\"patch_2\">\n    <path d=\"M 64.145 287.136 \nL 465.041 287.136 \nL 465.041 7.2 \nL 64.145 7.2 \nz\n\" style=\"fill: #f0f0f0\"/>\n   </g>\n   <g id=\"matplotlib.axis_1\">\n    <g id=\"xtick_1\">\n     <g id=\"line2d_1\">\n      <path d=\"M 164.369 287.136 \nL 164.369 7.2 \n\" clip-path=\"url(#pa03631ab1b)\" style=\"fill: none; stroke: #cbcbcb\"/>\n     </g>\n     <g id=\"line2d_2\"/>\n     <g id=\"text_1\">\n      <!-- 0 -->\n      <g transform=\"translate(168.232125 299.5435) rotate(-90) scale(0.14 -0.14)\">\n       <defs>\n        <path id=\"DejaVuSans-30\" d=\"M 2034 4250 \nQ 1547 4250 1301 3770 \nQ 1056 3291 1056 2328 \nQ 1056 1369 1301 889 \nQ 1547 409 2034 409 \nQ 2525 409 2770 889 \nQ 3016 1369 3016 2328 \nQ 3016 3291 2770 3770 \nQ 2525 4250 2034 4250 \nz\nM 2034 4750 \nQ 2819 4750 3233 4129 \nQ 3647 3509 3647 2328 \nQ 3647 1150 3233 529 \nQ 2819 -91 2034 -91 \nQ 1250 -91 836 529 \nQ 422 1150 422 2328 \nQ 422 3509 836 4129 \nQ 1250 4750 2034 4750 \nz\n\" transform=\"scale(0.015625)\"/>\n       </defs>\n       <use xlink:href=\"#DejaVuSans-30\"/>\n      </g>\n     </g>\n    </g>\n    <g id=\"xtick_2\">\n     <g id=\"line2d_3\">\n      <path d=\"M 364.817 287.136 \nL 364.817 7.2 \n\" clip-path=\"url(#pa03631ab1b)\" style=\"fill: none; stroke: #cbcbcb\"/>\n     </g>\n     <g id=\"line2d_4\"/>\n     <g id=\"text_2\">\n      <!-- 1 -->\n      <g transform=\"translate(368.680125 299.5435) rotate(-90) scale(0.14 -0.14)\">\n       <defs>\n        <path id=\"DejaVuSans-31\" d=\"M 794 531 \nL 1825 531 \nL 1825 4091 \nL 703 3866 \nL 703 4441 \nL 1819 4666 \nL 2450 4666 \nL 2450 531 \nL 3481 531 \nL 3481 0 \nL 794 0 \nL 794 531 \nz\n\" transform=\"scale(0.015625)\"/>\n       </defs>\n       <use xlink:href=\"#DejaVuSans-31\"/>\n      </g>\n     </g>\n    </g>\n    <g id=\"text_3\">\n     <!-- Class -->\n     <g transform=\"translate(242.494437 316.308875) scale(0.168 -0.168)\">\n      <defs>\n       <path id=\"DejaVuSans-43\" d=\"M 4122 4306 \nL 4122 3641 \nQ 3803 3938 3442 4084 \nQ 3081 4231 2675 4231 \nQ 1875 4231 1450 3742 \nQ 1025 3253 1025 2328 \nQ 1025 1406 1450 917 \nQ 1875 428 2675 428 \nQ 3081 428 3442 575 \nQ 3803 722 4122 1019 \nL 4122 359 \nQ 3791 134 3420 21 \nQ 3050 -91 2638 -91 \nQ 1578 -91 968 557 \nQ 359 1206 359 2328 \nQ 359 3453 968 4101 \nQ 1578 4750 2638 4750 \nQ 3056 4750 3426 4639 \nQ 3797 4528 4122 4306 \nz\n\" transform=\"scale(0.015625)\"/>\n       <path id=\"DejaVuSans-6c\" d=\"M 603 4863 \nL 1178 4863 \nL 1178 0 \nL 603 0 \nL 603 4863 \nz\n\" transform=\"scale(0.015625)\"/>\n       <path id=\"DejaVuSans-61\" d=\"M 2194 1759 \nQ 1497 1759 1228 1600 \nQ 959 1441 959 1056 \nQ 959 750 1161 570 \nQ 1363 391 1709 391 \nQ 2188 391 2477 730 \nQ 2766 1069 2766 1631 \nL 2766 1759 \nL 2194 1759 \nz\nM 3341 1997 \nL 3341 0 \nL 2766 0 \nL 2766 531 \nQ 2569 213 2275 61 \nQ 1981 -91 1556 -91 \nQ 1019 -91 701 211 \nQ 384 513 384 1019 \nQ 384 1609 779 1909 \nQ 1175 2209 1959 2209 \nL 2766 2209 \nL 2766 2266 \nQ 2766 2663 2505 2880 \nQ 2244 3097 1772 3097 \nQ 1472 3097 1187 3025 \nQ 903 2953 641 2809 \nL 641 3341 \nQ 956 3463 1253 3523 \nQ 1550 3584 1831 3584 \nQ 2591 3584 2966 3190 \nQ 3341 2797 3341 1997 \nz\n\" transform=\"scale(0.015625)\"/>\n       <path id=\"DejaVuSans-73\" d=\"M 2834 3397 \nL 2834 2853 \nQ 2591 2978 2328 3040 \nQ 2066 3103 1784 3103 \nQ 1356 3103 1142 2972 \nQ 928 2841 928 2578 \nQ 928 2378 1081 2264 \nQ 1234 2150 1697 2047 \nL 1894 2003 \nQ 2506 1872 2764 1633 \nQ 3022 1394 3022 966 \nQ 3022 478 2636 193 \nQ 2250 -91 1575 -91 \nQ 1294 -91 989 -36 \nQ 684 19 347 128 \nL 347 722 \nQ 666 556 975 473 \nQ 1284 391 1588 391 \nQ 1994 391 2212 530 \nQ 2431 669 2431 922 \nQ 2431 1156 2273 1281 \nQ 2116 1406 1581 1522 \nL 1381 1569 \nQ 847 1681 609 1914 \nQ 372 2147 372 2553 \nQ 372 3047 722 3315 \nQ 1072 3584 1716 3584 \nQ 2034 3584 2315 3537 \nQ 2597 3491 2834 3397 \nz\n\" transform=\"scale(0.015625)\"/>\n      </defs>\n      <use xlink:href=\"#DejaVuSans-43\"/>\n      <use xlink:href=\"#DejaVuSans-6c\" x=\"69.824219\"/>\n      <use xlink:href=\"#DejaVuSans-61\" x=\"97.607422\"/>\n      <use xlink:href=\"#DejaVuSans-73\" x=\"158.886719\"/>\n      <use xlink:href=\"#DejaVuSans-73\" x=\"210.986328\"/>\n     </g>\n    </g>\n   </g>\n   <g id=\"matplotlib.axis_2\">\n    <g id=\"ytick_1\">\n     <g id=\"line2d_5\">\n      <path d=\"M 64.145 287.136 \nL 465.041 287.136 \n\" clip-path=\"url(#pa03631ab1b)\" style=\"fill: none; stroke: #cbcbcb\"/>\n     </g>\n     <g id=\"line2d_6\"/>\n     <g id=\"text_4\">\n      <!-- 0 -->\n      <g transform=\"translate(51.7375 292.454906) scale(0.14 -0.14)\">\n       <use xlink:href=\"#DejaVuSans-30\"/>\n      </g>\n     </g>\n    </g>\n    <g id=\"ytick_2\">\n     <g id=\"line2d_7\">\n      <path d=\"M 64.145 240.250378 \nL 465.041 240.250378 \n\" clip-path=\"url(#pa03631ab1b)\" style=\"fill: none; stroke: #cbcbcb\"/>\n     </g>\n     <g id=\"line2d_8\"/>\n     <g id=\"text_5\">\n      <!-- 50000 -->\n      <g transform=\"translate(16.1075 245.569284) scale(0.14 -0.14)\">\n       <defs>\n        <path id=\"DejaVuSans-35\" d=\"M 691 4666 \nL 3169 4666 \nL 3169 4134 \nL 1269 4134 \nL 1269 2991 \nQ 1406 3038 1543 3061 \nQ 1681 3084 1819 3084 \nQ 2600 3084 3056 2656 \nQ 3513 2228 3513 1497 \nQ 3513 744 3044 326 \nQ 2575 -91 1722 -91 \nQ 1428 -91 1123 -41 \nQ 819 9 494 109 \nL 494 744 \nQ 775 591 1075 516 \nQ 1375 441 1709 441 \nQ 2250 441 2565 725 \nQ 2881 1009 2881 1497 \nQ 2881 1984 2565 2268 \nQ 2250 2553 1709 2553 \nQ 1456 2553 1204 2497 \nQ 953 2441 691 2322 \nL 691 4666 \nz\n\" transform=\"scale(0.015625)\"/>\n       </defs>\n       <use xlink:href=\"#DejaVuSans-35\"/>\n       <use xlink:href=\"#DejaVuSans-30\" x=\"63.623047\"/>\n       <use xlink:href=\"#DejaVuSans-30\" x=\"127.246094\"/>\n       <use xlink:href=\"#DejaVuSans-30\" x=\"190.869141\"/>\n       <use xlink:href=\"#DejaVuSans-30\" x=\"254.492188\"/>\n      </g>\n     </g>\n    </g>\n    <g id=\"ytick_3\">\n     <g id=\"line2d_9\">\n      <path d=\"M 64.145 193.364755 \nL 465.041 193.364755 \n\" clip-path=\"url(#pa03631ab1b)\" style=\"fill: none; stroke: #cbcbcb\"/>\n     </g>\n     <g id=\"line2d_10\"/>\n     <g id=\"text_6\">\n      <!-- 100000 -->\n      <g transform=\"translate(7.2 198.683662) scale(0.14 -0.14)\">\n       <use xlink:href=\"#DejaVuSans-31\"/>\n       <use xlink:href=\"#DejaVuSans-30\" x=\"63.623047\"/>\n       <use xlink:href=\"#DejaVuSans-30\" x=\"127.246094\"/>\n       <use xlink:href=\"#DejaVuSans-30\" x=\"190.869141\"/>\n       <use xlink:href=\"#DejaVuSans-30\" x=\"254.492188\"/>\n       <use xlink:href=\"#DejaVuSans-30\" x=\"318.115234\"/>\n      </g>\n     </g>\n    </g>\n    <g id=\"ytick_4\">\n     <g id=\"line2d_11\">\n      <path d=\"M 64.145 146.479133 \nL 465.041 146.479133 \n\" clip-path=\"url(#pa03631ab1b)\" style=\"fill: none; stroke: #cbcbcb\"/>\n     </g>\n     <g id=\"line2d_12\"/>\n     <g id=\"text_7\">\n      <!-- 150000 -->\n      <g transform=\"translate(7.2 151.798039) scale(0.14 -0.14)\">\n       <use xlink:href=\"#DejaVuSans-31\"/>\n       <use xlink:href=\"#DejaVuSans-35\" x=\"63.623047\"/>\n       <use xlink:href=\"#DejaVuSans-30\" x=\"127.246094\"/>\n       <use xlink:href=\"#DejaVuSans-30\" x=\"190.869141\"/>\n       <use xlink:href=\"#DejaVuSans-30\" x=\"254.492188\"/>\n       <use xlink:href=\"#DejaVuSans-30\" x=\"318.115234\"/>\n      </g>\n     </g>\n    </g>\n    <g id=\"ytick_5\">\n     <g id=\"line2d_13\">\n      <path d=\"M 64.145 99.593511 \nL 465.041 99.593511 \n\" clip-path=\"url(#pa03631ab1b)\" style=\"fill: none; stroke: #cbcbcb\"/>\n     </g>\n     <g id=\"line2d_14\"/>\n     <g id=\"text_8\">\n      <!-- 200000 -->\n      <g transform=\"translate(7.2 104.912417) scale(0.14 -0.14)\">\n       <defs>\n        <path id=\"DejaVuSans-32\" d=\"M 1228 531 \nL 3431 531 \nL 3431 0 \nL 469 0 \nL 469 531 \nQ 828 903 1448 1529 \nQ 2069 2156 2228 2338 \nQ 2531 2678 2651 2914 \nQ 2772 3150 2772 3378 \nQ 2772 3750 2511 3984 \nQ 2250 4219 1831 4219 \nQ 1534 4219 1204 4116 \nQ 875 4013 500 3803 \nL 500 4441 \nQ 881 4594 1212 4672 \nQ 1544 4750 1819 4750 \nQ 2544 4750 2975 4387 \nQ 3406 4025 3406 3419 \nQ 3406 3131 3298 2873 \nQ 3191 2616 2906 2266 \nQ 2828 2175 2409 1742 \nQ 1991 1309 1228 531 \nz\n\" transform=\"scale(0.015625)\"/>\n       </defs>\n       <use xlink:href=\"#DejaVuSans-32\"/>\n       <use xlink:href=\"#DejaVuSans-30\" x=\"63.623047\"/>\n       <use xlink:href=\"#DejaVuSans-30\" x=\"127.246094\"/>\n       <use xlink:href=\"#DejaVuSans-30\" x=\"190.869141\"/>\n       <use xlink:href=\"#DejaVuSans-30\" x=\"254.492188\"/>\n       <use xlink:href=\"#DejaVuSans-30\" x=\"318.115234\"/>\n      </g>\n     </g>\n    </g>\n    <g id=\"ytick_6\">\n     <g id=\"line2d_15\">\n      <path d=\"M 64.145 52.707888 \nL 465.041 52.707888 \n\" clip-path=\"url(#pa03631ab1b)\" style=\"fill: none; stroke: #cbcbcb\"/>\n     </g>\n     <g id=\"line2d_16\"/>\n     <g id=\"text_9\">\n      <!-- 250000 -->\n      <g transform=\"translate(7.2 58.026795) scale(0.14 -0.14)\">\n       <use xlink:href=\"#DejaVuSans-32\"/>\n       <use xlink:href=\"#DejaVuSans-35\" x=\"63.623047\"/>\n       <use xlink:href=\"#DejaVuSans-30\" x=\"127.246094\"/>\n       <use xlink:href=\"#DejaVuSans-30\" x=\"190.869141\"/>\n       <use xlink:href=\"#DejaVuSans-30\" x=\"254.492188\"/>\n       <use xlink:href=\"#DejaVuSans-30\" x=\"318.115234\"/>\n      </g>\n     </g>\n    </g>\n   </g>\n   <g id=\"patch_3\">\n    <path d=\"M 114.257 287.136 \nL 214.481 287.136 \nL 214.481 20.530286 \nL 114.257 20.530286 \nz\n\" clip-path=\"url(#pa03631ab1b)\" style=\"fill: #008fd5\"/>\n   </g>\n   <g id=\"patch_4\">\n    <path d=\"M 314.705 287.136 \nL 414.929 287.136 \nL 414.929 286.674645 \nL 314.705 286.674645 \nz\n\" clip-path=\"url(#pa03631ab1b)\" style=\"fill: #008fd5\"/>\n   </g>\n   <g id=\"patch_5\">\n    <path d=\"M 64.145 287.136 \nL 64.145 7.2 \n\" style=\"fill: none; stroke: #f0f0f0; stroke-width: 3; stroke-linejoin: miter; stroke-linecap: square\"/>\n   </g>\n   <g id=\"patch_6\">\n    <path d=\"M 465.041 287.136 \nL 465.041 7.2 \n\" style=\"fill: none; stroke: #f0f0f0; stroke-width: 3; stroke-linejoin: miter; stroke-linecap: square\"/>\n   </g>\n   <g id=\"patch_7\">\n    <path d=\"M 64.145 287.136 \nL 465.041 287.136 \n\" style=\"fill: none; stroke: #f0f0f0; stroke-width: 3; stroke-linejoin: miter; stroke-linecap: square\"/>\n   </g>\n   <g id=\"patch_8\">\n    <path d=\"M 64.145 7.2 \nL 465.041 7.2 \n\" style=\"fill: none; stroke: #f0f0f0; stroke-width: 3; stroke-linejoin: miter; stroke-linecap: square\"/>\n   </g>\n  </g>\n </g>\n <defs>\n  <clipPath id=\"pa03631ab1b\">\n   <rect x=\"64.145\" y=\"7.2\" width=\"400.896\" height=\"279.936\"/>\n  </clipPath>\n </defs>\n</svg>\n"
          },
          "metadata": {}
        },
        {
          "output_type": "display_data",
          "data": {
            "text/plain": [
              "<Figure size 640x480 with 1 Axes>"
            ],
            "image/svg+xml": "<?xml version=\"1.0\" encoding=\"utf-8\" standalone=\"no\"?>\n<!DOCTYPE svg PUBLIC \"-//W3C//DTD SVG 1.1//EN\"\n  \"http://www.w3.org/Graphics/SVG/1.1/DTD/svg11.dtd\">\n<svg xmlns:xlink=\"http://www.w3.org/1999/xlink\" width=\"443.436pt\" height=\"327.00275pt\" viewBox=\"0 0 443.436 327.00275\" xmlns=\"http://www.w3.org/2000/svg\" version=\"1.1\">\n <metadata>\n  <rdf:RDF xmlns:dc=\"http://purl.org/dc/elements/1.1/\" xmlns:cc=\"http://creativecommons.org/ns#\" xmlns:rdf=\"http://www.w3.org/1999/02/22-rdf-syntax-ns#\">\n   <cc:Work>\n    <dc:type rdf:resource=\"http://purl.org/dc/dcmitype/StillImage\"/>\n    <dc:date>2024-07-24T18:16:33.366018</dc:date>\n    <dc:format>image/svg+xml</dc:format>\n    <dc:creator>\n     <cc:Agent>\n      <dc:title>Matplotlib v3.7.1, https://matplotlib.org/</dc:title>\n     </cc:Agent>\n    </dc:creator>\n   </cc:Work>\n  </rdf:RDF>\n </metadata>\n <defs>\n  <style type=\"text/css\">*{stroke-linejoin: round; stroke-linecap: butt}</style>\n </defs>\n <g id=\"figure_1\">\n  <g id=\"patch_1\">\n   <path d=\"M 0 327.00275 \nL 443.436 327.00275 \nL 443.436 0 \nL 0 0 \nz\n\" style=\"fill: #f0f0f0\"/>\n  </g>\n  <g id=\"axes_1\">\n   <g id=\"patch_2\">\n    <path d=\"M 35.34 287.136 \nL 436.236 287.136 \nL 436.236 7.2 \nL 35.34 7.2 \nz\n\" style=\"fill: #f0f0f0\"/>\n   </g>\n   <g id=\"matplotlib.axis_1\">\n    <g id=\"xtick_1\">\n     <g id=\"line2d_1\">\n      <path d=\"M 135.564 287.136 \nL 135.564 7.2 \n\" clip-path=\"url(#p7bb7220b9d)\" style=\"fill: none; stroke: #cbcbcb\"/>\n     </g>\n     <g id=\"line2d_2\"/>\n     <g id=\"text_1\">\n      <!-- 0 -->\n      <g transform=\"translate(139.427125 299.5435) rotate(-90) scale(0.14 -0.14)\">\n       <defs>\n        <path id=\"DejaVuSans-30\" d=\"M 2034 4250 \nQ 1547 4250 1301 3770 \nQ 1056 3291 1056 2328 \nQ 1056 1369 1301 889 \nQ 1547 409 2034 409 \nQ 2525 409 2770 889 \nQ 3016 1369 3016 2328 \nQ 3016 3291 2770 3770 \nQ 2525 4250 2034 4250 \nz\nM 2034 4750 \nQ 2819 4750 3233 4129 \nQ 3647 3509 3647 2328 \nQ 3647 1150 3233 529 \nQ 2819 -91 2034 -91 \nQ 1250 -91 836 529 \nQ 422 1150 422 2328 \nQ 422 3509 836 4129 \nQ 1250 4750 2034 4750 \nz\n\" transform=\"scale(0.015625)\"/>\n       </defs>\n       <use xlink:href=\"#DejaVuSans-30\"/>\n      </g>\n     </g>\n    </g>\n    <g id=\"xtick_2\">\n     <g id=\"line2d_3\">\n      <path d=\"M 336.012 287.136 \nL 336.012 7.2 \n\" clip-path=\"url(#p7bb7220b9d)\" style=\"fill: none; stroke: #cbcbcb\"/>\n     </g>\n     <g id=\"line2d_4\"/>\n     <g id=\"text_2\">\n      <!-- 1 -->\n      <g transform=\"translate(339.875125 299.5435) rotate(-90) scale(0.14 -0.14)\">\n       <defs>\n        <path id=\"DejaVuSans-31\" d=\"M 794 531 \nL 1825 531 \nL 1825 4091 \nL 703 3866 \nL 703 4441 \nL 1819 4666 \nL 2450 4666 \nL 2450 531 \nL 3481 531 \nL 3481 0 \nL 794 0 \nL 794 531 \nz\n\" transform=\"scale(0.015625)\"/>\n       </defs>\n       <use xlink:href=\"#DejaVuSans-31\"/>\n      </g>\n     </g>\n    </g>\n    <g id=\"text_3\">\n     <!-- Class -->\n     <g transform=\"translate(213.689437 316.308875) scale(0.168 -0.168)\">\n      <defs>\n       <path id=\"DejaVuSans-43\" d=\"M 4122 4306 \nL 4122 3641 \nQ 3803 3938 3442 4084 \nQ 3081 4231 2675 4231 \nQ 1875 4231 1450 3742 \nQ 1025 3253 1025 2328 \nQ 1025 1406 1450 917 \nQ 1875 428 2675 428 \nQ 3081 428 3442 575 \nQ 3803 722 4122 1019 \nL 4122 359 \nQ 3791 134 3420 21 \nQ 3050 -91 2638 -91 \nQ 1578 -91 968 557 \nQ 359 1206 359 2328 \nQ 359 3453 968 4101 \nQ 1578 4750 2638 4750 \nQ 3056 4750 3426 4639 \nQ 3797 4528 4122 4306 \nz\n\" transform=\"scale(0.015625)\"/>\n       <path id=\"DejaVuSans-6c\" d=\"M 603 4863 \nL 1178 4863 \nL 1178 0 \nL 603 0 \nL 603 4863 \nz\n\" transform=\"scale(0.015625)\"/>\n       <path id=\"DejaVuSans-61\" d=\"M 2194 1759 \nQ 1497 1759 1228 1600 \nQ 959 1441 959 1056 \nQ 959 750 1161 570 \nQ 1363 391 1709 391 \nQ 2188 391 2477 730 \nQ 2766 1069 2766 1631 \nL 2766 1759 \nL 2194 1759 \nz\nM 3341 1997 \nL 3341 0 \nL 2766 0 \nL 2766 531 \nQ 2569 213 2275 61 \nQ 1981 -91 1556 -91 \nQ 1019 -91 701 211 \nQ 384 513 384 1019 \nQ 384 1609 779 1909 \nQ 1175 2209 1959 2209 \nL 2766 2209 \nL 2766 2266 \nQ 2766 2663 2505 2880 \nQ 2244 3097 1772 3097 \nQ 1472 3097 1187 3025 \nQ 903 2953 641 2809 \nL 641 3341 \nQ 956 3463 1253 3523 \nQ 1550 3584 1831 3584 \nQ 2591 3584 2966 3190 \nQ 3341 2797 3341 1997 \nz\n\" transform=\"scale(0.015625)\"/>\n       <path id=\"DejaVuSans-73\" d=\"M 2834 3397 \nL 2834 2853 \nQ 2591 2978 2328 3040 \nQ 2066 3103 1784 3103 \nQ 1356 3103 1142 2972 \nQ 928 2841 928 2578 \nQ 928 2378 1081 2264 \nQ 1234 2150 1697 2047 \nL 1894 2003 \nQ 2506 1872 2764 1633 \nQ 3022 1394 3022 966 \nQ 3022 478 2636 193 \nQ 2250 -91 1575 -91 \nQ 1294 -91 989 -36 \nQ 684 19 347 128 \nL 347 722 \nQ 666 556 975 473 \nQ 1284 391 1588 391 \nQ 1994 391 2212 530 \nQ 2431 669 2431 922 \nQ 2431 1156 2273 1281 \nQ 2116 1406 1581 1522 \nL 1381 1569 \nQ 847 1681 609 1914 \nQ 372 2147 372 2553 \nQ 372 3047 722 3315 \nQ 1072 3584 1716 3584 \nQ 2034 3584 2315 3537 \nQ 2597 3491 2834 3397 \nz\n\" transform=\"scale(0.015625)\"/>\n      </defs>\n      <use xlink:href=\"#DejaVuSans-43\"/>\n      <use xlink:href=\"#DejaVuSans-6c\" x=\"69.824219\"/>\n      <use xlink:href=\"#DejaVuSans-61\" x=\"97.607422\"/>\n      <use xlink:href=\"#DejaVuSans-73\" x=\"158.886719\"/>\n      <use xlink:href=\"#DejaVuSans-73\" x=\"210.986328\"/>\n     </g>\n    </g>\n   </g>\n   <g id=\"matplotlib.axis_2\">\n    <g id=\"ytick_1\">\n     <g id=\"line2d_5\">\n      <path d=\"M 35.34 246.027982 \nL 436.236 246.027982 \n\" clip-path=\"url(#p7bb7220b9d)\" style=\"fill: none; stroke: #cbcbcb\"/>\n     </g>\n     <g id=\"line2d_6\"/>\n     <g id=\"text_4\">\n      <!-- $\\mathdefault{10^{3}}$ -->\n      <g transform=\"translate(7.2 251.346888) scale(0.14 -0.14)\">\n       <defs>\n        <path id=\"DejaVuSans-33\" d=\"M 2597 2516 \nQ 3050 2419 3304 2112 \nQ 3559 1806 3559 1356 \nQ 3559 666 3084 287 \nQ 2609 -91 1734 -91 \nQ 1441 -91 1130 -33 \nQ 819 25 488 141 \nL 488 750 \nQ 750 597 1062 519 \nQ 1375 441 1716 441 \nQ 2309 441 2620 675 \nQ 2931 909 2931 1356 \nQ 2931 1769 2642 2001 \nQ 2353 2234 1838 2234 \nL 1294 2234 \nL 1294 2753 \nL 1863 2753 \nQ 2328 2753 2575 2939 \nQ 2822 3125 2822 3475 \nQ 2822 3834 2567 4026 \nQ 2313 4219 1838 4219 \nQ 1578 4219 1281 4162 \nQ 984 4106 628 3988 \nL 628 4550 \nQ 988 4650 1302 4700 \nQ 1616 4750 1894 4750 \nQ 2613 4750 3031 4423 \nQ 3450 4097 3450 3541 \nQ 3450 3153 3228 2886 \nQ 3006 2619 2597 2516 \nz\n\" transform=\"scale(0.015625)\"/>\n       </defs>\n       <use xlink:href=\"#DejaVuSans-31\" transform=\"translate(0 0.765625)\"/>\n       <use xlink:href=\"#DejaVuSans-30\" transform=\"translate(63.623047 0.765625)\"/>\n       <use xlink:href=\"#DejaVuSans-33\" transform=\"translate(128.203125 39.046875) scale(0.7)\"/>\n      </g>\n     </g>\n    </g>\n    <g id=\"ytick_2\">\n     <g id=\"line2d_7\">\n      <path d=\"M 35.34 153.8837 \nL 436.236 153.8837 \n\" clip-path=\"url(#p7bb7220b9d)\" style=\"fill: none; stroke: #cbcbcb\"/>\n     </g>\n     <g id=\"line2d_8\"/>\n     <g id=\"text_5\">\n      <!-- $\\mathdefault{10^{4}}$ -->\n      <g transform=\"translate(7.2 159.202606) scale(0.14 -0.14)\">\n       <defs>\n        <path id=\"DejaVuSans-34\" d=\"M 2419 4116 \nL 825 1625 \nL 2419 1625 \nL 2419 4116 \nz\nM 2253 4666 \nL 3047 4666 \nL 3047 1625 \nL 3713 1625 \nL 3713 1100 \nL 3047 1100 \nL 3047 0 \nL 2419 0 \nL 2419 1100 \nL 313 1100 \nL 313 1709 \nL 2253 4666 \nz\n\" transform=\"scale(0.015625)\"/>\n       </defs>\n       <use xlink:href=\"#DejaVuSans-31\" transform=\"translate(0 0.684375)\"/>\n       <use xlink:href=\"#DejaVuSans-30\" transform=\"translate(63.623047 0.684375)\"/>\n       <use xlink:href=\"#DejaVuSans-34\" transform=\"translate(128.203125 38.965625) scale(0.7)\"/>\n      </g>\n     </g>\n    </g>\n    <g id=\"ytick_3\">\n     <g id=\"line2d_9\">\n      <path d=\"M 35.34 61.739418 \nL 436.236 61.739418 \n\" clip-path=\"url(#p7bb7220b9d)\" style=\"fill: none; stroke: #cbcbcb\"/>\n     </g>\n     <g id=\"line2d_10\"/>\n     <g id=\"text_6\">\n      <!-- $\\mathdefault{10^{5}}$ -->\n      <g transform=\"translate(7.2 67.058324) scale(0.14 -0.14)\">\n       <defs>\n        <path id=\"DejaVuSans-35\" d=\"M 691 4666 \nL 3169 4666 \nL 3169 4134 \nL 1269 4134 \nL 1269 2991 \nQ 1406 3038 1543 3061 \nQ 1681 3084 1819 3084 \nQ 2600 3084 3056 2656 \nQ 3513 2228 3513 1497 \nQ 3513 744 3044 326 \nQ 2575 -91 1722 -91 \nQ 1428 -91 1123 -41 \nQ 819 9 494 109 \nL 494 744 \nQ 775 591 1075 516 \nQ 1375 441 1709 441 \nQ 2250 441 2565 725 \nQ 2881 1009 2881 1497 \nQ 2881 1984 2565 2268 \nQ 2250 2553 1709 2553 \nQ 1456 2553 1204 2497 \nQ 953 2441 691 2322 \nL 691 4666 \nz\n\" transform=\"scale(0.015625)\"/>\n       </defs>\n       <use xlink:href=\"#DejaVuSans-31\" transform=\"translate(0 0.684375)\"/>\n       <use xlink:href=\"#DejaVuSans-30\" transform=\"translate(63.623047 0.684375)\"/>\n       <use xlink:href=\"#DejaVuSans-35\" transform=\"translate(128.203125 38.965625) scale(0.7)\"/>\n      </g>\n     </g>\n    </g>\n    <g id=\"ytick_4\">\n     <g id=\"line2d_11\"/>\n    </g>\n    <g id=\"ytick_5\">\n     <g id=\"line2d_12\"/>\n    </g>\n    <g id=\"ytick_6\">\n     <g id=\"line2d_13\"/>\n    </g>\n    <g id=\"ytick_7\">\n     <g id=\"line2d_14\"/>\n    </g>\n    <g id=\"ytick_8\">\n     <g id=\"line2d_15\"/>\n    </g>\n    <g id=\"ytick_9\">\n     <g id=\"line2d_16\"/>\n    </g>\n    <g id=\"ytick_10\">\n     <g id=\"line2d_17\"/>\n    </g>\n    <g id=\"ytick_11\">\n     <g id=\"line2d_18\"/>\n    </g>\n    <g id=\"ytick_12\">\n     <g id=\"line2d_19\"/>\n    </g>\n    <g id=\"ytick_13\">\n     <g id=\"line2d_20\"/>\n    </g>\n    <g id=\"ytick_14\">\n     <g id=\"line2d_21\"/>\n    </g>\n    <g id=\"ytick_15\">\n     <g id=\"line2d_22\"/>\n    </g>\n    <g id=\"ytick_16\">\n     <g id=\"line2d_23\"/>\n    </g>\n    <g id=\"ytick_17\">\n     <g id=\"line2d_24\"/>\n    </g>\n    <g id=\"ytick_18\">\n     <g id=\"line2d_25\"/>\n    </g>\n    <g id=\"ytick_19\">\n     <g id=\"line2d_26\"/>\n    </g>\n    <g id=\"ytick_20\">\n     <g id=\"line2d_27\"/>\n    </g>\n    <g id=\"ytick_21\">\n     <g id=\"line2d_28\"/>\n    </g>\n    <g id=\"ytick_22\">\n     <g id=\"line2d_29\"/>\n    </g>\n    <g id=\"ytick_23\">\n     <g id=\"line2d_30\"/>\n    </g>\n    <g id=\"ytick_24\">\n     <g id=\"line2d_31\"/>\n    </g>\n    <g id=\"ytick_25\">\n     <g id=\"line2d_32\"/>\n    </g>\n    <g id=\"ytick_26\">\n     <g id=\"line2d_33\"/>\n    </g>\n    <g id=\"ytick_27\">\n     <g id=\"line2d_34\"/>\n    </g>\n   </g>\n   <g id=\"patch_3\">\n    <path d=\"M 85.452 92666.742842 \nL 185.676 92666.742842 \nL 185.676 19.924364 \nL 85.452 19.924364 \nz\n\" clip-path=\"url(#p7bb7220b9d)\" style=\"fill: #008fd5\"/>\n   </g>\n   <g id=\"patch_4\">\n    <path d=\"M 285.9 92666.742842 \nL 386.124 92666.742842 \nL 386.124 274.411636 \nL 285.9 274.411636 \nz\n\" clip-path=\"url(#p7bb7220b9d)\" style=\"fill: #008fd5\"/>\n   </g>\n   <g id=\"patch_5\">\n    <path d=\"M 35.34 287.136 \nL 35.34 7.2 \n\" style=\"fill: none; stroke: #f0f0f0; stroke-width: 3; stroke-linejoin: miter; stroke-linecap: square\"/>\n   </g>\n   <g id=\"patch_6\">\n    <path d=\"M 436.236 287.136 \nL 436.236 7.2 \n\" style=\"fill: none; stroke: #f0f0f0; stroke-width: 3; stroke-linejoin: miter; stroke-linecap: square\"/>\n   </g>\n   <g id=\"patch_7\">\n    <path d=\"M 35.34 287.136 \nL 436.236 287.136 \n\" style=\"fill: none; stroke: #f0f0f0; stroke-width: 3; stroke-linejoin: miter; stroke-linecap: square\"/>\n   </g>\n   <g id=\"patch_8\">\n    <path d=\"M 35.34 7.2 \nL 436.236 7.2 \n\" style=\"fill: none; stroke: #f0f0f0; stroke-width: 3; stroke-linejoin: miter; stroke-linecap: square\"/>\n   </g>\n  </g>\n </g>\n <defs>\n  <clipPath id=\"p7bb7220b9d\">\n   <rect x=\"35.34\" y=\"7.2\" width=\"400.896\" height=\"279.936\"/>\n  </clipPath>\n </defs>\n</svg>\n"
          },
          "metadata": {}
        },
        {
          "output_type": "execute_result",
          "data": {
            "text/plain": [
              "<function matplotlib.pyplot.show(close=None, block=None)>"
            ],
            "text/html": [
              "<div style=\"max-width:800px; border: 1px solid var(--colab-border-color);\"><style>\n",
              "      pre.function-repr-contents {\n",
              "        overflow-x: auto;\n",
              "        padding: 8px 12px;\n",
              "        max-height: 500px;\n",
              "      }\n",
              "\n",
              "      pre.function-repr-contents.function-repr-contents-collapsed {\n",
              "        cursor: pointer;\n",
              "        max-height: 100px;\n",
              "      }\n",
              "    </style>\n",
              "    <pre style=\"white-space: initial; background:\n",
              "         var(--colab-secondary-surface-color); padding: 8px 12px;\n",
              "         border-bottom: 1px solid var(--colab-border-color);\"><b>matplotlib.pyplot.show</b><br/>def show(*args, **kwargs)</pre><pre class=\"function-repr-contents function-repr-contents-collapsed\" style=\"\"><a class=\"filepath\" style=\"display:none\" href=\"#\">/usr/local/lib/python3.10/dist-packages/matplotlib/pyplot.py</a>Display all open figures.\n",
              "\n",
              "Parameters\n",
              "----------\n",
              "block : bool, optional\n",
              "    Whether to wait for all figures to be closed before returning.\n",
              "\n",
              "    If `True` block and run the GUI main loop until all figure windows\n",
              "    are closed.\n",
              "\n",
              "    If `False` ensure that all figure windows are displayed and return\n",
              "    immediately.  In this case, you are responsible for ensuring\n",
              "    that the event loop is running to have responsive figures.\n",
              "\n",
              "    Defaults to True in non-interactive mode and to False in interactive\n",
              "    mode (see `.pyplot.isinteractive`).\n",
              "\n",
              "See Also\n",
              "--------\n",
              "ion : Enable interactive mode, which shows / updates the figure after\n",
              "      every plotting command, so that calling ``show()`` is not necessary.\n",
              "ioff : Disable interactive mode.\n",
              "savefig : Save the figure to an image file instead of showing it on screen.\n",
              "\n",
              "Notes\n",
              "-----\n",
              "**Saving figures to file and showing a window at the same time**\n",
              "\n",
              "If you want an image file as well as a user interface window, use\n",
              "`.pyplot.savefig` before `.pyplot.show`. At the end of (a blocking)\n",
              "``show()`` the figure is closed and thus unregistered from pyplot. Calling\n",
              "`.pyplot.savefig` afterwards would save a new and thus empty figure. This\n",
              "limitation of command order does not apply if the show is non-blocking or\n",
              "if you keep a reference to the figure and use `.Figure.savefig`.\n",
              "\n",
              "**Auto-show in jupyter notebooks**\n",
              "\n",
              "The jupyter backends (activated via ``%matplotlib inline``,\n",
              "``%matplotlib notebook``, or ``%matplotlib widget``), call ``show()`` at\n",
              "the end of every cell by default. Thus, you usually don&#x27;t have to call it\n",
              "explicitly there.</pre>\n",
              "      <script>\n",
              "      if (google.colab.kernel.accessAllowed && google.colab.files && google.colab.files.view) {\n",
              "        for (const element of document.querySelectorAll('.filepath')) {\n",
              "          element.style.display = 'block'\n",
              "          element.onclick = (event) => {\n",
              "            event.preventDefault();\n",
              "            event.stopPropagation();\n",
              "            google.colab.files.view(element.textContent, 401);\n",
              "          };\n",
              "        }\n",
              "      }\n",
              "      for (const element of document.querySelectorAll('.function-repr-contents')) {\n",
              "        element.onclick = (event) => {\n",
              "          event.preventDefault();\n",
              "          event.stopPropagation();\n",
              "          element.classList.toggle('function-repr-contents-collapsed');\n",
              "        };\n",
              "      }\n",
              "      </script>\n",
              "      </div>"
            ]
          },
          "metadata": {},
          "execution_count": 5
        },
        {
          "output_type": "display_data",
          "data": {
            "text/plain": [
              "<Figure size 640x480 with 1 Axes>"
            ],
            "image/svg+xml": "<?xml version=\"1.0\" encoding=\"utf-8\" standalone=\"no\"?>\n<!DOCTYPE svg PUBLIC \"-//W3C//DTD SVG 1.1//EN\"\n  \"http://www.w3.org/Graphics/SVG/1.1/DTD/svg11.dtd\">\n<svg xmlns:xlink=\"http://www.w3.org/1999/xlink\" width=\"458.875375pt\" height=\"342.999125pt\" viewBox=\"0 0 458.875375 342.999125\" xmlns=\"http://www.w3.org/2000/svg\" version=\"1.1\">\n <metadata>\n  <rdf:RDF xmlns:dc=\"http://purl.org/dc/elements/1.1/\" xmlns:cc=\"http://creativecommons.org/ns#\" xmlns:rdf=\"http://www.w3.org/1999/02/22-rdf-syntax-ns#\">\n   <cc:Work>\n    <dc:type rdf:resource=\"http://purl.org/dc/dcmitype/StillImage\"/>\n    <dc:date>2024-07-24T18:16:35.890214</dc:date>\n    <dc:format>image/svg+xml</dc:format>\n    <dc:creator>\n     <cc:Agent>\n      <dc:title>Matplotlib v3.7.1, https://matplotlib.org/</dc:title>\n     </cc:Agent>\n    </dc:creator>\n   </cc:Work>\n  </rdf:RDF>\n </metadata>\n <defs>\n  <style type=\"text/css\">*{stroke-linejoin: round; stroke-linecap: butt}</style>\n </defs>\n <g id=\"figure_1\">\n  <g id=\"patch_1\">\n   <path d=\"M 0 342.999125 \nL 458.875375 342.999125 \nL 458.875375 0 \nL 0 0 \nz\n\" style=\"fill: #f0f0f0\"/>\n  </g>\n  <g id=\"axes_1\">\n   <g id=\"patch_2\">\n    <path d=\"M 50.779375 287.136 \nL 451.675375 287.136 \nL 451.675375 7.2 \nL 50.779375 7.2 \nz\n\" style=\"fill: #f0f0f0\"/>\n   </g>\n   <g id=\"matplotlib.axis_1\">\n    <g id=\"xtick_1\">\n     <g id=\"line2d_1\">\n      <path d=\"M 107.234536 287.136 \nL 107.234536 7.2 \n\" clip-path=\"url(#pf9fc4c1991)\" style=\"fill: none; stroke: #cbcbcb\"/>\n     </g>\n     <g id=\"line2d_2\"/>\n     <g id=\"text_1\">\n      <!-- −50 -->\n      <g transform=\"translate(92.461255 301.273812) scale(0.14 -0.14)\">\n       <defs>\n        <path id=\"DejaVuSans-2212\" d=\"M 678 2272 \nL 4684 2272 \nL 4684 1741 \nL 678 1741 \nL 678 2272 \nz\n\" transform=\"scale(0.015625)\"/>\n        <path id=\"DejaVuSans-35\" d=\"M 691 4666 \nL 3169 4666 \nL 3169 4134 \nL 1269 4134 \nL 1269 2991 \nQ 1406 3038 1543 3061 \nQ 1681 3084 1819 3084 \nQ 2600 3084 3056 2656 \nQ 3513 2228 3513 1497 \nQ 3513 744 3044 326 \nQ 2575 -91 1722 -91 \nQ 1428 -91 1123 -41 \nQ 819 9 494 109 \nL 494 744 \nQ 775 591 1075 516 \nQ 1375 441 1709 441 \nQ 2250 441 2565 725 \nQ 2881 1009 2881 1497 \nQ 2881 1984 2565 2268 \nQ 2250 2553 1709 2553 \nQ 1456 2553 1204 2497 \nQ 953 2441 691 2322 \nL 691 4666 \nz\n\" transform=\"scale(0.015625)\"/>\n        <path id=\"DejaVuSans-30\" d=\"M 2034 4250 \nQ 1547 4250 1301 3770 \nQ 1056 3291 1056 2328 \nQ 1056 1369 1301 889 \nQ 1547 409 2034 409 \nQ 2525 409 2770 889 \nQ 3016 1369 3016 2328 \nQ 3016 3291 2770 3770 \nQ 2525 4250 2034 4250 \nz\nM 2034 4750 \nQ 2819 4750 3233 4129 \nQ 3647 3509 3647 2328 \nQ 3647 1150 3233 529 \nQ 2819 -91 2034 -91 \nQ 1250 -91 836 529 \nQ 422 1150 422 2328 \nQ 422 3509 836 4129 \nQ 1250 4750 2034 4750 \nz\n\" transform=\"scale(0.015625)\"/>\n       </defs>\n       <use xlink:href=\"#DejaVuSans-2212\"/>\n       <use xlink:href=\"#DejaVuSans-35\" x=\"83.789062\"/>\n       <use xlink:href=\"#DejaVuSans-30\" x=\"147.412109\"/>\n      </g>\n     </g>\n    </g>\n    <g id=\"xtick_2\">\n     <g id=\"line2d_3\">\n      <path d=\"M 169.775646 287.136 \nL 169.775646 7.2 \n\" clip-path=\"url(#pf9fc4c1991)\" style=\"fill: none; stroke: #cbcbcb\"/>\n     </g>\n     <g id=\"line2d_4\"/>\n     <g id=\"text_2\">\n      <!-- −40 -->\n      <g transform=\"translate(155.002365 301.273812) scale(0.14 -0.14)\">\n       <defs>\n        <path id=\"DejaVuSans-34\" d=\"M 2419 4116 \nL 825 1625 \nL 2419 1625 \nL 2419 4116 \nz\nM 2253 4666 \nL 3047 4666 \nL 3047 1625 \nL 3713 1625 \nL 3713 1100 \nL 3047 1100 \nL 3047 0 \nL 2419 0 \nL 2419 1100 \nL 313 1100 \nL 313 1709 \nL 2253 4666 \nz\n\" transform=\"scale(0.015625)\"/>\n       </defs>\n       <use xlink:href=\"#DejaVuSans-2212\"/>\n       <use xlink:href=\"#DejaVuSans-34\" x=\"83.789062\"/>\n       <use xlink:href=\"#DejaVuSans-30\" x=\"147.412109\"/>\n      </g>\n     </g>\n    </g>\n    <g id=\"xtick_3\">\n     <g id=\"line2d_5\">\n      <path d=\"M 232.316756 287.136 \nL 232.316756 7.2 \n\" clip-path=\"url(#pf9fc4c1991)\" style=\"fill: none; stroke: #cbcbcb\"/>\n     </g>\n     <g id=\"line2d_6\"/>\n     <g id=\"text_3\">\n      <!-- −30 -->\n      <g transform=\"translate(217.543475 301.273812) scale(0.14 -0.14)\">\n       <defs>\n        <path id=\"DejaVuSans-33\" d=\"M 2597 2516 \nQ 3050 2419 3304 2112 \nQ 3559 1806 3559 1356 \nQ 3559 666 3084 287 \nQ 2609 -91 1734 -91 \nQ 1441 -91 1130 -33 \nQ 819 25 488 141 \nL 488 750 \nQ 750 597 1062 519 \nQ 1375 441 1716 441 \nQ 2309 441 2620 675 \nQ 2931 909 2931 1356 \nQ 2931 1769 2642 2001 \nQ 2353 2234 1838 2234 \nL 1294 2234 \nL 1294 2753 \nL 1863 2753 \nQ 2328 2753 2575 2939 \nQ 2822 3125 2822 3475 \nQ 2822 3834 2567 4026 \nQ 2313 4219 1838 4219 \nQ 1578 4219 1281 4162 \nQ 984 4106 628 3988 \nL 628 4550 \nQ 988 4650 1302 4700 \nQ 1616 4750 1894 4750 \nQ 2613 4750 3031 4423 \nQ 3450 4097 3450 3541 \nQ 3450 3153 3228 2886 \nQ 3006 2619 2597 2516 \nz\n\" transform=\"scale(0.015625)\"/>\n       </defs>\n       <use xlink:href=\"#DejaVuSans-2212\"/>\n       <use xlink:href=\"#DejaVuSans-33\" x=\"83.789062\"/>\n       <use xlink:href=\"#DejaVuSans-30\" x=\"147.412109\"/>\n      </g>\n     </g>\n    </g>\n    <g id=\"xtick_4\">\n     <g id=\"line2d_7\">\n      <path d=\"M 294.857866 287.136 \nL 294.857866 7.2 \n\" clip-path=\"url(#pf9fc4c1991)\" style=\"fill: none; stroke: #cbcbcb\"/>\n     </g>\n     <g id=\"line2d_8\"/>\n     <g id=\"text_4\">\n      <!-- −20 -->\n      <g transform=\"translate(280.084585 301.273812) scale(0.14 -0.14)\">\n       <defs>\n        <path id=\"DejaVuSans-32\" d=\"M 1228 531 \nL 3431 531 \nL 3431 0 \nL 469 0 \nL 469 531 \nQ 828 903 1448 1529 \nQ 2069 2156 2228 2338 \nQ 2531 2678 2651 2914 \nQ 2772 3150 2772 3378 \nQ 2772 3750 2511 3984 \nQ 2250 4219 1831 4219 \nQ 1534 4219 1204 4116 \nQ 875 4013 500 3803 \nL 500 4441 \nQ 881 4594 1212 4672 \nQ 1544 4750 1819 4750 \nQ 2544 4750 2975 4387 \nQ 3406 4025 3406 3419 \nQ 3406 3131 3298 2873 \nQ 3191 2616 2906 2266 \nQ 2828 2175 2409 1742 \nQ 1991 1309 1228 531 \nz\n\" transform=\"scale(0.015625)\"/>\n       </defs>\n       <use xlink:href=\"#DejaVuSans-2212\"/>\n       <use xlink:href=\"#DejaVuSans-32\" x=\"83.789062\"/>\n       <use xlink:href=\"#DejaVuSans-30\" x=\"147.412109\"/>\n      </g>\n     </g>\n    </g>\n    <g id=\"xtick_5\">\n     <g id=\"line2d_9\">\n      <path d=\"M 357.398976 287.136 \nL 357.398976 7.2 \n\" clip-path=\"url(#pf9fc4c1991)\" style=\"fill: none; stroke: #cbcbcb\"/>\n     </g>\n     <g id=\"line2d_10\"/>\n     <g id=\"text_5\">\n      <!-- −10 -->\n      <g transform=\"translate(342.625695 301.273812) scale(0.14 -0.14)\">\n       <defs>\n        <path id=\"DejaVuSans-31\" d=\"M 794 531 \nL 1825 531 \nL 1825 4091 \nL 703 3866 \nL 703 4441 \nL 1819 4666 \nL 2450 4666 \nL 2450 531 \nL 3481 531 \nL 3481 0 \nL 794 0 \nL 794 531 \nz\n\" transform=\"scale(0.015625)\"/>\n       </defs>\n       <use xlink:href=\"#DejaVuSans-2212\"/>\n       <use xlink:href=\"#DejaVuSans-31\" x=\"83.789062\"/>\n       <use xlink:href=\"#DejaVuSans-30\" x=\"147.412109\"/>\n      </g>\n     </g>\n    </g>\n    <g id=\"xtick_6\">\n     <g id=\"line2d_11\">\n      <path d=\"M 419.940086 287.136 \nL 419.940086 7.2 \n\" clip-path=\"url(#pf9fc4c1991)\" style=\"fill: none; stroke: #cbcbcb\"/>\n     </g>\n     <g id=\"line2d_12\"/>\n     <g id=\"text_6\">\n      <!-- 0 -->\n      <g transform=\"translate(415.486336 301.273812) scale(0.14 -0.14)\">\n       <use xlink:href=\"#DejaVuSans-30\"/>\n      </g>\n     </g>\n    </g>\n    <g id=\"text_7\">\n     <!-- Class -->\n     <g transform=\"translate(234.982375 333.3035) scale(0.12 -0.12)\">\n      <defs>\n       <path id=\"DejaVuSerif-43\" d=\"M 4513 1234 \nQ 4306 581 3820 245 \nQ 3334 -91 2591 -91 \nQ 2134 -91 1743 65 \nQ 1353 222 1050 525 \nQ 700 875 529 1320 \nQ 359 1766 359 2328 \nQ 359 3416 987 4083 \nQ 1616 4750 2644 4750 \nQ 3025 4750 3456 4650 \nQ 3888 4550 4384 4347 \nL 4384 3272 \nL 4031 3272 \nQ 3916 3859 3567 4137 \nQ 3219 4416 2591 4416 \nQ 1844 4416 1459 3886 \nQ 1075 3356 1075 2328 \nQ 1075 1303 1459 773 \nQ 1844 244 2591 244 \nQ 3113 244 3450 492 \nQ 3788 741 3938 1234 \nL 4513 1234 \nz\n\" transform=\"scale(0.015625)\"/>\n       <path id=\"DejaVuSerif-6c\" d=\"M 1313 331 \nL 1856 331 \nL 1856 0 \nL 184 0 \nL 184 331 \nL 738 331 \nL 738 4531 \nL 184 4531 \nL 184 4863 \nL 1313 4863 \nL 1313 331 \nz\n\" transform=\"scale(0.015625)\"/>\n       <path id=\"DejaVuSerif-61\" d=\"M 2547 1044 \nL 2547 1747 \nL 1806 1747 \nQ 1378 1747 1168 1562 \nQ 959 1378 959 997 \nQ 959 650 1171 447 \nQ 1384 244 1747 244 \nQ 2106 244 2326 466 \nQ 2547 688 2547 1044 \nz\nM 3122 2075 \nL 3122 331 \nL 3634 331 \nL 3634 0 \nL 2547 0 \nL 2547 359 \nQ 2356 128 2106 18 \nQ 1856 -91 1522 -91 \nQ 969 -91 644 203 \nQ 319 497 319 997 \nQ 319 1513 691 1797 \nQ 1063 2081 1741 2081 \nL 2547 2081 \nL 2547 2309 \nQ 2547 2688 2317 2895 \nQ 2088 3103 1672 3103 \nQ 1328 3103 1125 2947 \nQ 922 2791 872 2484 \nL 575 2484 \nL 575 3156 \nQ 875 3284 1158 3348 \nQ 1441 3413 1709 3413 \nQ 2400 3413 2761 3070 \nQ 3122 2728 3122 2075 \nz\n\" transform=\"scale(0.015625)\"/>\n       <path id=\"DejaVuSerif-73\" d=\"M 359 184 \nL 359 959 \nL 691 959 \nQ 703 588 923 403 \nQ 1144 219 1575 219 \nQ 1963 219 2166 364 \nQ 2369 509 2369 788 \nQ 2369 1006 2220 1140 \nQ 2072 1275 1594 1428 \nL 1178 1569 \nQ 750 1706 558 1912 \nQ 366 2119 366 2438 \nQ 366 2894 700 3153 \nQ 1034 3413 1625 3413 \nQ 1888 3413 2178 3344 \nQ 2469 3275 2778 3144 \nL 2778 2419 \nL 2447 2419 \nQ 2434 2741 2221 2922 \nQ 2009 3103 1644 3103 \nQ 1281 3103 1095 2975 \nQ 909 2847 909 2591 \nQ 909 2381 1050 2254 \nQ 1191 2128 1613 1997 \nL 2069 1856 \nQ 2541 1709 2748 1489 \nQ 2956 1269 2956 922 \nQ 2956 450 2595 179 \nQ 2234 -91 1600 -91 \nQ 1278 -91 972 -22 \nQ 666 47 359 184 \nz\n\" transform=\"scale(0.015625)\"/>\n      </defs>\n      <use xlink:href=\"#DejaVuSerif-43\"/>\n      <use xlink:href=\"#DejaVuSerif-6c\" x=\"76.513672\"/>\n      <use xlink:href=\"#DejaVuSerif-61\" x=\"108.496094\"/>\n      <use xlink:href=\"#DejaVuSerif-73\" x=\"168.115234\"/>\n      <use xlink:href=\"#DejaVuSerif-73\" x=\"219.433594\"/>\n     </g>\n    </g>\n   </g>\n   <g id=\"matplotlib.axis_2\">\n    <g id=\"ytick_1\">\n     <g id=\"line2d_13\">\n      <path d=\"M 50.779375 287.136 \nL 451.675375 287.136 \n\" clip-path=\"url(#pf9fc4c1991)\" style=\"fill: none; stroke: #cbcbcb\"/>\n     </g>\n     <g id=\"line2d_14\"/>\n     <g id=\"text_8\">\n      <!-- 0.000 -->\n      <g transform=\"translate(7.2 292.454906) scale(0.14 -0.14)\">\n       <defs>\n        <path id=\"DejaVuSans-2e\" d=\"M 684 794 \nL 1344 794 \nL 1344 0 \nL 684 0 \nL 684 794 \nz\n\" transform=\"scale(0.015625)\"/>\n       </defs>\n       <use xlink:href=\"#DejaVuSans-30\"/>\n       <use xlink:href=\"#DejaVuSans-2e\" x=\"63.623047\"/>\n       <use xlink:href=\"#DejaVuSans-30\" x=\"95.410156\"/>\n       <use xlink:href=\"#DejaVuSans-30\" x=\"159.033203\"/>\n       <use xlink:href=\"#DejaVuSans-30\" x=\"222.65625\"/>\n      </g>\n     </g>\n    </g>\n    <g id=\"ytick_2\">\n     <g id=\"line2d_15\">\n      <path d=\"M 50.779375 255.516259 \nL 451.675375 255.516259 \n\" clip-path=\"url(#pf9fc4c1991)\" style=\"fill: none; stroke: #cbcbcb\"/>\n     </g>\n     <g id=\"line2d_16\"/>\n     <g id=\"text_9\">\n      <!-- 0.025 -->\n      <g transform=\"translate(7.2 260.835165) scale(0.14 -0.14)\">\n       <use xlink:href=\"#DejaVuSans-30\"/>\n       <use xlink:href=\"#DejaVuSans-2e\" x=\"63.623047\"/>\n       <use xlink:href=\"#DejaVuSans-30\" x=\"95.410156\"/>\n       <use xlink:href=\"#DejaVuSans-32\" x=\"159.033203\"/>\n       <use xlink:href=\"#DejaVuSans-35\" x=\"222.65625\"/>\n      </g>\n     </g>\n    </g>\n    <g id=\"ytick_3\">\n     <g id=\"line2d_17\">\n      <path d=\"M 50.779375 223.896518 \nL 451.675375 223.896518 \n\" clip-path=\"url(#pf9fc4c1991)\" style=\"fill: none; stroke: #cbcbcb\"/>\n     </g>\n     <g id=\"line2d_18\"/>\n     <g id=\"text_10\">\n      <!-- 0.050 -->\n      <g transform=\"translate(7.2 229.215424) scale(0.14 -0.14)\">\n       <use xlink:href=\"#DejaVuSans-30\"/>\n       <use xlink:href=\"#DejaVuSans-2e\" x=\"63.623047\"/>\n       <use xlink:href=\"#DejaVuSans-30\" x=\"95.410156\"/>\n       <use xlink:href=\"#DejaVuSans-35\" x=\"159.033203\"/>\n       <use xlink:href=\"#DejaVuSans-30\" x=\"222.65625\"/>\n      </g>\n     </g>\n    </g>\n    <g id=\"ytick_4\">\n     <g id=\"line2d_19\">\n      <path d=\"M 50.779375 192.276777 \nL 451.675375 192.276777 \n\" clip-path=\"url(#pf9fc4c1991)\" style=\"fill: none; stroke: #cbcbcb\"/>\n     </g>\n     <g id=\"line2d_20\"/>\n     <g id=\"text_11\">\n      <!-- 0.075 -->\n      <g transform=\"translate(7.2 197.595683) scale(0.14 -0.14)\">\n       <defs>\n        <path id=\"DejaVuSans-37\" d=\"M 525 4666 \nL 3525 4666 \nL 3525 4397 \nL 1831 0 \nL 1172 0 \nL 2766 4134 \nL 525 4134 \nL 525 4666 \nz\n\" transform=\"scale(0.015625)\"/>\n       </defs>\n       <use xlink:href=\"#DejaVuSans-30\"/>\n       <use xlink:href=\"#DejaVuSans-2e\" x=\"63.623047\"/>\n       <use xlink:href=\"#DejaVuSans-30\" x=\"95.410156\"/>\n       <use xlink:href=\"#DejaVuSans-37\" x=\"159.033203\"/>\n       <use xlink:href=\"#DejaVuSans-35\" x=\"222.65625\"/>\n      </g>\n     </g>\n    </g>\n    <g id=\"ytick_5\">\n     <g id=\"line2d_21\">\n      <path d=\"M 50.779375 160.657035 \nL 451.675375 160.657035 \n\" clip-path=\"url(#pf9fc4c1991)\" style=\"fill: none; stroke: #cbcbcb\"/>\n     </g>\n     <g id=\"line2d_22\"/>\n     <g id=\"text_12\">\n      <!-- 0.100 -->\n      <g transform=\"translate(7.2 165.975942) scale(0.14 -0.14)\">\n       <use xlink:href=\"#DejaVuSans-30\"/>\n       <use xlink:href=\"#DejaVuSans-2e\" x=\"63.623047\"/>\n       <use xlink:href=\"#DejaVuSans-31\" x=\"95.410156\"/>\n       <use xlink:href=\"#DejaVuSans-30\" x=\"159.033203\"/>\n       <use xlink:href=\"#DejaVuSans-30\" x=\"222.65625\"/>\n      </g>\n     </g>\n    </g>\n    <g id=\"ytick_6\">\n     <g id=\"line2d_23\">\n      <path d=\"M 50.779375 129.037294 \nL 451.675375 129.037294 \n\" clip-path=\"url(#pf9fc4c1991)\" style=\"fill: none; stroke: #cbcbcb\"/>\n     </g>\n     <g id=\"line2d_24\"/>\n     <g id=\"text_13\">\n      <!-- 0.125 -->\n      <g transform=\"translate(7.2 134.3562) scale(0.14 -0.14)\">\n       <use xlink:href=\"#DejaVuSans-30\"/>\n       <use xlink:href=\"#DejaVuSans-2e\" x=\"63.623047\"/>\n       <use xlink:href=\"#DejaVuSans-31\" x=\"95.410156\"/>\n       <use xlink:href=\"#DejaVuSans-32\" x=\"159.033203\"/>\n       <use xlink:href=\"#DejaVuSans-35\" x=\"222.65625\"/>\n      </g>\n     </g>\n    </g>\n    <g id=\"ytick_7\">\n     <g id=\"line2d_25\">\n      <path d=\"M 50.779375 97.417553 \nL 451.675375 97.417553 \n\" clip-path=\"url(#pf9fc4c1991)\" style=\"fill: none; stroke: #cbcbcb\"/>\n     </g>\n     <g id=\"line2d_26\"/>\n     <g id=\"text_14\">\n      <!-- 0.150 -->\n      <g transform=\"translate(7.2 102.736459) scale(0.14 -0.14)\">\n       <use xlink:href=\"#DejaVuSans-30\"/>\n       <use xlink:href=\"#DejaVuSans-2e\" x=\"63.623047\"/>\n       <use xlink:href=\"#DejaVuSans-31\" x=\"95.410156\"/>\n       <use xlink:href=\"#DejaVuSans-35\" x=\"159.033203\"/>\n       <use xlink:href=\"#DejaVuSans-30\" x=\"222.65625\"/>\n      </g>\n     </g>\n    </g>\n    <g id=\"ytick_8\">\n     <g id=\"line2d_27\">\n      <path d=\"M 50.779375 65.797812 \nL 451.675375 65.797812 \n\" clip-path=\"url(#pf9fc4c1991)\" style=\"fill: none; stroke: #cbcbcb\"/>\n     </g>\n     <g id=\"line2d_28\"/>\n     <g id=\"text_15\">\n      <!-- 0.175 -->\n      <g transform=\"translate(7.2 71.116718) scale(0.14 -0.14)\">\n       <use xlink:href=\"#DejaVuSans-30\"/>\n       <use xlink:href=\"#DejaVuSans-2e\" x=\"63.623047\"/>\n       <use xlink:href=\"#DejaVuSans-31\" x=\"95.410156\"/>\n       <use xlink:href=\"#DejaVuSans-37\" x=\"159.033203\"/>\n       <use xlink:href=\"#DejaVuSans-35\" x=\"222.65625\"/>\n      </g>\n     </g>\n    </g>\n    <g id=\"ytick_9\">\n     <g id=\"line2d_29\">\n      <path d=\"M 50.779375 34.178071 \nL 451.675375 34.178071 \n\" clip-path=\"url(#pf9fc4c1991)\" style=\"fill: none; stroke: #cbcbcb\"/>\n     </g>\n     <g id=\"line2d_30\"/>\n     <g id=\"text_16\">\n      <!-- 0.200 -->\n      <g transform=\"translate(7.2 39.496977) scale(0.14 -0.14)\">\n       <use xlink:href=\"#DejaVuSans-30\"/>\n       <use xlink:href=\"#DejaVuSans-2e\" x=\"63.623047\"/>\n       <use xlink:href=\"#DejaVuSans-32\" x=\"95.410156\"/>\n       <use xlink:href=\"#DejaVuSans-30\" x=\"159.033203\"/>\n       <use xlink:href=\"#DejaVuSans-30\" x=\"222.65625\"/>\n      </g>\n     </g>\n    </g>\n   </g>\n   <g id=\"patch_3\">\n    <path d=\"M 69.00192 287.136 \nL 76.364565 287.136 \nL 76.364565 287.136 \nL 69.00192 287.136 \nz\n\" clip-path=\"url(#pf9fc4c1991)\" style=\"fill: #ff0000; opacity: 0.5\"/>\n   </g>\n   <g id=\"patch_4\">\n    <path d=\"M 87.408532 287.136 \nL 94.771177 287.136 \nL 94.771177 287.136 \nL 87.408532 287.136 \nz\n\" clip-path=\"url(#pf9fc4c1991)\" style=\"fill: #ff0000; opacity: 0.5\"/>\n   </g>\n   <g id=\"patch_5\">\n    <path d=\"M 105.815144 287.136 \nL 113.177788 287.136 \nL 113.177788 287.136 \nL 105.815144 287.136 \nz\n\" clip-path=\"url(#pf9fc4c1991)\" style=\"fill: #ff0000; opacity: 0.5\"/>\n   </g>\n   <g id=\"patch_6\">\n    <path d=\"M 124.221755 287.136 \nL 131.5844 287.136 \nL 131.5844 287.136 \nL 124.221755 287.136 \nz\n\" clip-path=\"url(#pf9fc4c1991)\" style=\"fill: #ff0000; opacity: 0.5\"/>\n   </g>\n   <g id=\"patch_7\">\n    <path d=\"M 142.628367 287.136 \nL 149.991011 287.136 \nL 149.991011 287.136 \nL 142.628367 287.136 \nz\n\" clip-path=\"url(#pf9fc4c1991)\" style=\"fill: #ff0000; opacity: 0.5\"/>\n   </g>\n   <g id=\"patch_8\">\n    <path d=\"M 161.034978 287.136 \nL 168.397623 287.136 \nL 168.397623 287.136 \nL 161.034978 287.136 \nz\n\" clip-path=\"url(#pf9fc4c1991)\" style=\"fill: #ff0000; opacity: 0.5\"/>\n   </g>\n   <g id=\"patch_9\">\n    <path d=\"M 179.44159 287.136 \nL 186.804235 287.136 \nL 186.804235 287.136 \nL 179.44159 287.136 \nz\n\" clip-path=\"url(#pf9fc4c1991)\" style=\"fill: #ff0000; opacity: 0.5\"/>\n   </g>\n   <g id=\"patch_10\">\n    <path d=\"M 197.848201 287.136 \nL 205.210846 287.136 \nL 205.210846 287.136 \nL 197.848201 287.136 \nz\n\" clip-path=\"url(#pf9fc4c1991)\" style=\"fill: #ff0000; opacity: 0.5\"/>\n   </g>\n   <g id=\"patch_11\">\n    <path d=\"M 216.254813 287.136 \nL 223.617458 287.136 \nL 223.617458 286.262536 \nL 216.254813 286.262536 \nz\n\" clip-path=\"url(#pf9fc4c1991)\" style=\"fill: #ff0000; opacity: 0.5\"/>\n   </g>\n   <g id=\"patch_12\">\n    <path d=\"M 234.661425 287.136 \nL 242.024069 287.136 \nL 242.024069 281.021753 \nL 234.661425 281.021753 \nz\n\" clip-path=\"url(#pf9fc4c1991)\" style=\"fill: #ff0000; opacity: 0.5\"/>\n   </g>\n   <g id=\"patch_13\">\n    <path d=\"M 253.068036 287.136 \nL 260.430681 287.136 \nL 260.430681 280.148289 \nL 253.068036 280.148289 \nz\n\" clip-path=\"url(#pf9fc4c1991)\" style=\"fill: #ff0000; opacity: 0.5\"/>\n   </g>\n   <g id=\"patch_14\">\n    <path d=\"M 271.474648 287.136 \nL 278.837292 287.136 \nL 278.837292 281.021753 \nL 271.474648 281.021753 \nz\n\" clip-path=\"url(#pf9fc4c1991)\" style=\"fill: #ff0000; opacity: 0.5\"/>\n   </g>\n   <g id=\"patch_15\">\n    <path d=\"M 289.881259 287.136 \nL 297.243904 287.136 \nL 297.243904 280.148289 \nL 289.881259 280.148289 \nz\n\" clip-path=\"url(#pf9fc4c1991)\" style=\"fill: #ff0000; opacity: 0.5\"/>\n   </g>\n   <g id=\"patch_16\">\n    <path d=\"M 308.287871 287.136 \nL 315.650515 287.136 \nL 315.650515 274.034042 \nL 308.287871 274.034042 \nz\n\" clip-path=\"url(#pf9fc4c1991)\" style=\"fill: #ff0000; opacity: 0.5\"/>\n   </g>\n   <g id=\"patch_17\">\n    <path d=\"M 326.694482 287.136 \nL 334.057127 287.136 \nL 334.057127 266.172868 \nL 326.694482 266.172868 \nz\n\" clip-path=\"url(#pf9fc4c1991)\" style=\"fill: #ff0000; opacity: 0.5\"/>\n   </g>\n   <g id=\"patch_18\">\n    <path d=\"M 345.101094 287.136 \nL 352.463739 287.136 \nL 352.463739 272.287115 \nL 345.101094 272.287115 \nz\n\" clip-path=\"url(#pf9fc4c1991)\" style=\"fill: #ff0000; opacity: 0.5\"/>\n   </g>\n   <g id=\"patch_19\">\n    <path d=\"M 363.507706 287.136 \nL 370.87035 287.136 \nL 370.87035 260.058621 \nL 363.507706 260.058621 \nz\n\" clip-path=\"url(#pf9fc4c1991)\" style=\"fill: #ff0000; opacity: 0.5\"/>\n   </g>\n   <g id=\"patch_20\">\n    <path d=\"M 381.914317 287.136 \nL 389.276962 287.136 \nL 389.276962 214.6385 \nL 381.914317 214.6385 \nz\n\" clip-path=\"url(#pf9fc4c1991)\" style=\"fill: #ff0000; opacity: 0.5\"/>\n   </g>\n   <g id=\"patch_21\">\n    <path d=\"M 400.320929 287.136 \nL 407.683573 287.136 \nL 407.683573 147.381784 \nL 400.320929 147.381784 \nz\n\" clip-path=\"url(#pf9fc4c1991)\" style=\"fill: #ff0000; opacity: 0.5\"/>\n   </g>\n   <g id=\"patch_22\">\n    <path d=\"M 418.72754 287.136 \nL 426.090185 287.136 \nL 426.090185 172.712235 \nL 418.72754 172.712235 \nz\n\" clip-path=\"url(#pf9fc4c1991)\" style=\"fill: #ff0000; opacity: 0.5\"/>\n   </g>\n   <g id=\"patch_23\">\n    <path d=\"M 76.364565 287.136 \nL 83.72721 287.136 \nL 83.72721 287.134488 \nL 76.364565 287.134488 \nz\n\" clip-path=\"url(#pf9fc4c1991)\" style=\"fill: #808080; opacity: 0.5\"/>\n   </g>\n   <g id=\"patch_24\">\n    <path d=\"M 94.771177 287.136 \nL 102.133821 287.136 \nL 102.133821 287.136 \nL 94.771177 287.136 \nz\n\" clip-path=\"url(#pf9fc4c1991)\" style=\"fill: #808080; opacity: 0.5\"/>\n   </g>\n   <g id=\"patch_25\">\n    <path d=\"M 113.177788 287.136 \nL 120.540433 287.136 \nL 120.540433 287.136 \nL 113.177788 287.136 \nz\n\" clip-path=\"url(#pf9fc4c1991)\" style=\"fill: #808080; opacity: 0.5\"/>\n   </g>\n   <g id=\"patch_26\">\n    <path d=\"M 131.5844 287.136 \nL 138.947044 287.136 \nL 138.947044 287.134488 \nL 131.5844 287.134488 \nz\n\" clip-path=\"url(#pf9fc4c1991)\" style=\"fill: #808080; opacity: 0.5\"/>\n   </g>\n   <g id=\"patch_27\">\n    <path d=\"M 149.991011 287.136 \nL 157.353656 287.136 \nL 157.353656 287.134488 \nL 149.991011 287.134488 \nz\n\" clip-path=\"url(#pf9fc4c1991)\" style=\"fill: #808080; opacity: 0.5\"/>\n   </g>\n   <g id=\"patch_28\">\n    <path d=\"M 168.397623 287.136 \nL 175.760268 287.136 \nL 175.760268 287.132977 \nL 168.397623 287.132977 \nz\n\" clip-path=\"url(#pf9fc4c1991)\" style=\"fill: #808080; opacity: 0.5\"/>\n   </g>\n   <g id=\"patch_29\">\n    <path d=\"M 186.804235 287.136 \nL 194.166879 287.136 \nL 194.166879 287.128442 \nL 186.804235 287.128442 \nz\n\" clip-path=\"url(#pf9fc4c1991)\" style=\"fill: #808080; opacity: 0.5\"/>\n   </g>\n   <g id=\"patch_30\">\n    <path d=\"M 205.210846 287.136 \nL 212.573491 287.136 \nL 212.573491 287.11635 \nL 205.210846 287.11635 \nz\n\" clip-path=\"url(#pf9fc4c1991)\" style=\"fill: #808080; opacity: 0.5\"/>\n   </g>\n   <g id=\"patch_31\">\n    <path d=\"M 223.617458 287.136 \nL 230.980102 287.136 \nL 230.980102 287.119373 \nL 223.617458 287.119373 \nz\n\" clip-path=\"url(#pf9fc4c1991)\" style=\"fill: #808080; opacity: 0.5\"/>\n   </g>\n   <g id=\"patch_32\">\n    <path d=\"M 242.024069 287.136 \nL 249.386714 287.136 \nL 249.386714 287.119373 \nL 242.024069 287.119373 \nz\n\" clip-path=\"url(#pf9fc4c1991)\" style=\"fill: #808080; opacity: 0.5\"/>\n   </g>\n   <g id=\"patch_33\">\n    <path d=\"M 260.430681 287.136 \nL 267.793325 287.136 \nL 267.793325 287.104258 \nL 260.430681 287.104258 \nz\n\" clip-path=\"url(#pf9fc4c1991)\" style=\"fill: #808080; opacity: 0.5\"/>\n   </g>\n   <g id=\"patch_34\">\n    <path d=\"M 278.837292 287.136 \nL 286.199937 287.136 \nL 286.199937 287.067982 \nL 278.837292 287.067982 \nz\n\" clip-path=\"url(#pf9fc4c1991)\" style=\"fill: #808080; opacity: 0.5\"/>\n   </g>\n   <g id=\"patch_35\">\n    <path d=\"M 297.243904 287.136 \nL 304.606549 287.136 \nL 304.606549 287.040775 \nL 297.243904 287.040775 \nz\n\" clip-path=\"url(#pf9fc4c1991)\" style=\"fill: #808080; opacity: 0.5\"/>\n   </g>\n   <g id=\"patch_36\">\n    <path d=\"M 315.650515 287.136 \nL 323.01316 287.136 \nL 323.01316 286.987872 \nL 315.650515 286.987872 \nz\n\" clip-path=\"url(#pf9fc4c1991)\" style=\"fill: #808080; opacity: 0.5\"/>\n   </g>\n   <g id=\"patch_37\">\n    <path d=\"M 334.057127 287.136 \nL 341.419772 287.136 \nL 341.419772 286.800445 \nL 334.057127 286.800445 \nz\n\" clip-path=\"url(#pf9fc4c1991)\" style=\"fill: #808080; opacity: 0.5\"/>\n   </g>\n   <g id=\"patch_38\">\n    <path d=\"M 352.463739 287.136 \nL 359.826383 287.136 \nL 359.826383 286.189796 \nL 352.463739 286.189796 \nz\n\" clip-path=\"url(#pf9fc4c1991)\" style=\"fill: #808080; opacity: 0.5\"/>\n   </g>\n   <g id=\"patch_39\">\n    <path d=\"M 370.87035 287.136 \nL 378.232995 287.136 \nL 378.232995 284.380522 \nL 370.87035 284.380522 \nz\n\" clip-path=\"url(#pf9fc4c1991)\" style=\"fill: #808080; opacity: 0.5\"/>\n   </g>\n   <g id=\"patch_40\">\n    <path d=\"M 389.276962 287.136 \nL 396.639606 287.136 \nL 396.639606 275.761907 \nL 389.276962 275.761907 \nz\n\" clip-path=\"url(#pf9fc4c1991)\" style=\"fill: #808080; opacity: 0.5\"/>\n   </g>\n   <g id=\"patch_41\">\n    <path d=\"M 407.683573 287.136 \nL 415.046218 287.136 \nL 415.046218 139.819958 \nL 407.683573 139.819958 \nz\n\" clip-path=\"url(#pf9fc4c1991)\" style=\"fill: #808080; opacity: 0.5\"/>\n   </g>\n   <g id=\"patch_42\">\n    <path d=\"M 426.090185 287.136 \nL 433.45283 287.136 \nL 433.45283 20.530286 \nL 426.090185 20.530286 \nz\n\" clip-path=\"url(#pf9fc4c1991)\" style=\"fill: #808080; opacity: 0.5\"/>\n   </g>\n   <g id=\"patch_43\">\n    <path d=\"M 50.779375 287.136 \nL 50.779375 7.2 \n\" style=\"fill: none; stroke: #f0f0f0; stroke-width: 3; stroke-linejoin: miter; stroke-linecap: square\"/>\n   </g>\n   <g id=\"patch_44\">\n    <path d=\"M 451.675375 287.136 \nL 451.675375 7.2 \n\" style=\"fill: none; stroke: #f0f0f0; stroke-width: 3; stroke-linejoin: miter; stroke-linecap: square\"/>\n   </g>\n   <g id=\"patch_45\">\n    <path d=\"M 50.779375 287.136 \nL 451.675375 287.136 \n\" style=\"fill: none; stroke: #f0f0f0; stroke-width: 3; stroke-linejoin: miter; stroke-linecap: square\"/>\n   </g>\n   <g id=\"patch_46\">\n    <path d=\"M 50.779375 7.2 \nL 451.675375 7.2 \n\" style=\"fill: none; stroke: #f0f0f0; stroke-width: 3; stroke-linejoin: miter; stroke-linecap: square\"/>\n   </g>\n   <g id=\"legend_1\">\n    <g id=\"patch_47\">\n     <path d=\"M 63.379375 30.437812 \nL 91.379375 30.437812 \nL 91.379375 20.637812 \nL 63.379375 20.637812 \nz\n\" style=\"fill: #ff0000; opacity: 0.5\"/>\n    </g>\n    <g id=\"text_17\">\n     <!-- Class1 -->\n     <g transform=\"translate(102.579375 30.437812) scale(0.14 -0.14)\">\n      <defs>\n       <path id=\"DejaVuSans-43\" d=\"M 4122 4306 \nL 4122 3641 \nQ 3803 3938 3442 4084 \nQ 3081 4231 2675 4231 \nQ 1875 4231 1450 3742 \nQ 1025 3253 1025 2328 \nQ 1025 1406 1450 917 \nQ 1875 428 2675 428 \nQ 3081 428 3442 575 \nQ 3803 722 4122 1019 \nL 4122 359 \nQ 3791 134 3420 21 \nQ 3050 -91 2638 -91 \nQ 1578 -91 968 557 \nQ 359 1206 359 2328 \nQ 359 3453 968 4101 \nQ 1578 4750 2638 4750 \nQ 3056 4750 3426 4639 \nQ 3797 4528 4122 4306 \nz\n\" transform=\"scale(0.015625)\"/>\n       <path id=\"DejaVuSans-6c\" d=\"M 603 4863 \nL 1178 4863 \nL 1178 0 \nL 603 0 \nL 603 4863 \nz\n\" transform=\"scale(0.015625)\"/>\n       <path id=\"DejaVuSans-61\" d=\"M 2194 1759 \nQ 1497 1759 1228 1600 \nQ 959 1441 959 1056 \nQ 959 750 1161 570 \nQ 1363 391 1709 391 \nQ 2188 391 2477 730 \nQ 2766 1069 2766 1631 \nL 2766 1759 \nL 2194 1759 \nz\nM 3341 1997 \nL 3341 0 \nL 2766 0 \nL 2766 531 \nQ 2569 213 2275 61 \nQ 1981 -91 1556 -91 \nQ 1019 -91 701 211 \nQ 384 513 384 1019 \nQ 384 1609 779 1909 \nQ 1175 2209 1959 2209 \nL 2766 2209 \nL 2766 2266 \nQ 2766 2663 2505 2880 \nQ 2244 3097 1772 3097 \nQ 1472 3097 1187 3025 \nQ 903 2953 641 2809 \nL 641 3341 \nQ 956 3463 1253 3523 \nQ 1550 3584 1831 3584 \nQ 2591 3584 2966 3190 \nQ 3341 2797 3341 1997 \nz\n\" transform=\"scale(0.015625)\"/>\n       <path id=\"DejaVuSans-73\" d=\"M 2834 3397 \nL 2834 2853 \nQ 2591 2978 2328 3040 \nQ 2066 3103 1784 3103 \nQ 1356 3103 1142 2972 \nQ 928 2841 928 2578 \nQ 928 2378 1081 2264 \nQ 1234 2150 1697 2047 \nL 1894 2003 \nQ 2506 1872 2764 1633 \nQ 3022 1394 3022 966 \nQ 3022 478 2636 193 \nQ 2250 -91 1575 -91 \nQ 1294 -91 989 -36 \nQ 684 19 347 128 \nL 347 722 \nQ 666 556 975 473 \nQ 1284 391 1588 391 \nQ 1994 391 2212 530 \nQ 2431 669 2431 922 \nQ 2431 1156 2273 1281 \nQ 2116 1406 1581 1522 \nL 1381 1569 \nQ 847 1681 609 1914 \nQ 372 2147 372 2553 \nQ 372 3047 722 3315 \nQ 1072 3584 1716 3584 \nQ 2034 3584 2315 3537 \nQ 2597 3491 2834 3397 \nz\n\" transform=\"scale(0.015625)\"/>\n      </defs>\n      <use xlink:href=\"#DejaVuSans-43\"/>\n      <use xlink:href=\"#DejaVuSans-6c\" x=\"69.824219\"/>\n      <use xlink:href=\"#DejaVuSans-61\" x=\"97.607422\"/>\n      <use xlink:href=\"#DejaVuSans-73\" x=\"158.886719\"/>\n      <use xlink:href=\"#DejaVuSans-73\" x=\"210.986328\"/>\n      <use xlink:href=\"#DejaVuSans-31\" x=\"263.085938\"/>\n     </g>\n    </g>\n    <g id=\"patch_48\">\n     <path d=\"M 63.379375 50.987187 \nL 91.379375 50.987187 \nL 91.379375 41.187187 \nL 63.379375 41.187187 \nz\n\" style=\"fill: #808080; opacity: 0.5\"/>\n    </g>\n    <g id=\"text_18\">\n     <!-- Class0 -->\n     <g transform=\"translate(102.579375 50.987187) scale(0.14 -0.14)\">\n      <use xlink:href=\"#DejaVuSans-43\"/>\n      <use xlink:href=\"#DejaVuSans-6c\" x=\"69.824219\"/>\n      <use xlink:href=\"#DejaVuSans-61\" x=\"97.607422\"/>\n      <use xlink:href=\"#DejaVuSans-73\" x=\"158.886719\"/>\n      <use xlink:href=\"#DejaVuSans-73\" x=\"210.986328\"/>\n      <use xlink:href=\"#DejaVuSans-30\" x=\"263.085938\"/>\n     </g>\n    </g>\n   </g>\n  </g>\n </g>\n <defs>\n  <clipPath id=\"pf9fc4c1991\">\n   <rect x=\"50.779375\" y=\"7.2\" width=\"400.896\" height=\"279.936\"/>\n  </clipPath>\n </defs>\n</svg>\n"
          },
          "metadata": {}
        }
      ]
    },
    {
      "cell_type": "markdown",
      "source": [
        "### Задание на повторение материала **"
      ],
      "metadata": {
        "id": "MGhhDC1H1Ej0"
      }
    },
    {
      "cell_type": "markdown",
      "source": [
        "1. Создать одномерный массив Numpy под названием a из 12 последовательных целых чисел чисел от 12 до 24 невключительно"
      ],
      "metadata": {
        "id": "dhLWcY6-1VQb"
      }
    },
    {
      "cell_type": "code",
      "source": [
        "a = np.arange(12,24)\n",
        "print(a)"
      ],
      "metadata": {
        "colab": {
          "base_uri": "https://localhost:8080/"
        },
        "id": "qGJAuQem1-gM",
        "outputId": "0c5f0375-a8cb-42b0-ece2-be025112916e"
      },
      "execution_count": 6,
      "outputs": [
        {
          "output_type": "stream",
          "name": "stdout",
          "text": [
            "[12 13 14 15 16 17 18 19 20 21 22 23]\n"
          ]
        }
      ]
    },
    {
      "cell_type": "markdown",
      "source": [
        "2. Создать 5 двумерных массивов разной формы из массива a. Не использовать в аргументах метода reshape число -1."
      ],
      "metadata": {
        "id": "jU8_nRO92G3d"
      }
    },
    {
      "cell_type": "code",
      "source": [
        "a = a.reshape(2,6)\n",
        "print(\"1. \\n\", a)\n",
        "b = a.argsort(axis=0)\n",
        "print(\"2. \\n\", b)\n",
        "c = np.sqrt(a.reshape(6,2))\n",
        "print(\"3. \\n\", c)\n",
        "d = a.reshape(6,2) + np.ones((6,2))\n",
        "print(\"4. \\n\", d)\n",
        "e = a + a\n",
        "print(\"5. \\n\", e)"
      ],
      "metadata": {
        "colab": {
          "base_uri": "https://localhost:8080/"
        },
        "id": "zDjiQpq82KXs",
        "outputId": "a0d6ab43-d2ba-4d4a-9461-cfe2e243792e"
      },
      "execution_count": 7,
      "outputs": [
        {
          "output_type": "stream",
          "name": "stdout",
          "text": [
            "1. \n",
            " [[12 13 14 15 16 17]\n",
            " [18 19 20 21 22 23]]\n",
            "2. \n",
            " [[0 0 0 0 0 0]\n",
            " [1 1 1 1 1 1]]\n",
            "3. \n",
            " [[3.46410162 3.60555128]\n",
            " [3.74165739 3.87298335]\n",
            " [4.         4.12310563]\n",
            " [4.24264069 4.35889894]\n",
            " [4.47213595 4.58257569]\n",
            " [4.69041576 4.79583152]]\n",
            "4. \n",
            " [[13. 14.]\n",
            " [15. 16.]\n",
            " [17. 18.]\n",
            " [19. 20.]\n",
            " [21. 22.]\n",
            " [23. 24.]]\n",
            "5. \n",
            " [[24 26 28 30 32 34]\n",
            " [36 38 40 42 44 46]]\n"
          ]
        }
      ]
    },
    {
      "cell_type": "markdown",
      "source": [
        "3. Создать 5 двумерных массивов разной формы из массива a. Использовать в аргументах метода reshape число -1 (в трех примерах - для обозначения числа столбцов, в двух - для строк)."
      ],
      "metadata": {
        "id": "cyXHlJlq2Qnu"
      }
    },
    {
      "cell_type": "code",
      "source": [
        "a = a.reshape(2,-1)\n",
        "print(\"1. \\n\", a)\n",
        "b = a.reshape(-1,4)\n",
        "print(\"2. \\n\", b)\n",
        "c = a.reshape(6,-1)\n",
        "print(\"3. \\n\", c)\n",
        "d = a.reshape(-1,3)\n",
        "print(\"4. \\n\", d)\n",
        "e = a.reshape(-1,2)\n",
        "print(\"5. \\n\", e)"
      ],
      "metadata": {
        "colab": {
          "base_uri": "https://localhost:8080/"
        },
        "id": "Wa9X7OSs2Y1j",
        "outputId": "aecf03e1-de79-49d5-9fd0-83696e55596a"
      },
      "execution_count": 8,
      "outputs": [
        {
          "output_type": "stream",
          "name": "stdout",
          "text": [
            "1. \n",
            " [[12 13 14 15 16 17]\n",
            " [18 19 20 21 22 23]]\n",
            "2. \n",
            " [[12 13 14 15]\n",
            " [16 17 18 19]\n",
            " [20 21 22 23]]\n",
            "3. \n",
            " [[12 13]\n",
            " [14 15]\n",
            " [16 17]\n",
            " [18 19]\n",
            " [20 21]\n",
            " [22 23]]\n",
            "4. \n",
            " [[12 13 14]\n",
            " [15 16 17]\n",
            " [18 19 20]\n",
            " [21 22 23]]\n",
            "5. \n",
            " [[12 13]\n",
            " [14 15]\n",
            " [16 17]\n",
            " [18 19]\n",
            " [20 21]\n",
            " [22 23]]\n"
          ]
        }
      ]
    },
    {
      "cell_type": "markdown",
      "source": [
        "4. Можно ли массив Numpy, состоящий из одного столбца и 12 строк, назвать одномерным?"
      ],
      "metadata": {
        "id": "_B7AvtVO7g28"
      }
    },
    {
      "cell_type": "code",
      "source": [
        "A = np.array([1,  2,  3,  4,  5,  6,  7,  8,  9, 10, 11, 12])\n",
        "B = A.reshape (12,1)\n",
        "A.ndim == B.ndim"
      ],
      "metadata": {
        "colab": {
          "base_uri": "https://localhost:8080/"
        },
        "id": "BFNHJRCx7Pz5",
        "outputId": "426f703e-2ea3-4a34-fa96-26de8e9b870a"
      },
      "execution_count": 9,
      "outputs": [
        {
          "output_type": "execute_result",
          "data": {
            "text/plain": [
              "False"
            ]
          },
          "metadata": {},
          "execution_count": 9
        }
      ]
    },
    {
      "cell_type": "markdown",
      "source": [
        "5. Создать массив из 3 строк и 4 столбцов, состоящий из случайных чисел с плавающей запятой из нормального распределения со средним, равным 0 и среднеквадратичным отклонением,равным 1.0. Получить из этого массива одномерный массив с таким же атрибутом size, как и исходный массив"
      ],
      "metadata": {
        "id": "fGgm_wTM8eYT"
      }
    },
    {
      "cell_type": "code",
      "source": [
        "a = np.random.randn(3, 4)\n",
        "b = a.flatten()\n",
        "a.size == b.size"
      ],
      "metadata": {
        "colab": {
          "base_uri": "https://localhost:8080/"
        },
        "id": "ZIQN7iPo8law",
        "outputId": "ce851020-4476-44f8-b9eb-041278e507d2"
      },
      "execution_count": 10,
      "outputs": [
        {
          "output_type": "execute_result",
          "data": {
            "text/plain": [
              "True"
            ]
          },
          "metadata": {},
          "execution_count": 10
        }
      ]
    },
    {
      "cell_type": "markdown",
      "source": [
        "6. Создать массив a, состоящий из целых чисел, убывающих от 20 до 0 невключительно с интервалом 2."
      ],
      "metadata": {
        "id": "lD8l1cPu0Akm"
      }
    },
    {
      "cell_type": "code",
      "source": [
        "a = np.arange(20, 0, -2)\n",
        "print(\"a = \", a)"
      ],
      "metadata": {
        "colab": {
          "base_uri": "https://localhost:8080/"
        },
        "id": "SQJhOtT907Z7",
        "outputId": "473b45cc-50f8-472a-a279-16a1fb2d814e"
      },
      "execution_count": 11,
      "outputs": [
        {
          "output_type": "stream",
          "name": "stdout",
          "text": [
            "a =  [20 18 16 14 12 10  8  6  4  2]\n"
          ]
        }
      ]
    },
    {
      "cell_type": "markdown",
      "source": [
        "7. Создать массив b, состоящий из 1 строки и 10 столбцов: целых чисел, убывающих от 20 до 1 невключительно с интервалом 2. В чем разница между массивами a и b?"
      ],
      "metadata": {
        "id": "nrOdIsDO0Ftn"
      }
    },
    {
      "cell_type": "code",
      "source": [
        "b = np.arange(20, 1, -2)\n",
        "print(\"b = \", b)"
      ],
      "metadata": {
        "colab": {
          "base_uri": "https://localhost:8080/"
        },
        "id": "oNiIbdqE1jWc",
        "outputId": "515181dc-bcf7-46e9-e44d-350b801cdac6"
      },
      "execution_count": 12,
      "outputs": [
        {
          "output_type": "stream",
          "name": "stdout",
          "text": [
            "b =  [20 18 16 14 12 10  8  6  4  2]\n"
          ]
        }
      ]
    },
    {
      "cell_type": "code",
      "source": [
        "n = np.array_equal(a, b)\n",
        "print(n)\n",
        "if n == True:\n",
        "  print('Разницы нет. В обоих случаях получаются одинаковые массивы')\n",
        "else:\n",
        "  print('Разница есть')"
      ],
      "metadata": {
        "colab": {
          "base_uri": "https://localhost:8080/"
        },
        "id": "rMeVt7Tn3_Et",
        "outputId": "dc16977f-d63b-4321-b795-1b7ffbdb371d"
      },
      "execution_count": 13,
      "outputs": [
        {
          "output_type": "stream",
          "name": "stdout",
          "text": [
            "True\n",
            "Разницы нет. В обоих случаях получаются одинаковые массивы\n"
          ]
        }
      ]
    },
    {
      "cell_type": "markdown",
      "source": [
        "8. Вертикально соединить массивы a и b. a - двумерный массив из нулей, число строк которого больше 1 и на 1 меньше, чем число строк двумерного массива b, состоящего из единиц.\n",
        "Итоговый массив v должен иметь атрибут size, равный 10."
      ],
      "metadata": {
        "id": "LEMEWj470L0f"
      }
    },
    {
      "cell_type": "code",
      "source": [
        "a = np.zeros((2, 2))\n",
        "b = np.ones((3, 2))\n",
        "print('Массив a ', a, sep='\\n')\n",
        "print('Массив b ', b, sep='\\n')\n"
      ],
      "metadata": {
        "colab": {
          "base_uri": "https://localhost:8080/"
        },
        "id": "aIHZes7Z2uGN",
        "outputId": "7f8b0bd1-b263-4aff-8407-f63c71a0d61f"
      },
      "execution_count": 14,
      "outputs": [
        {
          "output_type": "stream",
          "name": "stdout",
          "text": [
            "Массив a \n",
            "[[0. 0.]\n",
            " [0. 0.]]\n",
            "Массив b \n",
            "[[1. 1.]\n",
            " [1. 1.]\n",
            " [1. 1.]]\n"
          ]
        }
      ]
    },
    {
      "cell_type": "code",
      "source": [
        "v = np.vstack((a, b))\n",
        "print(\"Итоговый массив\\n\", v)"
      ],
      "metadata": {
        "colab": {
          "base_uri": "https://localhost:8080/"
        },
        "id": "9v1GGrvj4lh-",
        "outputId": "6ca71752-d608-4842-eadc-67687089b65d"
      },
      "execution_count": 15,
      "outputs": [
        {
          "output_type": "stream",
          "name": "stdout",
          "text": [
            "Итоговый массив\n",
            " [[0. 0.]\n",
            " [0. 0.]\n",
            " [1. 1.]\n",
            " [1. 1.]\n",
            " [1. 1.]]\n"
          ]
        }
      ]
    },
    {
      "cell_type": "code",
      "source": [
        "v.size"
      ],
      "metadata": {
        "colab": {
          "base_uri": "https://localhost:8080/"
        },
        "id": "0KB2vdEI47jz",
        "outputId": "7b0b7bdd-22c4-42d6-e7e2-82a31440a70b"
      },
      "execution_count": 16,
      "outputs": [
        {
          "output_type": "execute_result",
          "data": {
            "text/plain": [
              "10"
            ]
          },
          "metadata": {},
          "execution_count": 16
        }
      ]
    },
    {
      "cell_type": "markdown",
      "source": [
        "9. Создать одномерный массив а, состоящий из последовательности целых чисел от 0 до 12.\n",
        "Поменять форму этого массива, чтобы получилась матрица A (двумерный массив Numpy), состоящая из 4 строк и 3 столбцов. Получить матрицу At путем транспонирования матрицы A.\n",
        "Получить матрицу B, умножив матрицу A на матрицу At с помощью матричного умножения.\n",
        "Какой размер имеет матрица B? Получится ли вычислить обратную матрицу для матрицы B и почему?"
      ],
      "metadata": {
        "id": "r0Hdkwij0Rx5"
      }
    },
    {
      "cell_type": "code",
      "source": [
        "a = np.arange(0, 12)\n",
        "print(a)"
      ],
      "metadata": {
        "colab": {
          "base_uri": "https://localhost:8080/"
        },
        "id": "UA6p-dwQ621H",
        "outputId": "fc18a749-5872-4c2a-ac52-1ba2e3974baa"
      },
      "execution_count": 17,
      "outputs": [
        {
          "output_type": "stream",
          "name": "stdout",
          "text": [
            "[ 0  1  2  3  4  5  6  7  8  9 10 11]\n"
          ]
        }
      ]
    },
    {
      "cell_type": "code",
      "source": [
        "A = a.reshape(4, 3)\n",
        "print(A)"
      ],
      "metadata": {
        "colab": {
          "base_uri": "https://localhost:8080/"
        },
        "id": "pRWnNnlB68tE",
        "outputId": "58eb40a1-3610-462d-eb14-4e682b5106f9"
      },
      "execution_count": 18,
      "outputs": [
        {
          "output_type": "stream",
          "name": "stdout",
          "text": [
            "[[ 0  1  2]\n",
            " [ 3  4  5]\n",
            " [ 6  7  8]\n",
            " [ 9 10 11]]\n"
          ]
        }
      ]
    },
    {
      "cell_type": "code",
      "source": [
        "At = A.transpose()\n",
        "print(At)"
      ],
      "metadata": {
        "colab": {
          "base_uri": "https://localhost:8080/"
        },
        "id": "lv2zHqfx7C3L",
        "outputId": "f8ab733c-0d4b-42c1-d017-4a1521f6abb3"
      },
      "execution_count": 19,
      "outputs": [
        {
          "output_type": "stream",
          "name": "stdout",
          "text": [
            "[[ 0  3  6  9]\n",
            " [ 1  4  7 10]\n",
            " [ 2  5  8 11]]\n"
          ]
        }
      ]
    },
    {
      "cell_type": "code",
      "source": [
        "B = np.dot(A, At)\n",
        "print(B)"
      ],
      "metadata": {
        "colab": {
          "base_uri": "https://localhost:8080/"
        },
        "id": "lvgEXArb7Icc",
        "outputId": "9c804c3c-09b1-4170-cfab-dd4f4587cbbf"
      },
      "execution_count": 20,
      "outputs": [
        {
          "output_type": "stream",
          "name": "stdout",
          "text": [
            "[[  5  14  23  32]\n",
            " [ 14  50  86 122]\n",
            " [ 23  86 149 212]\n",
            " [ 32 122 212 302]]\n"
          ]
        }
      ]
    },
    {
      "cell_type": "code",
      "source": [
        "print('Размер матрицы В:', B.shape)"
      ],
      "metadata": {
        "colab": {
          "base_uri": "https://localhost:8080/"
        },
        "id": "B2b8a-nh7UiN",
        "outputId": "312f7ce6-a3b8-4f2c-d06f-2878e756e65a"
      },
      "execution_count": 21,
      "outputs": [
        {
          "output_type": "stream",
          "name": "stdout",
          "text": [
            "Размер матрицы В: (4, 4)\n"
          ]
        }
      ]
    },
    {
      "cell_type": "code",
      "source": [
        "np.linalg.det(B)"
      ],
      "metadata": {
        "colab": {
          "base_uri": "https://localhost:8080/"
        },
        "id": "iPyWjKkS52qk",
        "outputId": "9bab0a60-34ba-4605-fc8c-1e8c1db3b8be"
      },
      "execution_count": 22,
      "outputs": [
        {
          "output_type": "execute_result",
          "data": {
            "text/plain": [
              "0.0"
            ]
          },
          "metadata": {},
          "execution_count": 22
        }
      ]
    },
    {
      "cell_type": "markdown",
      "source": [
        "10. Инициализируйте генератор случайных числе с помощью объекта seed, равного 42."
      ],
      "metadata": {
        "id": "mNDOL_Kb0Y3e"
      }
    },
    {
      "cell_type": "code",
      "source": [
        "np.random.seed(42)"
      ],
      "metadata": {
        "id": "YGo114w36hJE"
      },
      "execution_count": 23,
      "outputs": []
    },
    {
      "cell_type": "markdown",
      "source": [
        "11. Создайте одномерный массив c, составленный из последовательности 16-ти  случайных равномерно распределенных целых чисел от 0 до 16 невключительно.\n"
      ],
      "metadata": {
        "id": "ipirV7fD0cTu"
      }
    },
    {
      "cell_type": "code",
      "source": [
        "c = np.random.randint(0, 16, 16)\n",
        "print(c)"
      ],
      "metadata": {
        "colab": {
          "base_uri": "https://localhost:8080/"
        },
        "id": "0ThfMd1J7nmc",
        "outputId": "33c05dd9-cb6b-414c-a908-9e5ef9310a03"
      },
      "execution_count": 24,
      "outputs": [
        {
          "output_type": "stream",
          "name": "stdout",
          "text": [
            "[ 6  3 12 14 10  7 12  4  6  9  2  6 10 10  7  4]\n"
          ]
        }
      ]
    },
    {
      "cell_type": "markdown",
      "source": [
        "12. Поменяйте его форму так, чтобы получилась квадратная матрица C. Получите матрицу D, поэлементно прибавив матрицу B из предыдущего вопроса к матрице C, умноженной на 10.\n",
        "Вычислите определитель, ранг и обратную матрицу D_inv для D."
      ],
      "metadata": {
        "id": "tRhXDrar6Al2"
      }
    },
    {
      "cell_type": "code",
      "source": [
        "C = c.reshape(4,4)\n",
        "print(C)"
      ],
      "metadata": {
        "colab": {
          "base_uri": "https://localhost:8080/"
        },
        "id": "_Ke4b-rl8Aj7",
        "outputId": "bbf77c5b-d46e-4bab-c15b-a61c834ce52b"
      },
      "execution_count": 25,
      "outputs": [
        {
          "output_type": "stream",
          "name": "stdout",
          "text": [
            "[[ 6  3 12 14]\n",
            " [10  7 12  4]\n",
            " [ 6  9  2  6]\n",
            " [10 10  7  4]]\n"
          ]
        }
      ]
    },
    {
      "cell_type": "code",
      "source": [
        "D = B+C*10\n",
        "print(D)"
      ],
      "metadata": {
        "colab": {
          "base_uri": "https://localhost:8080/"
        },
        "id": "LstoOK-A8Hw8",
        "outputId": "0b94c1e4-0e7f-443c-a5bc-7322e3dfb86b"
      },
      "execution_count": 26,
      "outputs": [
        {
          "output_type": "stream",
          "name": "stdout",
          "text": [
            "[[ 65  44 143 172]\n",
            " [114 120 206 162]\n",
            " [ 83 176 169 272]\n",
            " [132 222 282 342]]\n"
          ]
        }
      ]
    },
    {
      "cell_type": "code",
      "source": [
        "np.linalg.det(D)"
      ],
      "metadata": {
        "colab": {
          "base_uri": "https://localhost:8080/"
        },
        "id": "RMp5ejUf8eq8",
        "outputId": "a56eb162-5eed-426e-83bd-92a40c06ae59"
      },
      "execution_count": 27,
      "outputs": [
        {
          "output_type": "execute_result",
          "data": {
            "text/plain": [
              "-28511999.999999944"
            ]
          },
          "metadata": {},
          "execution_count": 27
        }
      ]
    },
    {
      "cell_type": "code",
      "source": [
        "D_inv = np.linalg.inv(D)\n",
        "print('Обратная матрица D_inv для D: \\n', D_inv)"
      ],
      "metadata": {
        "colab": {
          "base_uri": "https://localhost:8080/"
        },
        "id": "ROsMys8m8old",
        "outputId": "76f57fbf-3499-4127-a441-d97584df7a2b"
      },
      "execution_count": 28,
      "outputs": [
        {
          "output_type": "stream",
          "name": "stdout",
          "text": [
            "Обратная матрица D_inv для D: \n",
            " [[ 0.00935396  0.04486532  0.05897517 -0.07286055]\n",
            " [-0.01503577 -0.00122896 -0.00192971  0.00967873]\n",
            " [-0.00356692 -0.01782828 -0.04152146  0.04326178]\n",
            " [ 0.00909091 -0.00181818  0.01272727 -0.01090909]]\n"
          ]
        }
      ]
    },
    {
      "cell_type": "markdown",
      "source": [
        "13. Приравняйте к нулю отрицательные числа в матрице D_inv, а положительные - к единице.\n",
        "Убедитесь, что в матрице D_inv остались только нули и единицы. С помощью функции\n",
        "numpy.where, используя матрицу D_inv в качестве маски, а матрицы B и C - в качестве источников данных, получите матрицу E размером 4x4. Элементы матрицы E, для которых соответствующий элемент матрицы D_inv равен 1, должны быть равны соответствующему элементу матрицы B, а элементы матрицы E, для которых соответствующий элемент матрицы D_inv равен 0, должны быть равны соответствующему элементу матрицы C."
      ],
      "metadata": {
        "id": "VWVkDBnb6K1J"
      }
    },
    {
      "cell_type": "code",
      "source": [
        "D_inv = np.where(D_inv<0, 0, 1)\n",
        "print(D_inv)"
      ],
      "metadata": {
        "colab": {
          "base_uri": "https://localhost:8080/"
        },
        "id": "HZDi3oAf8Vu5",
        "outputId": "4f79051b-7f70-494b-838a-10b1f1100efc"
      },
      "execution_count": 29,
      "outputs": [
        {
          "output_type": "stream",
          "name": "stdout",
          "text": [
            "[[1 1 1 0]\n",
            " [0 0 0 1]\n",
            " [0 0 0 1]\n",
            " [1 0 1 0]]\n"
          ]
        }
      ]
    },
    {
      "cell_type": "code",
      "source": [
        "E = np.where(D_inv, B, C)\n",
        "print('Матрица Е: \\n', E)"
      ],
      "metadata": {
        "colab": {
          "base_uri": "https://localhost:8080/"
        },
        "id": "k8Ff2GA09HqL",
        "outputId": "6a883dd2-fd71-457d-c006-876728b4cd55"
      },
      "execution_count": 30,
      "outputs": [
        {
          "output_type": "stream",
          "name": "stdout",
          "text": [
            "Матрица Е: \n",
            " [[  5  14  23  14]\n",
            " [ 10   7  12 122]\n",
            " [  6   9   2 212]\n",
            " [ 32  10 212   4]]\n"
          ]
        }
      ]
    }
  ]
}