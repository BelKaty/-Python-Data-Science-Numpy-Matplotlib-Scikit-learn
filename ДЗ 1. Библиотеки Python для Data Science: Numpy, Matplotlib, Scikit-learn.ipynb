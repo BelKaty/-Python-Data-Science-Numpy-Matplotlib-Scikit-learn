{
  "nbformat": 4,
  "nbformat_minor": 0,
  "metadata": {
    "colab": {
      "provenance": [],
      "authorship_tag": "ABX9TyNtmYWkLgUg1Q6cEDVIpyp5",
      "include_colab_link": true
    },
    "kernelspec": {
      "name": "python3",
      "display_name": "Python 3"
    },
    "language_info": {
      "name": "python"
    }
  },
  "cells": [
    {
      "cell_type": "markdown",
      "metadata": {
        "id": "view-in-github",
        "colab_type": "text"
      },
      "source": [
        "<a href=\"https://colab.research.google.com/github/BelKaty/-Python-Data-Science-Numpy-Matplotlib-Scikit-learn/blob/main/%D0%94%D0%97%201.%20%D0%91%D0%B8%D0%B1%D0%BB%D0%B8%D0%BE%D1%82%D0%B5%D0%BA%D0%B8%20Python%20%D0%B4%D0%BB%D1%8F%20Data%20Science%3A%20Numpy%2C%20Matplotlib%2C%20Scikit-learn.ipynb\" target=\"_parent\"><img src=\"https://colab.research.google.com/assets/colab-badge.svg\" alt=\"Open In Colab\"/></a>"
      ]
    },
    {
      "cell_type": "markdown",
      "source": [
        "#Библиотеки Python для Data Science: Numpy, Matplotlib, Scikit-learn"
      ],
      "metadata": {
        "id": "eAvhuR2LgYpq"
      }
    },
    {
      "cell_type": "markdown",
      "source": [
        "###Тема “Работа с данными в Pandas”"
      ],
      "metadata": {
        "id": "Y0mggfodgST9"
      }
    },
    {
      "cell_type": "markdown",
      "source": [
        "Задание 1\n",
        "\n",
        "Импортируйте библиотеку Pandas и дайте ей псевдоним pd. Создайте датафрейм authors со столбцами author_id и author_name, в которых соответственно содержатся данные: [1, 2, 3] и ['Тургенев', 'Чехов', 'Островский'].\n",
        "\n",
        "Затем создайте датафрейм book cо столбцами author_id, book_title и price, в которых соответственно содержатся данные:\n",
        "\n",
        "[1, 1, 1, 2, 2, 3, 3],\n",
        "\n",
        "['Отцы и дети', 'Рудин', 'Дворянское гнездо', 'Толстый и тонкий', 'Дама с собачкой', 'Гроза', 'Таланты и поклонники']\n",
        "\n",
        "Нужны prices!\n",
        "\n",
        "[500, 400, 300, 350, 450, 600, 200]"
      ],
      "metadata": {
        "id": "G1J2gMsvgikz"
      }
    },
    {
      "cell_type": "code",
      "execution_count": 1,
      "metadata": {
        "id": "ajXijG79gIYy"
      },
      "outputs": [],
      "source": [
        "import pandas as pd\n",
        "import numpy as np"
      ]
    },
    {
      "cell_type": "code",
      "source": [
        "authors = pd.DataFrame({'author_id':[1, 2, 3],\n",
        "                        'author_name':['Тургенев', 'Чехов', 'Островский']},\n",
        "                       columns=['author_id', 'author_name'])"
      ],
      "metadata": {
        "id": "80GLaFezhp4y"
      },
      "execution_count": 2,
      "outputs": []
    },
    {
      "cell_type": "code",
      "source": [
        "book = pd.DataFrame({'author_id':[1, 1, 1, 2, 2, 3, 3],\n",
        "                     'book_title':['Отцы и дети', 'Рудин', 'Дворянское гнездо', 'Толстый и тонкий', 'Дама с собачкой', 'Гроза', 'Таланты и поклонники'],\n",
        "                     'price':[450, 300, 350, 500, 450, 370, 290]},\n",
        "                    columns=['author_id', 'book_title', 'price'])"
      ],
      "metadata": {
        "id": "UtE-hCDwh_MV"
      },
      "execution_count": 3,
      "outputs": []
    },
    {
      "cell_type": "code",
      "source": [
        "print('Датафрейм AUTHORS \\n', authors)\n",
        "print('Датафрейм BOOK \\n', book)"
      ],
      "metadata": {
        "colab": {
          "base_uri": "https://localhost:8080/"
        },
        "id": "-2kR1DmbiCw7",
        "outputId": "3b96fc06-213e-491a-97c5-26b49fbec509"
      },
      "execution_count": 4,
      "outputs": [
        {
          "output_type": "stream",
          "name": "stdout",
          "text": [
            "Датафрейм AUTHORS \n",
            "    author_id author_name\n",
            "0          1    Тургенев\n",
            "1          2       Чехов\n",
            "2          3  Островский\n",
            "Датафрейм BOOK \n",
            "    author_id            book_title  price\n",
            "0          1           Отцы и дети    450\n",
            "1          1                 Рудин    300\n",
            "2          1     Дворянское гнездо    350\n",
            "3          2      Толстый и тонкий    500\n",
            "4          2       Дама с собачкой    450\n",
            "5          3                 Гроза    370\n",
            "6          3  Таланты и поклонники    290\n"
          ]
        }
      ]
    },
    {
      "cell_type": "markdown",
      "source": [
        "Задание 2\n",
        "\n",
        "Получите датафрейм authors_price, соединив дата фреймы authors и books по полю author_id"
      ],
      "metadata": {
        "id": "Sr02_tlCifji"
      }
    },
    {
      "cell_type": "code",
      "source": [
        "authors_price = pd.merge(authors, book, on = 'author_id', how = 'outer')"
      ],
      "metadata": {
        "id": "zK4EdmMiimza"
      },
      "execution_count": 5,
      "outputs": []
    },
    {
      "cell_type": "code",
      "source": [
        "print('Датафрейм AUTHORS_PRICE \\n', authors_price)"
      ],
      "metadata": {
        "colab": {
          "base_uri": "https://localhost:8080/"
        },
        "id": "nBVWCpXhitcj",
        "outputId": "c9c23d4f-2d16-4bd8-c308-cd7676ab836b"
      },
      "execution_count": 6,
      "outputs": [
        {
          "output_type": "stream",
          "name": "stdout",
          "text": [
            "Датафрейм AUTHORS_PRICE \n",
            "    author_id author_name            book_title  price\n",
            "0          1    Тургенев           Отцы и дети    450\n",
            "1          1    Тургенев                 Рудин    300\n",
            "2          1    Тургенев     Дворянское гнездо    350\n",
            "3          2       Чехов      Толстый и тонкий    500\n",
            "4          2       Чехов       Дама с собачкой    450\n",
            "5          3  Островский                 Гроза    370\n",
            "6          3  Островский  Таланты и поклонники    290\n"
          ]
        }
      ]
    },
    {
      "cell_type": "markdown",
      "source": [
        "Задание 3\n",
        "\n",
        "Создайте датафрейм top5, в котором содержатся строки из authors_price с пятью самыми дорогими книгами.\n"
      ],
      "metadata": {
        "id": "cKn_kcz2izrE"
      }
    },
    {
      "cell_type": "code",
      "source": [
        "top5 = authors_price.nlargest(5, 'price')"
      ],
      "metadata": {
        "id": "njZdB-jKizNC"
      },
      "execution_count": 7,
      "outputs": []
    },
    {
      "cell_type": "code",
      "source": [
        "print('Top 5 \\n', top5)"
      ],
      "metadata": {
        "colab": {
          "base_uri": "https://localhost:8080/"
        },
        "id": "TTut6mOZjRjl",
        "outputId": "7869f391-af02-4ee2-dc05-39713cbe124c"
      },
      "execution_count": 8,
      "outputs": [
        {
          "output_type": "stream",
          "name": "stdout",
          "text": [
            "Top 5 \n",
            "    author_id author_name         book_title  price\n",
            "3          2       Чехов   Толстый и тонкий    500\n",
            "0          1    Тургенев        Отцы и дети    450\n",
            "4          2       Чехов    Дама с собачкой    450\n",
            "5          3  Островский              Гроза    370\n",
            "2          1    Тургенев  Дворянское гнездо    350\n"
          ]
        }
      ]
    },
    {
      "cell_type": "markdown",
      "source": [
        "Задание 4\n",
        "\n",
        "Создайте датафрейм authors_stat на основе информации из authors_price. В датафрейме authors_stat должны быть четыре столбца:\n",
        "\n",
        "author_name, min_price, max_price и mean_price,\n",
        "\n",
        "в которых должны содержаться соответственно имя автора, минимальная, максимальная и средняя цена на книги этого автора"
      ],
      "metadata": {
        "id": "apWZzbaDjXgj"
      }
    },
    {
      "cell_type": "code",
      "source": [
        "authors_stat = authors_price.groupby('author_name').agg({'price':['min', 'max', 'mean']})\n",
        "authors_stat = authors_stat.rename(columns={'min':'min_price', 'max':'max_price', 'mean':'mean_price'})"
      ],
      "metadata": {
        "id": "5j66_D27jo-1"
      },
      "execution_count": 9,
      "outputs": []
    },
    {
      "cell_type": "code",
      "source": [
        "print('AUTHORS_STAT \\n', authors_stat)"
      ],
      "metadata": {
        "colab": {
          "base_uri": "https://localhost:8080/"
        },
        "id": "Rwm4CO4Hjvpq",
        "outputId": "2ae62904-6f00-44d6-f784-6384d6040e3d"
      },
      "execution_count": 10,
      "outputs": [
        {
          "output_type": "stream",
          "name": "stdout",
          "text": [
            "AUTHORS_STAT \n",
            "                 price                      \n",
            "            min_price max_price  mean_price\n",
            "author_name                                \n",
            "Островский        290       370  330.000000\n",
            "Тургенев          300       450  366.666667\n",
            "Чехов             450       500  475.000000\n"
          ]
        }
      ]
    },
    {
      "cell_type": "markdown",
      "source": [
        "Задание 5**\n",
        "\n",
        "Создайте новый столбец в датафрейме authors_price под названием cover, в нем будут располагаться данные о том, какая обложка у данной книги - твердая или мягкая. В этот столбец поместите данные из следующего списка:\n",
        "\n",
        "['твердая', 'мягкая', 'мягкая', 'твердая', 'твердая', 'мягкая', 'мягкая']."
      ],
      "metadata": {
        "id": "nZ2oMhJij4wF"
      }
    },
    {
      "cell_type": "code",
      "source": [
        "authors_price['cover'] = ['твердая', 'мягкая', 'мягкая', 'твердая', 'твердая', 'мягкая', 'мягкая']\n",
        "print('AUTHORS_PRICE \\n', authors_price)"
      ],
      "metadata": {
        "colab": {
          "base_uri": "https://localhost:8080/"
        },
        "id": "75I3divmmxQF",
        "outputId": "d3449481-7b1d-4998-a517-36e6730bff5e"
      },
      "execution_count": 11,
      "outputs": [
        {
          "output_type": "stream",
          "name": "stdout",
          "text": [
            "AUTHORS_PRICE \n",
            "    author_id author_name            book_title  price    cover\n",
            "0          1    Тургенев           Отцы и дети    450  твердая\n",
            "1          1    Тургенев                 Рудин    300   мягкая\n",
            "2          1    Тургенев     Дворянское гнездо    350   мягкая\n",
            "3          2       Чехов      Толстый и тонкий    500  твердая\n",
            "4          2       Чехов       Дама с собачкой    450  твердая\n",
            "5          3  Островский                 Гроза    370   мягкая\n",
            "6          3  Островский  Таланты и поклонники    290   мягкая\n"
          ]
        }
      ]
    },
    {
      "cell_type": "markdown",
      "source": [
        "Просмотрите документацию по функции pd.pivot table с помощью вопросительного знака.\n",
        "\n",
        "Для каждого автора посчитайте суммарную стоимость книг в твердой и мягкой обложке. Используйте для этого функцию pd.pivot_table. При этом столбцы должны называться \"твердая\" и \"мягкая\", а индексами должны быть фамилии авторов. Пропущенные значения стоимостей заполните нулями, при необходимости загрузите библиотеку Numpy."
      ],
      "metadata": {
        "id": "Utg3GL1hm4dW"
      }
    },
    {
      "cell_type": "code",
      "source": [
        "book_info = pd.pivot_table(authors_price, values='price', index=['author_name'], columns=['cover'], aggfunc=np.sum)\n",
        "book_info['твердая'] = book_info['твердая'].fillna(0)\n",
        "book_info['мягкая'] = book_info['мягкая'].fillna(0)\n",
        "print('Суммарная стоимость книг \\n', book_info)\n",
        "book_info.to_pickle('book_info.pkl')"
      ],
      "metadata": {
        "colab": {
          "base_uri": "https://localhost:8080/"
        },
        "id": "u5Gsu5IfkPhi",
        "outputId": "68b31142-cf82-44ff-ae32-dc4845ae6ebb"
      },
      "execution_count": 12,
      "outputs": [
        {
          "output_type": "stream",
          "name": "stdout",
          "text": [
            "Суммарная стоимость книг \n",
            " cover        мягкая  твердая\n",
            "author_name                 \n",
            "Островский    660.0      0.0\n",
            "Тургенев      650.0    450.0\n",
            "Чехов           0.0    950.0\n"
          ]
        }
      ]
    },
    {
      "cell_type": "markdown",
      "source": [
        "Затем загрузите из этого файла датафрейм и назовите его book_info2. Удостоверьтесь, что датафреймы book_info и book_info2 идентичны."
      ],
      "metadata": {
        "id": "6fVZfe-8kee3"
      }
    },
    {
      "cell_type": "code",
      "source": [
        "book_info2 = pd.read_pickle('book_info.pkl')\n",
        "book_info.equals(book_info2)"
      ],
      "metadata": {
        "colab": {
          "base_uri": "https://localhost:8080/"
        },
        "id": "iJaGUmYBkw_6",
        "outputId": "91674327-06bf-42aa-d078-2f0a50b5924e"
      },
      "execution_count": 13,
      "outputs": [
        {
          "output_type": "execute_result",
          "data": {
            "text/plain": [
              "True"
            ]
          },
          "metadata": {},
          "execution_count": 13
        }
      ]
    }
  ]
}